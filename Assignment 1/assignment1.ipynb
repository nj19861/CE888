{
 "metadata": {
  "language_info": {
   "codemirror_mode": {
    "name": "ipython",
    "version": 3
   },
   "file_extension": ".py",
   "mimetype": "text/x-python",
   "name": "python",
   "nbconvert_exporter": "python",
   "pygments_lexer": "ipython3",
   "version": "3.7.9-final"
  },
  "orig_nbformat": 2,
  "kernelspec": {
   "name": "python3",
   "display_name": "Python 3.7.9 64-bit ('ce802': conda)",
   "metadata": {
    "interpreter": {
     "hash": "e07ba5245cc8c83033f91238e854835efe5e5c7687c67e5fd5e0db5ce89b50be"
    }
   }
  }
 },
 "nbformat": 4,
 "nbformat_minor": 2,
 "cells": [
  {
   "cell_type": "code",
   "execution_count": 13,
   "metadata": {},
   "outputs": [],
   "source": [
    "from tensorflow import keras\n",
    "import config\n",
    "from PIL import Image \n",
    "import os\n",
    "import pandas as pd"
   ]
  },
  {
   "cell_type": "code",
   "execution_count": 2,
   "metadata": {},
   "outputs": [
    {
     "output_type": "stream",
     "name": "stdout",
     "text": [
      "Fire-vs-NoFire\\Training\n"
     ]
    }
   ],
   "source": [
    "print(config.train_dir)"
   ]
  },
  {
   "cell_type": "code",
   "execution_count": 3,
   "metadata": {},
   "outputs": [],
   "source": [
    "train_dir =  config.train_dir\n",
    "\n",
    "\n",
    "    # 0 is Fire and 1 is NO_Fire\n",
    "fire_imgs = [fn for fn in os.listdir(f'{train_dir}/Fire') if fn.endswith('.jpg')]\n",
    "no_fire_imgs = [fn for fn in os.listdir(f'{train_dir}/No_fire') if fn.endswith('.jpg')]"
   ]
  },
  {
   "cell_type": "code",
   "execution_count": 4,
   "metadata": {},
   "outputs": [
    {
     "output_type": "execute_result",
     "data": {
      "text/plain": [
       "(25018, 14357)"
      ]
     },
     "metadata": {},
     "execution_count": 4
    }
   ],
   "source": [
    "len(fire_imgs), len(no_fire_imgs)"
   ]
  },
  {
   "cell_type": "code",
   "execution_count": 10,
   "metadata": {},
   "outputs": [],
   "source": [
    "list_category = []\n",
    "list_size =[]\n",
    "list_mode = []\n",
    "list_format = []\n",
    "list_name = []\n",
    "\n",
    "for fire_img in fire_imgs:\n",
    "    list_name.append(fire_img)\n",
    "    list_category.append('Fire')\n",
    "    src = os.path.join(train_dir, 'Fire\\\\'+fire_img)\n",
    "    #print(src)\n",
    "    image = Image.open(src) \n",
    "    list_mode.append(image.mode)\n",
    "    list_size.append(image.size)\n",
    "    list_format.append(image.format)\n",
    "    \n",
    "\n",
    "\n"
   ]
  },
  {
   "cell_type": "code",
   "execution_count": 11,
   "metadata": {},
   "outputs": [],
   "source": [
    "for no_fire_img in no_fire_imgs:\n",
    "    list_name.append(no_fire_img)\n",
    "    list_category.append('No_Fire')\n",
    "    src = os.path.join(train_dir, 'No_Fire\\\\'+no_fire_img)\n",
    "    #print(src)\n",
    "    image = Image.open(src) \n",
    "    list_mode.append(image.mode)\n",
    "    list_size.append(image.size)\n",
    "    list_format.append(image.format)"
   ]
  },
  {
   "cell_type": "code",
   "execution_count": 18,
   "metadata": {},
   "outputs": [],
   "source": [
    "df = pd.DataFrame({'image_name':list_name,'image_size':list_size,'image_mode':list_mode,'image_format':list_format,'category':list_category})"
   ]
  },
  {
   "cell_type": "code",
   "execution_count": 19,
   "metadata": {},
   "outputs": [
    {
     "output_type": "execute_result",
     "data": {
      "text/plain": [
       "                  image_name  image_size image_mode image_format category\n",
       "0         resized_frame0.jpg  (254, 254)        RGB         JPEG     Fire\n",
       "1         resized_frame1.jpg  (254, 254)        RGB         JPEG     Fire\n",
       "2        resized_frame10.jpg  (254, 254)        RGB         JPEG     Fire\n",
       "3       resized_frame100.jpg  (254, 254)        RGB         JPEG     Fire\n",
       "4      resized_frame1000.jpg  (254, 254)        RGB         JPEG     Fire\n",
       "...                      ...         ...        ...          ...      ...\n",
       "39370  resized_frame6876.jpg  (254, 254)        RGB         JPEG  No_Fire\n",
       "39371  resized_frame6877.jpg  (254, 254)        RGB         JPEG  No_Fire\n",
       "39372  resized_frame6878.jpg  (254, 254)        RGB         JPEG  No_Fire\n",
       "39373  resized_frame6879.jpg  (254, 254)        RGB         JPEG  No_Fire\n",
       "39374  resized_frame6880.jpg  (254, 254)        RGB         JPEG  No_Fire\n",
       "\n",
       "[39375 rows x 5 columns]"
      ],
      "text/html": "<div>\n<style scoped>\n    .dataframe tbody tr th:only-of-type {\n        vertical-align: middle;\n    }\n\n    .dataframe tbody tr th {\n        vertical-align: top;\n    }\n\n    .dataframe thead th {\n        text-align: right;\n    }\n</style>\n<table border=\"1\" class=\"dataframe\">\n  <thead>\n    <tr style=\"text-align: right;\">\n      <th></th>\n      <th>image_name</th>\n      <th>image_size</th>\n      <th>image_mode</th>\n      <th>image_format</th>\n      <th>category</th>\n    </tr>\n  </thead>\n  <tbody>\n    <tr>\n      <th>0</th>\n      <td>resized_frame0.jpg</td>\n      <td>(254, 254)</td>\n      <td>RGB</td>\n      <td>JPEG</td>\n      <td>Fire</td>\n    </tr>\n    <tr>\n      <th>1</th>\n      <td>resized_frame1.jpg</td>\n      <td>(254, 254)</td>\n      <td>RGB</td>\n      <td>JPEG</td>\n      <td>Fire</td>\n    </tr>\n    <tr>\n      <th>2</th>\n      <td>resized_frame10.jpg</td>\n      <td>(254, 254)</td>\n      <td>RGB</td>\n      <td>JPEG</td>\n      <td>Fire</td>\n    </tr>\n    <tr>\n      <th>3</th>\n      <td>resized_frame100.jpg</td>\n      <td>(254, 254)</td>\n      <td>RGB</td>\n      <td>JPEG</td>\n      <td>Fire</td>\n    </tr>\n    <tr>\n      <th>4</th>\n      <td>resized_frame1000.jpg</td>\n      <td>(254, 254)</td>\n      <td>RGB</td>\n      <td>JPEG</td>\n      <td>Fire</td>\n    </tr>\n    <tr>\n      <th>...</th>\n      <td>...</td>\n      <td>...</td>\n      <td>...</td>\n      <td>...</td>\n      <td>...</td>\n    </tr>\n    <tr>\n      <th>39370</th>\n      <td>resized_frame6876.jpg</td>\n      <td>(254, 254)</td>\n      <td>RGB</td>\n      <td>JPEG</td>\n      <td>No_Fire</td>\n    </tr>\n    <tr>\n      <th>39371</th>\n      <td>resized_frame6877.jpg</td>\n      <td>(254, 254)</td>\n      <td>RGB</td>\n      <td>JPEG</td>\n      <td>No_Fire</td>\n    </tr>\n    <tr>\n      <th>39372</th>\n      <td>resized_frame6878.jpg</td>\n      <td>(254, 254)</td>\n      <td>RGB</td>\n      <td>JPEG</td>\n      <td>No_Fire</td>\n    </tr>\n    <tr>\n      <th>39373</th>\n      <td>resized_frame6879.jpg</td>\n      <td>(254, 254)</td>\n      <td>RGB</td>\n      <td>JPEG</td>\n      <td>No_Fire</td>\n    </tr>\n    <tr>\n      <th>39374</th>\n      <td>resized_frame6880.jpg</td>\n      <td>(254, 254)</td>\n      <td>RGB</td>\n      <td>JPEG</td>\n      <td>No_Fire</td>\n    </tr>\n  </tbody>\n</table>\n<p>39375 rows × 5 columns</p>\n</div>"
     },
     "metadata": {},
     "execution_count": 19
    }
   ],
   "source": [
    "df"
   ]
  },
  {
   "cell_type": "code",
   "execution_count": null,
   "metadata": {},
   "outputs": [],
   "source": [
    "df"
   ]
  }
 ]
}