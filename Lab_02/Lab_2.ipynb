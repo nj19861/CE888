{
  "nbformat": 4,
  "nbformat_minor": 0,
  "metadata": {
    "colab": {
      "name": "Copy of bootstrap.ipynb",
      "provenance": []
    },
    "kernelspec": {
      "name": "python379jvsc74a57bd0e07ba5245cc8c83033f91238e854835efe5e5c7687c67e5fd5e0db5ce89b50be",
      "display_name": "Python 3.7.9 64-bit ('ce802': conda)"
    },
    "language_info": {
      "codemirror_mode": {
        "name": "ipython",
        "version": 3
      },
      "file_extension": ".py",
      "mimetype": "text/x-python",
      "name": "python",
      "nbconvert_exporter": "python",
      "pygments_lexer": "ipython3",
      "version": "3.7.9"
    },
    "pycharm": {
      "stem_cell": {
        "cell_type": "raw",
        "metadata": {
          "collapsed": false
        },
        "source": []
      }
    }
  },
  "cells": [
    {
      "cell_type": "markdown",
      "metadata": {
        "id": "nCi_99yMYIb1"
      },
      "source": [
        "In this notebook you'll create your own bootstrap function following the bootstrap algorithm (check the lecture notes!)"
      ]
    },
    {
      "cell_type": "code",
      "metadata": {
        "id": "LY5zujI2YC37",
        "pycharm": {
          "name": "#%%# Imports\n"
        }
      },
      "source": [
        "import matplotlib\n",
        "import pandas as pd\n",
        "import seaborn as sns\n",
        "import numpy as np\n",
        "\n"
      ],
      "execution_count": 175,
      "outputs": []
    },
    {
      "cell_type": "code",
      "metadata": {
        "id": "Eqkwj4SMY38t"
      },
      "source": [
        "# Load the data\n",
        "df = pd.read_csv('https://raw.githubusercontent.com/albanda/CE888/master/lab2%20-%20bootstrap/customers.csv')\n",
        "data = df.values.T[1]"
      ],
      "execution_count": 176,
      "outputs": []
    },
    {
      "cell_type": "code",
      "metadata": {
        "id": "Gxvc_bScYC4H",
        "pycharm": {
          "name": "#%%\n"
        },
        "colab": {
          "base_uri": "https://localhost:8080/",
          "height": 128
        },
        "outputId": "84cf01d8-8522-4e41-ef67-adcb373eaf03"
      },
      "source": [
        "# Checking the notes from the lecture, create here your own bootstrap function:\n",
        "# 1. Sample from the input array x to create an array of samples of shape (n_bootstraps, sample_size)\n",
        "# Hint: Check the function random.choice() on Numpy\n",
        "# 2. Calculate and save the mean of the array (this is \"data_mean\" that is returned by the function)\n",
        "# 3. Calculate the mean from each bootstrap (i.e., row) and store it.\n",
        "# (This should be an array of n_bootstraps values)\n",
        "# 4. Calculate the lower and upper bounds for a 95% CI (hint: check the percentile function on Numpy)\n",
        "# 5. Return data_mean, and the lower and upper bounds of your interval\n",
        "def bootstrap_mean(x, sample_size, n_bootstraps):\n",
        "\n",
        "  store = []\n",
        "  mean = []\n",
        "  sum_x = 0\n",
        "  for i in range(n_bootstraps):\n",
        "    y = np.random.choice(x, sample_size)\n",
        "    mean.append(sum(y)/sample_size)\n",
        "    for i in y:\n",
        "      sum_x = sum_x+i\n",
        "      #data_mean = sum_x/sample_size\n",
        "     \n",
        "      #mean.append(data_mean)\n",
        "    #data_mean.append(sum(y)/sample_size)\n",
        "    store.append(y)\n",
        "  data_mean = sum_x/(sample_size*n_bootstraps)\n",
        "  ordered = np.sort(mean)\n",
        "  lower = np.percentile(ordered, (1-0.95)/2)\n",
        "  upper = np.percentile(ordered, 0.95+((1-0.95)/2))\n",
        "\n",
        "  return data_mean, lower, upper"
      ],
      "execution_count": 177,
      "outputs": []
    },
    {
      "cell_type": "code",
      "metadata": {
        "id": "AN7sEOcMYC4P",
        "pycharm": {
          "name": "#%%\n"
        },
        "colab": {
          "base_uri": "https://localhost:8080/",
          "height": 330
        },
        "outputId": "b7972d37-0061-477c-e8a7-c9b07a4afb82"
      },
      "source": [
        "# Call your bootstrap function and plot the results\n",
        "\n",
        "boots = []\n",
        "for i in range(100, 50000, 1000):\n",
        "    boot = bootstrap_mean(data, data.shape[0], i)\n",
        "    boots.append([i, boot[0], \"mean\"])\n",
        "    boots.append([i, boot[1], \"lower\"])\n",
        "    boots.append([i, boot[2], \"upper\"])\n",
        "\n",
        "df_boot = pd.DataFrame(boots, columns=['Bootstrap Iterations', 'Mean', \"Value\"])\n",
        "sns_plot = sns.lmplot(df_boot.columns[0], df_boot.columns[1], data=df_boot, fit_reg=False, hue=\"Value\")\n",
        "\n",
        "sns_plot.axes[0, 0].set_ylim(0,)\n",
        "sns_plot.axes[0, 0].set_xlim(0, 50000)\n"
      ],
      "execution_count": 178,
      "outputs": [
        {
          "output_type": "error",
          "ename": "KeyboardInterrupt",
          "evalue": "",
          "traceback": [
            "\u001b[1;31m---------------------------------------------------------------------------\u001b[0m",
            "\u001b[1;31mKeyboardInterrupt\u001b[0m                         Traceback (most recent call last)",
            "\u001b[1;32m<ipython-input-178-bb1f0af8ef50>\u001b[0m in \u001b[0;36m<module>\u001b[1;34m\u001b[0m\n\u001b[0;32m      3\u001b[0m \u001b[0mboots\u001b[0m \u001b[1;33m=\u001b[0m \u001b[1;33m[\u001b[0m\u001b[1;33m]\u001b[0m\u001b[1;33m\u001b[0m\u001b[1;33m\u001b[0m\u001b[0m\n\u001b[0;32m      4\u001b[0m \u001b[1;32mfor\u001b[0m \u001b[0mi\u001b[0m \u001b[1;32min\u001b[0m \u001b[0mrange\u001b[0m\u001b[1;33m(\u001b[0m\u001b[1;36m100\u001b[0m\u001b[1;33m,\u001b[0m \u001b[1;36m50000\u001b[0m\u001b[1;33m,\u001b[0m \u001b[1;36m1000\u001b[0m\u001b[1;33m)\u001b[0m\u001b[1;33m:\u001b[0m\u001b[1;33m\u001b[0m\u001b[1;33m\u001b[0m\u001b[0m\n\u001b[1;32m----> 5\u001b[1;33m     \u001b[0mboot\u001b[0m \u001b[1;33m=\u001b[0m \u001b[0mbootstrap_mean\u001b[0m\u001b[1;33m(\u001b[0m\u001b[0mdata\u001b[0m\u001b[1;33m,\u001b[0m \u001b[0mdata\u001b[0m\u001b[1;33m.\u001b[0m\u001b[0mshape\u001b[0m\u001b[1;33m[\u001b[0m\u001b[1;36m0\u001b[0m\u001b[1;33m]\u001b[0m\u001b[1;33m,\u001b[0m \u001b[0mi\u001b[0m\u001b[1;33m)\u001b[0m\u001b[1;33m\u001b[0m\u001b[1;33m\u001b[0m\u001b[0m\n\u001b[0m\u001b[0;32m      6\u001b[0m     \u001b[0mboots\u001b[0m\u001b[1;33m.\u001b[0m\u001b[0mappend\u001b[0m\u001b[1;33m(\u001b[0m\u001b[1;33m[\u001b[0m\u001b[0mi\u001b[0m\u001b[1;33m,\u001b[0m \u001b[0mboot\u001b[0m\u001b[1;33m[\u001b[0m\u001b[1;36m0\u001b[0m\u001b[1;33m]\u001b[0m\u001b[1;33m,\u001b[0m \u001b[1;34m\"mean\"\u001b[0m\u001b[1;33m]\u001b[0m\u001b[1;33m)\u001b[0m\u001b[1;33m\u001b[0m\u001b[1;33m\u001b[0m\u001b[0m\n\u001b[0;32m      7\u001b[0m     \u001b[0mboots\u001b[0m\u001b[1;33m.\u001b[0m\u001b[0mappend\u001b[0m\u001b[1;33m(\u001b[0m\u001b[1;33m[\u001b[0m\u001b[0mi\u001b[0m\u001b[1;33m,\u001b[0m \u001b[0mboot\u001b[0m\u001b[1;33m[\u001b[0m\u001b[1;36m1\u001b[0m\u001b[1;33m]\u001b[0m\u001b[1;33m,\u001b[0m \u001b[1;34m\"lower\"\u001b[0m\u001b[1;33m]\u001b[0m\u001b[1;33m)\u001b[0m\u001b[1;33m\u001b[0m\u001b[1;33m\u001b[0m\u001b[0m\n",
            "\u001b[1;32m<ipython-input-177-0b8bcdc5b7e2>\u001b[0m in \u001b[0;36mbootstrap_mean\u001b[1;34m(x, sample_size, n_bootstraps)\u001b[0m\n\u001b[0;32m     13\u001b[0m   \u001b[0msum_x\u001b[0m \u001b[1;33m=\u001b[0m \u001b[1;36m0\u001b[0m\u001b[1;33m\u001b[0m\u001b[1;33m\u001b[0m\u001b[0m\n\u001b[0;32m     14\u001b[0m   \u001b[1;32mfor\u001b[0m \u001b[0mi\u001b[0m \u001b[1;32min\u001b[0m \u001b[0mrange\u001b[0m\u001b[1;33m(\u001b[0m\u001b[0mn_bootstraps\u001b[0m\u001b[1;33m)\u001b[0m\u001b[1;33m:\u001b[0m\u001b[1;33m\u001b[0m\u001b[1;33m\u001b[0m\u001b[0m\n\u001b[1;32m---> 15\u001b[1;33m     \u001b[0my\u001b[0m \u001b[1;33m=\u001b[0m \u001b[0mnp\u001b[0m\u001b[1;33m.\u001b[0m\u001b[0mrandom\u001b[0m\u001b[1;33m.\u001b[0m\u001b[0mchoice\u001b[0m\u001b[1;33m(\u001b[0m\u001b[0mx\u001b[0m\u001b[1;33m,\u001b[0m \u001b[0msample_size\u001b[0m\u001b[1;33m)\u001b[0m\u001b[1;33m\u001b[0m\u001b[1;33m\u001b[0m\u001b[0m\n\u001b[0m\u001b[0;32m     16\u001b[0m     \u001b[0mmean\u001b[0m\u001b[1;33m.\u001b[0m\u001b[0mappend\u001b[0m\u001b[1;33m(\u001b[0m\u001b[0msum\u001b[0m\u001b[1;33m(\u001b[0m\u001b[0my\u001b[0m\u001b[1;33m)\u001b[0m\u001b[1;33m/\u001b[0m\u001b[0msample_size\u001b[0m\u001b[1;33m)\u001b[0m\u001b[1;33m\u001b[0m\u001b[1;33m\u001b[0m\u001b[0m\n\u001b[0;32m     17\u001b[0m     \u001b[1;32mfor\u001b[0m \u001b[0mi\u001b[0m \u001b[1;32min\u001b[0m \u001b[0my\u001b[0m\u001b[1;33m:\u001b[0m\u001b[1;33m\u001b[0m\u001b[1;33m\u001b[0m\u001b[0m\n",
            "\u001b[1;31mKeyboardInterrupt\u001b[0m: "
          ]
        }
      ]
    },
    {
      "cell_type": "markdown",
      "metadata": {
        "id": "MjtP4e2_YC4V"
      },
      "source": [
        "\n",
        "Now, modify the bootstrap function you created above so that you can pass your desired confidence interval as a parameter.\n",
        "\n"
      ]
    },
    {
      "cell_type": "code",
      "execution_count": null,
      "metadata": {},
      "outputs": [],
      "source": [
        "\n",
        "\"\"\"\n",
        "def bootstrap_mean_ci(sample, sample_size, n_bootstraps, ci):\n",
        "  ci = ci/100\n",
        "  store = []\n",
        "  sum_x = 0\n",
        "  for i in range(n_bootstraps):\n",
        "    y = np.random.choice(sample, sample_size)\n",
        "    for i in y:\n",
        "      sum_x = sum_x+i\n",
        "      data_mean = sum_x/sample_size\n",
        "    store.append(y)\n",
        "    ordered = np.sort(y)\n",
        "    lower = np.percentile(ordered, (1-ci)/2)\n",
        "    upper = np.percentile(ordered, ci+((1-ci)/2))\n",
        "\n",
        "  return data_mean, lower, upper\n",
        "\"\"\""
      ]
    },
    {
      "cell_type": "code",
      "metadata": {
        "id": "3K9j0FuGYhHs"
      },
      "source": [
        "\n",
        "\n",
        "def bootstrap_mean_ci(sample, sample_size, n_bootstraps, ci):\n",
        " # print(f\"sample  =   {sample}\")\n",
        " # print(f\"sample_size  =   {sample_size}\")\n",
        " # ci = ci/100\n",
        "  store = []\n",
        "  mean = []\n",
        "  sum_x = 0\n",
        "  for i in range(n_bootstraps):\n",
        "    y = np.random.choice(sample, sample_size)\n",
        "    mean.append(sum(y)/sample_size)\n",
        "    for i in y:\n",
        "      sum_x = sum_x+i\n",
        "      #data_mean = sum_x/sample_size\n",
        "     \n",
        "      #mean.append(data_mean)\n",
        "    #data_mean.append(sum(y)/sample_size)\n",
        "    store.append(y)\n",
        "  data_mean = sum_x/(sample_size*n_bootstraps)\n",
        "  ordered = np.sort(mean)\n",
        "  lower = np.percentile(ordered, ci)\n",
        "  upper = np.percentile(ordered, ci)\n",
        "  print(np.percentile)\n",
        "  return data_mean, lower, upper\n",
        "\n"
      ],
      "execution_count": 120,
      "outputs": []
    },
    {
      "cell_type": "code",
      "metadata": {
        "id": "uDnjq08GYl-C"
      },
      "source": [
        "boots = []\n",
        "for i in range(100, 50000, 1000):\n",
        "    boot = bootstrap_mean_ci(data, data.shape[0], i, 80)\n",
        "    boots.append([i, boot[0], \"mean\"])\n",
        "    boots.append([i, boot[1], \"lower\"])\n",
        "    boots.append([i, boot[2], \"upper\"])\n",
        "\n",
        "df_boot = pd.DataFrame(boots, columns=['Boostrap Iterations', 'Mean', \"Value\"])\n",
        "sns_plot = sns.lmplot(df_boot.columns[0], df_boot.columns[1], data=df_boot, fit_reg=False, hue=\"Value\")\n",
        "\n",
        "sns_plot.axes[0, 0].set_ylim(0,)\n",
        "sns_plot.axes[0, 0].set_xlim(0, 50000)\n",
        "\n",
        "#sns_plot.savefig(\"bootstrap_confidence_80.pdf\", bbox_inches='tight')\n"
      ],
      "execution_count": 39,
      "outputs": [
        {
          "output_type": "stream",
          "name": "stderr",
          "text": [
            "C:\\Users\\nuttachai\\anaconda3\\envs\\ce802\\lib\\site-packages\\seaborn\\_decorators.py:43: FutureWarning: Pass the following variables as keyword args: x, y. From version 0.12, the only valid positional argument will be `data`, and passing other arguments without an explicit keyword will result in an error or misinterpretation.\n  FutureWarning\n"
          ]
        },
        {
          "output_type": "execute_result",
          "data": {
            "text/plain": [
              "(0.0, 50000.0)"
            ]
          },
          "metadata": {},
          "execution_count": 39
        },
        {
          "output_type": "display_data",
          "data": {
            "text/plain": "<Figure size 425.125x360 with 1 Axes>",
            "image/svg+xml": "<?xml version=\"1.0\" encoding=\"utf-8\" standalone=\"no\"?>\r\n<!DOCTYPE svg PUBLIC \"-//W3C//DTD SVG 1.1//EN\"\r\n  \"http://www.w3.org/Graphics/SVG/1.1/DTD/svg11.dtd\">\r\n<!-- Created with matplotlib (https://matplotlib.org/) -->\r\n<svg height=\"366.15625pt\" version=\"1.1\" viewBox=\"0 0 433.0173 366.15625\" width=\"433.0173pt\" xmlns=\"http://www.w3.org/2000/svg\" xmlns:xlink=\"http://www.w3.org/1999/xlink\">\r\n <metadata>\r\n  <rdf:RDF xmlns:cc=\"http://creativecommons.org/ns#\" xmlns:dc=\"http://purl.org/dc/elements/1.1/\" xmlns:rdf=\"http://www.w3.org/1999/02/22-rdf-syntax-ns#\">\r\n   <cc:Work>\r\n    <dc:type rdf:resource=\"http://purl.org/dc/dcmitype/StillImage\"/>\r\n    <dc:date>2021-05-03T01:46:51.980069</dc:date>\r\n    <dc:format>image/svg+xml</dc:format>\r\n    <dc:creator>\r\n     <cc:Agent>\r\n      <dc:title>Matplotlib v3.3.1, https://matplotlib.org/</dc:title>\r\n     </cc:Agent>\r\n    </dc:creator>\r\n   </cc:Work>\r\n  </rdf:RDF>\r\n </metadata>\r\n <defs>\r\n  <style type=\"text/css\">*{stroke-linecap:butt;stroke-linejoin:round;}</style>\r\n </defs>\r\n <g id=\"figure_1\">\r\n  <g id=\"patch_1\">\r\n   <path d=\"M 0 366.15625 \r\nL 433.0173 366.15625 \r\nL 433.0173 0 \r\nL 0 0 \r\nz\r\n\" style=\"fill:none;\"/>\r\n  </g>\r\n  <g id=\"axes_1\">\r\n   <g id=\"patch_2\">\r\n    <path d=\"M 34.240625 328.6 \r\nL 361.44105 328.6 \r\nL 361.44105 7.2 \r\nL 34.240625 7.2 \r\nz\r\n\" style=\"fill:#ffffff;\"/>\r\n   </g>\r\n   <g id=\"PathCollection_1\">\r\n    <defs>\r\n     <path d=\"M 0 3 \r\nC 0.795609 3 1.55874 2.683901 2.12132 2.12132 \r\nC 2.683901 1.55874 3 0.795609 3 0 \r\nC 3 -0.795609 2.683901 -1.55874 2.12132 -2.12132 \r\nC 1.55874 -2.683901 0.795609 -3 0 -3 \r\nC -0.795609 -3 -1.55874 -2.683901 -2.12132 -2.12132 \r\nC -2.683901 -1.55874 -3 -0.795609 -3 0 \r\nC -3 0.795609 -2.683901 1.55874 -2.12132 2.12132 \r\nC -1.55874 2.683901 -0.795609 3 0 3 \r\nz\r\n\" id=\"mf0697e096d\" style=\"stroke:#1f77b4;stroke-opacity:0.8;\"/>\r\n    </defs>\r\n    <g clip-path=\"url(#pc2c477e70e)\">\r\n     <use style=\"fill:#1f77b4;fill-opacity:0.8;stroke:#1f77b4;stroke-opacity:0.8;\" x=\"34.895026\" xlink:href=\"#mf0697e096d\" y=\"14.516763\"/>\r\n     <use style=\"fill:#1f77b4;fill-opacity:0.8;stroke:#1f77b4;stroke-opacity:0.8;\" x=\"41.439034\" xlink:href=\"#mf0697e096d\" y=\"18.978649\"/>\r\n     <use style=\"fill:#1f77b4;fill-opacity:0.8;stroke:#1f77b4;stroke-opacity:0.8;\" x=\"47.983043\" xlink:href=\"#mf0697e096d\" y=\"19.305073\"/>\r\n     <use style=\"fill:#1f77b4;fill-opacity:0.8;stroke:#1f77b4;stroke-opacity:0.8;\" x=\"54.527051\" xlink:href=\"#mf0697e096d\" y=\"20.432142\"/>\r\n     <use style=\"fill:#1f77b4;fill-opacity:0.8;stroke:#1f77b4;stroke-opacity:0.8;\" x=\"61.07106\" xlink:href=\"#mf0697e096d\" y=\"19.033142\"/>\r\n     <use style=\"fill:#1f77b4;fill-opacity:0.8;stroke:#1f77b4;stroke-opacity:0.8;\" x=\"67.615068\" xlink:href=\"#mf0697e096d\" y=\"20.611914\"/>\r\n     <use style=\"fill:#1f77b4;fill-opacity:0.8;stroke:#1f77b4;stroke-opacity:0.8;\" x=\"74.159077\" xlink:href=\"#mf0697e096d\" y=\"20.068951\"/>\r\n     <use style=\"fill:#1f77b4;fill-opacity:0.8;stroke:#1f77b4;stroke-opacity:0.8;\" x=\"80.703085\" xlink:href=\"#mf0697e096d\" y=\"19.51075\"/>\r\n     <use style=\"fill:#1f77b4;fill-opacity:0.8;stroke:#1f77b4;stroke-opacity:0.8;\" x=\"87.247094\" xlink:href=\"#mf0697e096d\" y=\"19.612408\"/>\r\n     <use style=\"fill:#1f77b4;fill-opacity:0.8;stroke:#1f77b4;stroke-opacity:0.8;\" x=\"93.791102\" xlink:href=\"#mf0697e096d\" y=\"19.628349\"/>\r\n     <use style=\"fill:#1f77b4;fill-opacity:0.8;stroke:#1f77b4;stroke-opacity:0.8;\" x=\"100.335111\" xlink:href=\"#mf0697e096d\" y=\"19.694443\"/>\r\n     <use style=\"fill:#1f77b4;fill-opacity:0.8;stroke:#1f77b4;stroke-opacity:0.8;\" x=\"106.879119\" xlink:href=\"#mf0697e096d\" y=\"19.796057\"/>\r\n     <use style=\"fill:#1f77b4;fill-opacity:0.8;stroke:#1f77b4;stroke-opacity:0.8;\" x=\"113.423128\" xlink:href=\"#mf0697e096d\" y=\"20.716255\"/>\r\n     <use style=\"fill:#1f77b4;fill-opacity:0.8;stroke:#1f77b4;stroke-opacity:0.8;\" x=\"119.967136\" xlink:href=\"#mf0697e096d\" y=\"20.094498\"/>\r\n     <use style=\"fill:#1f77b4;fill-opacity:0.8;stroke:#1f77b4;stroke-opacity:0.8;\" x=\"126.511145\" xlink:href=\"#mf0697e096d\" y=\"19.569759\"/>\r\n     <use style=\"fill:#1f77b4;fill-opacity:0.8;stroke:#1f77b4;stroke-opacity:0.8;\" x=\"133.055153\" xlink:href=\"#mf0697e096d\" y=\"19.627039\"/>\r\n     <use style=\"fill:#1f77b4;fill-opacity:0.8;stroke:#1f77b4;stroke-opacity:0.8;\" x=\"139.599162\" xlink:href=\"#mf0697e096d\" y=\"20.543446\"/>\r\n     <use style=\"fill:#1f77b4;fill-opacity:0.8;stroke:#1f77b4;stroke-opacity:0.8;\" x=\"146.14317\" xlink:href=\"#mf0697e096d\" y=\"19.629559\"/>\r\n     <use style=\"fill:#1f77b4;fill-opacity:0.8;stroke:#1f77b4;stroke-opacity:0.8;\" x=\"152.687179\" xlink:href=\"#mf0697e096d\" y=\"19.404596\"/>\r\n     <use style=\"fill:#1f77b4;fill-opacity:0.8;stroke:#1f77b4;stroke-opacity:0.8;\" x=\"159.231187\" xlink:href=\"#mf0697e096d\" y=\"20.181068\"/>\r\n     <use style=\"fill:#1f77b4;fill-opacity:0.8;stroke:#1f77b4;stroke-opacity:0.8;\" x=\"165.775196\" xlink:href=\"#mf0697e096d\" y=\"20.085941\"/>\r\n     <use style=\"fill:#1f77b4;fill-opacity:0.8;stroke:#1f77b4;stroke-opacity:0.8;\" x=\"172.319204\" xlink:href=\"#mf0697e096d\" y=\"20.029658\"/>\r\n     <use style=\"fill:#1f77b4;fill-opacity:0.8;stroke:#1f77b4;stroke-opacity:0.8;\" x=\"178.863213\" xlink:href=\"#mf0697e096d\" y=\"19.90657\"/>\r\n     <use style=\"fill:#1f77b4;fill-opacity:0.8;stroke:#1f77b4;stroke-opacity:0.8;\" x=\"185.407222\" xlink:href=\"#mf0697e096d\" y=\"19.985062\"/>\r\n     <use style=\"fill:#1f77b4;fill-opacity:0.8;stroke:#1f77b4;stroke-opacity:0.8;\" x=\"191.95123\" xlink:href=\"#mf0697e096d\" y=\"20.158222\"/>\r\n     <use style=\"fill:#1f77b4;fill-opacity:0.8;stroke:#1f77b4;stroke-opacity:0.8;\" x=\"198.495239\" xlink:href=\"#mf0697e096d\" y=\"20.165614\"/>\r\n     <use style=\"fill:#1f77b4;fill-opacity:0.8;stroke:#1f77b4;stroke-opacity:0.8;\" x=\"205.039247\" xlink:href=\"#mf0697e096d\" y=\"19.737662\"/>\r\n     <use style=\"fill:#1f77b4;fill-opacity:0.8;stroke:#1f77b4;stroke-opacity:0.8;\" x=\"211.583256\" xlink:href=\"#mf0697e096d\" y=\"19.584657\"/>\r\n     <use style=\"fill:#1f77b4;fill-opacity:0.8;stroke:#1f77b4;stroke-opacity:0.8;\" x=\"218.127264\" xlink:href=\"#mf0697e096d\" y=\"19.763087\"/>\r\n     <use style=\"fill:#1f77b4;fill-opacity:0.8;stroke:#1f77b4;stroke-opacity:0.8;\" x=\"224.671273\" xlink:href=\"#mf0697e096d\" y=\"20.105893\"/>\r\n     <use style=\"fill:#1f77b4;fill-opacity:0.8;stroke:#1f77b4;stroke-opacity:0.8;\" x=\"231.215281\" xlink:href=\"#mf0697e096d\" y=\"19.633364\"/>\r\n     <use style=\"fill:#1f77b4;fill-opacity:0.8;stroke:#1f77b4;stroke-opacity:0.8;\" x=\"237.75929\" xlink:href=\"#mf0697e096d\" y=\"19.870346\"/>\r\n     <use style=\"fill:#1f77b4;fill-opacity:0.8;stroke:#1f77b4;stroke-opacity:0.8;\" x=\"244.303298\" xlink:href=\"#mf0697e096d\" y=\"20.351397\"/>\r\n     <use style=\"fill:#1f77b4;fill-opacity:0.8;stroke:#1f77b4;stroke-opacity:0.8;\" x=\"250.847307\" xlink:href=\"#mf0697e096d\" y=\"19.531829\"/>\r\n     <use style=\"fill:#1f77b4;fill-opacity:0.8;stroke:#1f77b4;stroke-opacity:0.8;\" x=\"257.391315\" xlink:href=\"#mf0697e096d\" y=\"20.445476\"/>\r\n     <use style=\"fill:#1f77b4;fill-opacity:0.8;stroke:#1f77b4;stroke-opacity:0.8;\" x=\"263.935324\" xlink:href=\"#mf0697e096d\" y=\"19.338178\"/>\r\n     <use style=\"fill:#1f77b4;fill-opacity:0.8;stroke:#1f77b4;stroke-opacity:0.8;\" x=\"270.479332\" xlink:href=\"#mf0697e096d\" y=\"19.937639\"/>\r\n     <use style=\"fill:#1f77b4;fill-opacity:0.8;stroke:#1f77b4;stroke-opacity:0.8;\" x=\"277.023341\" xlink:href=\"#mf0697e096d\" y=\"19.612983\"/>\r\n     <use style=\"fill:#1f77b4;fill-opacity:0.8;stroke:#1f77b4;stroke-opacity:0.8;\" x=\"283.567349\" xlink:href=\"#mf0697e096d\" y=\"20.157496\"/>\r\n     <use style=\"fill:#1f77b4;fill-opacity:0.8;stroke:#1f77b4;stroke-opacity:0.8;\" x=\"290.111358\" xlink:href=\"#mf0697e096d\" y=\"19.869406\"/>\r\n     <use style=\"fill:#1f77b4;fill-opacity:0.8;stroke:#1f77b4;stroke-opacity:0.8;\" x=\"296.655366\" xlink:href=\"#mf0697e096d\" y=\"19.874253\"/>\r\n     <use style=\"fill:#1f77b4;fill-opacity:0.8;stroke:#1f77b4;stroke-opacity:0.8;\" x=\"303.199375\" xlink:href=\"#mf0697e096d\" y=\"19.715312\"/>\r\n     <use style=\"fill:#1f77b4;fill-opacity:0.8;stroke:#1f77b4;stroke-opacity:0.8;\" x=\"309.743383\" xlink:href=\"#mf0697e096d\" y=\"19.352359\"/>\r\n     <use style=\"fill:#1f77b4;fill-opacity:0.8;stroke:#1f77b4;stroke-opacity:0.8;\" x=\"316.287392\" xlink:href=\"#mf0697e096d\" y=\"20.04746\"/>\r\n     <use style=\"fill:#1f77b4;fill-opacity:0.8;stroke:#1f77b4;stroke-opacity:0.8;\" x=\"322.8314\" xlink:href=\"#mf0697e096d\" y=\"19.612855\"/>\r\n     <use style=\"fill:#1f77b4;fill-opacity:0.8;stroke:#1f77b4;stroke-opacity:0.8;\" x=\"329.375409\" xlink:href=\"#mf0697e096d\" y=\"20.0268\"/>\r\n     <use style=\"fill:#1f77b4;fill-opacity:0.8;stroke:#1f77b4;stroke-opacity:0.8;\" x=\"335.919417\" xlink:href=\"#mf0697e096d\" y=\"20.04603\"/>\r\n     <use style=\"fill:#1f77b4;fill-opacity:0.8;stroke:#1f77b4;stroke-opacity:0.8;\" x=\"342.463426\" xlink:href=\"#mf0697e096d\" y=\"19.689385\"/>\r\n     <use style=\"fill:#1f77b4;fill-opacity:0.8;stroke:#1f77b4;stroke-opacity:0.8;\" x=\"349.007434\" xlink:href=\"#mf0697e096d\" y=\"19.37344\"/>\r\n     <use style=\"fill:#1f77b4;fill-opacity:0.8;stroke:#1f77b4;stroke-opacity:0.8;\" x=\"355.551443\" xlink:href=\"#mf0697e096d\" y=\"20.233876\"/>\r\n    </g>\r\n   </g>\r\n   <g id=\"PathCollection_2\">\r\n    <defs>\r\n     <path d=\"M 0 3 \r\nC 0.795609 3 1.55874 2.683901 2.12132 2.12132 \r\nC 2.683901 1.55874 3 0.795609 3 0 \r\nC 3 -0.795609 2.683901 -1.55874 2.12132 -2.12132 \r\nC 1.55874 -2.683901 0.795609 -3 0 -3 \r\nC -0.795609 -3 -1.55874 -2.683901 -2.12132 -2.12132 \r\nC -2.683901 -1.55874 -3 -0.795609 -3 0 \r\nC -3 0.795609 -2.683901 1.55874 -2.12132 2.12132 \r\nC -1.55874 2.683901 -0.795609 3 0 3 \r\nz\r\n\" id=\"me24447af69\" style=\"stroke:#ff7f0e;stroke-opacity:0.8;\"/>\r\n    </defs>\r\n    <g clip-path=\"url(#pc2c477e70e)\">\r\n     <use style=\"fill:#ff7f0e;fill-opacity:0.8;stroke:#ff7f0e;stroke-opacity:0.8;\" x=\"34.895026\" xlink:href=\"#me24447af69\" y=\"117.77776\"/>\r\n     <use style=\"fill:#ff7f0e;fill-opacity:0.8;stroke:#ff7f0e;stroke-opacity:0.8;\" x=\"41.439034\" xlink:href=\"#me24447af69\" y=\"148.886956\"/>\r\n     <use style=\"fill:#ff7f0e;fill-opacity:0.8;stroke:#ff7f0e;stroke-opacity:0.8;\" x=\"47.983043\" xlink:href=\"#me24447af69\" y=\"159.904398\"/>\r\n     <use style=\"fill:#ff7f0e;fill-opacity:0.8;stroke:#ff7f0e;stroke-opacity:0.8;\" x=\"54.527051\" xlink:href=\"#me24447af69\" y=\"158.695925\"/>\r\n     <use style=\"fill:#ff7f0e;fill-opacity:0.8;stroke:#ff7f0e;stroke-opacity:0.8;\" x=\"61.07106\" xlink:href=\"#me24447af69\" y=\"141.944819\"/>\r\n     <use style=\"fill:#ff7f0e;fill-opacity:0.8;stroke:#ff7f0e;stroke-opacity:0.8;\" x=\"67.615068\" xlink:href=\"#me24447af69\" y=\"151.279971\"/>\r\n     <use style=\"fill:#ff7f0e;fill-opacity:0.8;stroke:#ff7f0e;stroke-opacity:0.8;\" x=\"74.159077\" xlink:href=\"#me24447af69\" y=\"158.695925\"/>\r\n     <use style=\"fill:#ff7f0e;fill-opacity:0.8;stroke:#ff7f0e;stroke-opacity:0.8;\" x=\"80.703085\" xlink:href=\"#me24447af69\" y=\"158.695925\"/>\r\n     <use style=\"fill:#ff7f0e;fill-opacity:0.8;stroke:#ff7f0e;stroke-opacity:0.8;\" x=\"87.247094\" xlink:href=\"#me24447af69\" y=\"153.672987\"/>\r\n     <use style=\"fill:#ff7f0e;fill-opacity:0.8;stroke:#ff7f0e;stroke-opacity:0.8;\" x=\"93.791102\" xlink:href=\"#me24447af69\" y=\"160.852032\"/>\r\n     <use style=\"fill:#ff7f0e;fill-opacity:0.8;stroke:#ff7f0e;stroke-opacity:0.8;\" x=\"100.335111\" xlink:href=\"#me24447af69\" y=\"153.672987\"/>\r\n     <use style=\"fill:#ff7f0e;fill-opacity:0.8;stroke:#ff7f0e;stroke-opacity:0.8;\" x=\"106.879119\" xlink:href=\"#me24447af69\" y=\"153.909895\"/>\r\n     <use style=\"fill:#ff7f0e;fill-opacity:0.8;stroke:#ff7f0e;stroke-opacity:0.8;\" x=\"113.423128\" xlink:href=\"#me24447af69\" y=\"156.30291\"/>\r\n     <use style=\"fill:#ff7f0e;fill-opacity:0.8;stroke:#ff7f0e;stroke-opacity:0.8;\" x=\"119.967136\" xlink:href=\"#me24447af69\" y=\"153.909895\"/>\r\n     <use style=\"fill:#ff7f0e;fill-opacity:0.8;stroke:#ff7f0e;stroke-opacity:0.8;\" x=\"126.511145\" xlink:href=\"#me24447af69\" y=\"158.695925\"/>\r\n     <use style=\"fill:#ff7f0e;fill-opacity:0.8;stroke:#ff7f0e;stroke-opacity:0.8;\" x=\"133.055153\" xlink:href=\"#me24447af69\" y=\"153.909895\"/>\r\n     <use style=\"fill:#ff7f0e;fill-opacity:0.8;stroke:#ff7f0e;stroke-opacity:0.8;\" x=\"139.599162\" xlink:href=\"#me24447af69\" y=\"160.852032\"/>\r\n     <use style=\"fill:#ff7f0e;fill-opacity:0.8;stroke:#ff7f0e;stroke-opacity:0.8;\" x=\"146.14317\" xlink:href=\"#me24447af69\" y=\"151.51688\"/>\r\n     <use style=\"fill:#ff7f0e;fill-opacity:0.8;stroke:#ff7f0e;stroke-opacity:0.8;\" x=\"152.687179\" xlink:href=\"#me24447af69\" y=\"156.066002\"/>\r\n     <use style=\"fill:#ff7f0e;fill-opacity:0.8;stroke:#ff7f0e;stroke-opacity:0.8;\" x=\"159.231187\" xlink:href=\"#me24447af69\" y=\"153.672987\"/>\r\n     <use style=\"fill:#ff7f0e;fill-opacity:0.8;stroke:#ff7f0e;stroke-opacity:0.8;\" x=\"165.775196\" xlink:href=\"#me24447af69\" y=\"158.695925\"/>\r\n     <use style=\"fill:#ff7f0e;fill-opacity:0.8;stroke:#ff7f0e;stroke-opacity:0.8;\" x=\"172.319204\" xlink:href=\"#me24447af69\" y=\"156.30291\"/>\r\n     <use style=\"fill:#ff7f0e;fill-opacity:0.8;stroke:#ff7f0e;stroke-opacity:0.8;\" x=\"178.863213\" xlink:href=\"#me24447af69\" y=\"153.909895\"/>\r\n     <use style=\"fill:#ff7f0e;fill-opacity:0.8;stroke:#ff7f0e;stroke-opacity:0.8;\" x=\"185.407222\" xlink:href=\"#me24447af69\" y=\"153.909895\"/>\r\n     <use style=\"fill:#ff7f0e;fill-opacity:0.8;stroke:#ff7f0e;stroke-opacity:0.8;\" x=\"191.95123\" xlink:href=\"#me24447af69\" y=\"156.066002\"/>\r\n     <use style=\"fill:#ff7f0e;fill-opacity:0.8;stroke:#ff7f0e;stroke-opacity:0.8;\" x=\"198.495239\" xlink:href=\"#me24447af69\" y=\"158.695925\"/>\r\n     <use style=\"fill:#ff7f0e;fill-opacity:0.8;stroke:#ff7f0e;stroke-opacity:0.8;\" x=\"205.039247\" xlink:href=\"#me24447af69\" y=\"158.695925\"/>\r\n     <use style=\"fill:#ff7f0e;fill-opacity:0.8;stroke:#ff7f0e;stroke-opacity:0.8;\" x=\"211.583256\" xlink:href=\"#me24447af69\" y=\"156.066002\"/>\r\n     <use style=\"fill:#ff7f0e;fill-opacity:0.8;stroke:#ff7f0e;stroke-opacity:0.8;\" x=\"218.127264\" xlink:href=\"#me24447af69\" y=\"156.066002\"/>\r\n     <use style=\"fill:#ff7f0e;fill-opacity:0.8;stroke:#ff7f0e;stroke-opacity:0.8;\" x=\"224.671273\" xlink:href=\"#me24447af69\" y=\"158.695925\"/>\r\n     <use style=\"fill:#ff7f0e;fill-opacity:0.8;stroke:#ff7f0e;stroke-opacity:0.8;\" x=\"231.215281\" xlink:href=\"#me24447af69\" y=\"156.30291\"/>\r\n     <use style=\"fill:#ff7f0e;fill-opacity:0.8;stroke:#ff7f0e;stroke-opacity:0.8;\" x=\"237.75929\" xlink:href=\"#me24447af69\" y=\"156.30291\"/>\r\n     <use style=\"fill:#ff7f0e;fill-opacity:0.8;stroke:#ff7f0e;stroke-opacity:0.8;\" x=\"244.303298\" xlink:href=\"#me24447af69\" y=\"156.30291\"/>\r\n     <use style=\"fill:#ff7f0e;fill-opacity:0.8;stroke:#ff7f0e;stroke-opacity:0.8;\" x=\"250.847307\" xlink:href=\"#me24447af69\" y=\"156.30291\"/>\r\n     <use style=\"fill:#ff7f0e;fill-opacity:0.8;stroke:#ff7f0e;stroke-opacity:0.8;\" x=\"257.391315\" xlink:href=\"#me24447af69\" y=\"156.066002\"/>\r\n     <use style=\"fill:#ff7f0e;fill-opacity:0.8;stroke:#ff7f0e;stroke-opacity:0.8;\" x=\"263.935324\" xlink:href=\"#me24447af69\" y=\"153.909895\"/>\r\n     <use style=\"fill:#ff7f0e;fill-opacity:0.8;stroke:#ff7f0e;stroke-opacity:0.8;\" x=\"270.479332\" xlink:href=\"#me24447af69\" y=\"156.30291\"/>\r\n     <use style=\"fill:#ff7f0e;fill-opacity:0.8;stroke:#ff7f0e;stroke-opacity:0.8;\" x=\"277.023341\" xlink:href=\"#me24447af69\" y=\"156.30291\"/>\r\n     <use style=\"fill:#ff7f0e;fill-opacity:0.8;stroke:#ff7f0e;stroke-opacity:0.8;\" x=\"283.567349\" xlink:href=\"#me24447af69\" y=\"153.909895\"/>\r\n     <use style=\"fill:#ff7f0e;fill-opacity:0.8;stroke:#ff7f0e;stroke-opacity:0.8;\" x=\"290.111358\" xlink:href=\"#me24447af69\" y=\"156.30291\"/>\r\n     <use style=\"fill:#ff7f0e;fill-opacity:0.8;stroke:#ff7f0e;stroke-opacity:0.8;\" x=\"296.655366\" xlink:href=\"#me24447af69\" y=\"156.30291\"/>\r\n     <use style=\"fill:#ff7f0e;fill-opacity:0.8;stroke:#ff7f0e;stroke-opacity:0.8;\" x=\"303.199375\" xlink:href=\"#me24447af69\" y=\"153.909895\"/>\r\n     <use style=\"fill:#ff7f0e;fill-opacity:0.8;stroke:#ff7f0e;stroke-opacity:0.8;\" x=\"309.743383\" xlink:href=\"#me24447af69\" y=\"153.909895\"/>\r\n     <use style=\"fill:#ff7f0e;fill-opacity:0.8;stroke:#ff7f0e;stroke-opacity:0.8;\" x=\"316.287392\" xlink:href=\"#me24447af69\" y=\"156.30291\"/>\r\n     <use style=\"fill:#ff7f0e;fill-opacity:0.8;stroke:#ff7f0e;stroke-opacity:0.8;\" x=\"322.8314\" xlink:href=\"#me24447af69\" y=\"153.909895\"/>\r\n     <use style=\"fill:#ff7f0e;fill-opacity:0.8;stroke:#ff7f0e;stroke-opacity:0.8;\" x=\"329.375409\" xlink:href=\"#me24447af69\" y=\"158.459017\"/>\r\n     <use style=\"fill:#ff7f0e;fill-opacity:0.8;stroke:#ff7f0e;stroke-opacity:0.8;\" x=\"335.919417\" xlink:href=\"#me24447af69\" y=\"158.695925\"/>\r\n     <use style=\"fill:#ff7f0e;fill-opacity:0.8;stroke:#ff7f0e;stroke-opacity:0.8;\" x=\"342.463426\" xlink:href=\"#me24447af69\" y=\"156.30291\"/>\r\n     <use style=\"fill:#ff7f0e;fill-opacity:0.8;stroke:#ff7f0e;stroke-opacity:0.8;\" x=\"349.007434\" xlink:href=\"#me24447af69\" y=\"156.30291\"/>\r\n     <use style=\"fill:#ff7f0e;fill-opacity:0.8;stroke:#ff7f0e;stroke-opacity:0.8;\" x=\"355.551443\" xlink:href=\"#me24447af69\" y=\"156.30291\"/>\r\n    </g>\r\n   </g>\r\n   <g id=\"PathCollection_3\">\r\n    <defs>\r\n     <path d=\"M 0 3 \r\nC 0.795609 3 1.55874 2.683901 2.12132 2.12132 \r\nC 2.683901 1.55874 3 0.795609 3 0 \r\nC 3 -0.795609 2.683901 -1.55874 2.12132 -2.12132 \r\nC 1.55874 -2.683901 0.795609 -3 0 -3 \r\nC -0.795609 -3 -1.55874 -2.683901 -2.12132 -2.12132 \r\nC -2.683901 -1.55874 -3 -0.795609 -3 0 \r\nC -3 0.795609 -2.683901 1.55874 -2.12132 2.12132 \r\nC -1.55874 2.683901 -0.795609 3 0 3 \r\nz\r\n\" id=\"mefbe7f6f25\" style=\"stroke:#2ca02c;stroke-opacity:0.8;\"/>\r\n    </defs>\r\n    <g clip-path=\"url(#pc2c477e70e)\">\r\n     <use style=\"fill:#2ca02c;fill-opacity:0.8;stroke:#2ca02c;stroke-opacity:0.8;\" x=\"34.895026\" xlink:href=\"#mefbe7f6f25\" y=\"115.882492\"/>\r\n     <use style=\"fill:#2ca02c;fill-opacity:0.8;stroke:#2ca02c;stroke-opacity:0.8;\" x=\"41.439034\" xlink:href=\"#mefbe7f6f25\" y=\"129.979744\"/>\r\n     <use style=\"fill:#2ca02c;fill-opacity:0.8;stroke:#2ca02c;stroke-opacity:0.8;\" x=\"47.983043\" xlink:href=\"#mefbe7f6f25\" y=\"132.372759\"/>\r\n     <use style=\"fill:#2ca02c;fill-opacity:0.8;stroke:#2ca02c;stroke-opacity:0.8;\" x=\"54.527051\" xlink:href=\"#mefbe7f6f25\" y=\"127.847567\"/>\r\n     <use style=\"fill:#2ca02c;fill-opacity:0.8;stroke:#2ca02c;stroke-opacity:0.8;\" x=\"61.07106\" xlink:href=\"#mefbe7f6f25\" y=\"125.193713\"/>\r\n     <use style=\"fill:#2ca02c;fill-opacity:0.8;stroke:#2ca02c;stroke-opacity:0.8;\" x=\"67.615068\" xlink:href=\"#mefbe7f6f25\" y=\"127.586729\"/>\r\n     <use style=\"fill:#2ca02c;fill-opacity:0.8;stroke:#2ca02c;stroke-opacity:0.8;\" x=\"74.159077\" xlink:href=\"#mefbe7f6f25\" y=\"129.979744\"/>\r\n     <use style=\"fill:#2ca02c;fill-opacity:0.8;stroke:#2ca02c;stroke-opacity:0.8;\" x=\"80.703085\" xlink:href=\"#mefbe7f6f25\" y=\"127.586729\"/>\r\n     <use style=\"fill:#2ca02c;fill-opacity:0.8;stroke:#2ca02c;stroke-opacity:0.8;\" x=\"87.247094\" xlink:href=\"#mefbe7f6f25\" y=\"127.586729\"/>\r\n     <use style=\"fill:#2ca02c;fill-opacity:0.8;stroke:#2ca02c;stroke-opacity:0.8;\" x=\"93.791102\" xlink:href=\"#mefbe7f6f25\" y=\"130.240582\"/>\r\n     <use style=\"fill:#2ca02c;fill-opacity:0.8;stroke:#2ca02c;stroke-opacity:0.8;\" x=\"100.335111\" xlink:href=\"#mefbe7f6f25\" y=\"127.586729\"/>\r\n     <use style=\"fill:#2ca02c;fill-opacity:0.8;stroke:#2ca02c;stroke-opacity:0.8;\" x=\"106.879119\" xlink:href=\"#mefbe7f6f25\" y=\"129.979744\"/>\r\n     <use style=\"fill:#2ca02c;fill-opacity:0.8;stroke:#2ca02c;stroke-opacity:0.8;\" x=\"113.423128\" xlink:href=\"#mefbe7f6f25\" y=\"129.979744\"/>\r\n     <use style=\"fill:#2ca02c;fill-opacity:0.8;stroke:#2ca02c;stroke-opacity:0.8;\" x=\"119.967136\" xlink:href=\"#mefbe7f6f25\" y=\"129.979744\"/>\r\n     <use style=\"fill:#2ca02c;fill-opacity:0.8;stroke:#2ca02c;stroke-opacity:0.8;\" x=\"126.511145\" xlink:href=\"#mefbe7f6f25\" y=\"129.979744\"/>\r\n     <use style=\"fill:#2ca02c;fill-opacity:0.8;stroke:#2ca02c;stroke-opacity:0.8;\" x=\"133.055153\" xlink:href=\"#mefbe7f6f25\" y=\"129.979744\"/>\r\n     <use style=\"fill:#2ca02c;fill-opacity:0.8;stroke:#2ca02c;stroke-opacity:0.8;\" x=\"139.599162\" xlink:href=\"#mefbe7f6f25\" y=\"129.979744\"/>\r\n     <use style=\"fill:#2ca02c;fill-opacity:0.8;stroke:#2ca02c;stroke-opacity:0.8;\" x=\"146.14317\" xlink:href=\"#mefbe7f6f25\" y=\"129.979744\"/>\r\n     <use style=\"fill:#2ca02c;fill-opacity:0.8;stroke:#2ca02c;stroke-opacity:0.8;\" x=\"152.687179\" xlink:href=\"#mefbe7f6f25\" y=\"127.586729\"/>\r\n     <use style=\"fill:#2ca02c;fill-opacity:0.8;stroke:#2ca02c;stroke-opacity:0.8;\" x=\"159.231187\" xlink:href=\"#mefbe7f6f25\" y=\"127.586729\"/>\r\n     <use style=\"fill:#2ca02c;fill-opacity:0.8;stroke:#2ca02c;stroke-opacity:0.8;\" x=\"165.775196\" xlink:href=\"#mefbe7f6f25\" y=\"129.979744\"/>\r\n     <use style=\"fill:#2ca02c;fill-opacity:0.8;stroke:#2ca02c;stroke-opacity:0.8;\" x=\"172.319204\" xlink:href=\"#mefbe7f6f25\" y=\"129.979744\"/>\r\n     <use style=\"fill:#2ca02c;fill-opacity:0.8;stroke:#2ca02c;stroke-opacity:0.8;\" x=\"178.863213\" xlink:href=\"#mefbe7f6f25\" y=\"129.979744\"/>\r\n     <use style=\"fill:#2ca02c;fill-opacity:0.8;stroke:#2ca02c;stroke-opacity:0.8;\" x=\"185.407222\" xlink:href=\"#mefbe7f6f25\" y=\"127.586729\"/>\r\n     <use style=\"fill:#2ca02c;fill-opacity:0.8;stroke:#2ca02c;stroke-opacity:0.8;\" x=\"191.95123\" xlink:href=\"#mefbe7f6f25\" y=\"129.979744\"/>\r\n     <use style=\"fill:#2ca02c;fill-opacity:0.8;stroke:#2ca02c;stroke-opacity:0.8;\" x=\"198.495239\" xlink:href=\"#mefbe7f6f25\" y=\"127.586729\"/>\r\n     <use style=\"fill:#2ca02c;fill-opacity:0.8;stroke:#2ca02c;stroke-opacity:0.8;\" x=\"205.039247\" xlink:href=\"#mefbe7f6f25\" y=\"132.372759\"/>\r\n     <use style=\"fill:#2ca02c;fill-opacity:0.8;stroke:#2ca02c;stroke-opacity:0.8;\" x=\"211.583256\" xlink:href=\"#mefbe7f6f25\" y=\"127.586729\"/>\r\n     <use style=\"fill:#2ca02c;fill-opacity:0.8;stroke:#2ca02c;stroke-opacity:0.8;\" x=\"218.127264\" xlink:href=\"#mefbe7f6f25\" y=\"127.586729\"/>\r\n     <use style=\"fill:#2ca02c;fill-opacity:0.8;stroke:#2ca02c;stroke-opacity:0.8;\" x=\"224.671273\" xlink:href=\"#mefbe7f6f25\" y=\"129.979744\"/>\r\n     <use style=\"fill:#2ca02c;fill-opacity:0.8;stroke:#2ca02c;stroke-opacity:0.8;\" x=\"231.215281\" xlink:href=\"#mefbe7f6f25\" y=\"127.586729\"/>\r\n     <use style=\"fill:#2ca02c;fill-opacity:0.8;stroke:#2ca02c;stroke-opacity:0.8;\" x=\"237.75929\" xlink:href=\"#mefbe7f6f25\" y=\"129.979744\"/>\r\n     <use style=\"fill:#2ca02c;fill-opacity:0.8;stroke:#2ca02c;stroke-opacity:0.8;\" x=\"244.303298\" xlink:href=\"#mefbe7f6f25\" y=\"129.979744\"/>\r\n     <use style=\"fill:#2ca02c;fill-opacity:0.8;stroke:#2ca02c;stroke-opacity:0.8;\" x=\"250.847307\" xlink:href=\"#mefbe7f6f25\" y=\"129.979744\"/>\r\n     <use style=\"fill:#2ca02c;fill-opacity:0.8;stroke:#2ca02c;stroke-opacity:0.8;\" x=\"257.391315\" xlink:href=\"#mefbe7f6f25\" y=\"129.979744\"/>\r\n     <use style=\"fill:#2ca02c;fill-opacity:0.8;stroke:#2ca02c;stroke-opacity:0.8;\" x=\"263.935324\" xlink:href=\"#mefbe7f6f25\" y=\"129.979744\"/>\r\n     <use style=\"fill:#2ca02c;fill-opacity:0.8;stroke:#2ca02c;stroke-opacity:0.8;\" x=\"270.479332\" xlink:href=\"#mefbe7f6f25\" y=\"129.979744\"/>\r\n     <use style=\"fill:#2ca02c;fill-opacity:0.8;stroke:#2ca02c;stroke-opacity:0.8;\" x=\"277.023341\" xlink:href=\"#mefbe7f6f25\" y=\"129.979744\"/>\r\n     <use style=\"fill:#2ca02c;fill-opacity:0.8;stroke:#2ca02c;stroke-opacity:0.8;\" x=\"283.567349\" xlink:href=\"#mefbe7f6f25\" y=\"129.979744\"/>\r\n     <use style=\"fill:#2ca02c;fill-opacity:0.8;stroke:#2ca02c;stroke-opacity:0.8;\" x=\"290.111358\" xlink:href=\"#mefbe7f6f25\" y=\"129.979744\"/>\r\n     <use style=\"fill:#2ca02c;fill-opacity:0.8;stroke:#2ca02c;stroke-opacity:0.8;\" x=\"296.655366\" xlink:href=\"#mefbe7f6f25\" y=\"129.979744\"/>\r\n     <use style=\"fill:#2ca02c;fill-opacity:0.8;stroke:#2ca02c;stroke-opacity:0.8;\" x=\"303.199375\" xlink:href=\"#mefbe7f6f25\" y=\"127.586729\"/>\r\n     <use style=\"fill:#2ca02c;fill-opacity:0.8;stroke:#2ca02c;stroke-opacity:0.8;\" x=\"309.743383\" xlink:href=\"#mefbe7f6f25\" y=\"127.586729\"/>\r\n     <use style=\"fill:#2ca02c;fill-opacity:0.8;stroke:#2ca02c;stroke-opacity:0.8;\" x=\"316.287392\" xlink:href=\"#mefbe7f6f25\" y=\"129.979744\"/>\r\n     <use style=\"fill:#2ca02c;fill-opacity:0.8;stroke:#2ca02c;stroke-opacity:0.8;\" x=\"322.8314\" xlink:href=\"#mefbe7f6f25\" y=\"129.979744\"/>\r\n     <use style=\"fill:#2ca02c;fill-opacity:0.8;stroke:#2ca02c;stroke-opacity:0.8;\" x=\"329.375409\" xlink:href=\"#mefbe7f6f25\" y=\"129.979744\"/>\r\n     <use style=\"fill:#2ca02c;fill-opacity:0.8;stroke:#2ca02c;stroke-opacity:0.8;\" x=\"335.919417\" xlink:href=\"#mefbe7f6f25\" y=\"127.586729\"/>\r\n     <use style=\"fill:#2ca02c;fill-opacity:0.8;stroke:#2ca02c;stroke-opacity:0.8;\" x=\"342.463426\" xlink:href=\"#mefbe7f6f25\" y=\"129.979744\"/>\r\n     <use style=\"fill:#2ca02c;fill-opacity:0.8;stroke:#2ca02c;stroke-opacity:0.8;\" x=\"349.007434\" xlink:href=\"#mefbe7f6f25\" y=\"129.979744\"/>\r\n     <use style=\"fill:#2ca02c;fill-opacity:0.8;stroke:#2ca02c;stroke-opacity:0.8;\" x=\"355.551443\" xlink:href=\"#mefbe7f6f25\" y=\"129.979744\"/>\r\n    </g>\r\n   </g>\r\n   <g id=\"matplotlib.axis_1\">\r\n    <g id=\"xtick_1\">\r\n     <g id=\"line2d_1\">\r\n      <defs>\r\n       <path d=\"M 0 0 \r\nL 0 3.5 \r\n\" id=\"m09e745a31e\" style=\"stroke:#000000;stroke-width:0.8;\"/>\r\n      </defs>\r\n      <g>\r\n       <use style=\"stroke:#000000;stroke-width:0.8;\" x=\"34.240625\" xlink:href=\"#m09e745a31e\" y=\"328.6\"/>\r\n      </g>\r\n     </g>\r\n     <g id=\"text_1\">\r\n      <!-- 0 -->\r\n      <g transform=\"translate(31.059375 343.198437)scale(0.1 -0.1)\">\r\n       <defs>\r\n        <path d=\"M 31.78125 66.40625 \r\nQ 24.171875 66.40625 20.328125 58.90625 \r\nQ 16.5 51.421875 16.5 36.375 \r\nQ 16.5 21.390625 20.328125 13.890625 \r\nQ 24.171875 6.390625 31.78125 6.390625 \r\nQ 39.453125 6.390625 43.28125 13.890625 \r\nQ 47.125 21.390625 47.125 36.375 \r\nQ 47.125 51.421875 43.28125 58.90625 \r\nQ 39.453125 66.40625 31.78125 66.40625 \r\nz\r\nM 31.78125 74.21875 \r\nQ 44.046875 74.21875 50.515625 64.515625 \r\nQ 56.984375 54.828125 56.984375 36.375 \r\nQ 56.984375 17.96875 50.515625 8.265625 \r\nQ 44.046875 -1.421875 31.78125 -1.421875 \r\nQ 19.53125 -1.421875 13.0625 8.265625 \r\nQ 6.59375 17.96875 6.59375 36.375 \r\nQ 6.59375 54.828125 13.0625 64.515625 \r\nQ 19.53125 74.21875 31.78125 74.21875 \r\nz\r\n\" id=\"DejaVuSans-48\"/>\r\n       </defs>\r\n       <use xlink:href=\"#DejaVuSans-48\"/>\r\n      </g>\r\n     </g>\r\n    </g>\r\n    <g id=\"xtick_2\">\r\n     <g id=\"line2d_2\">\r\n      <g>\r\n       <use style=\"stroke:#000000;stroke-width:0.8;\" x=\"99.68071\" xlink:href=\"#m09e745a31e\" y=\"328.6\"/>\r\n      </g>\r\n     </g>\r\n     <g id=\"text_2\">\r\n      <!-- 10000 -->\r\n      <g transform=\"translate(83.77446 343.198437)scale(0.1 -0.1)\">\r\n       <defs>\r\n        <path d=\"M 12.40625 8.296875 \r\nL 28.515625 8.296875 \r\nL 28.515625 63.921875 \r\nL 10.984375 60.40625 \r\nL 10.984375 69.390625 \r\nL 28.421875 72.90625 \r\nL 38.28125 72.90625 \r\nL 38.28125 8.296875 \r\nL 54.390625 8.296875 \r\nL 54.390625 0 \r\nL 12.40625 0 \r\nz\r\n\" id=\"DejaVuSans-49\"/>\r\n       </defs>\r\n       <use xlink:href=\"#DejaVuSans-49\"/>\r\n       <use x=\"63.623047\" xlink:href=\"#DejaVuSans-48\"/>\r\n       <use x=\"127.246094\" xlink:href=\"#DejaVuSans-48\"/>\r\n       <use x=\"190.869141\" xlink:href=\"#DejaVuSans-48\"/>\r\n       <use x=\"254.492188\" xlink:href=\"#DejaVuSans-48\"/>\r\n      </g>\r\n     </g>\r\n    </g>\r\n    <g id=\"xtick_3\">\r\n     <g id=\"line2d_3\">\r\n      <g>\r\n       <use style=\"stroke:#000000;stroke-width:0.8;\" x=\"165.120795\" xlink:href=\"#m09e745a31e\" y=\"328.6\"/>\r\n      </g>\r\n     </g>\r\n     <g id=\"text_3\">\r\n      <!-- 20000 -->\r\n      <g transform=\"translate(149.214545 343.198437)scale(0.1 -0.1)\">\r\n       <defs>\r\n        <path d=\"M 19.1875 8.296875 \r\nL 53.609375 8.296875 \r\nL 53.609375 0 \r\nL 7.328125 0 \r\nL 7.328125 8.296875 \r\nQ 12.9375 14.109375 22.625 23.890625 \r\nQ 32.328125 33.6875 34.8125 36.53125 \r\nQ 39.546875 41.84375 41.421875 45.53125 \r\nQ 43.3125 49.21875 43.3125 52.78125 \r\nQ 43.3125 58.59375 39.234375 62.25 \r\nQ 35.15625 65.921875 28.609375 65.921875 \r\nQ 23.96875 65.921875 18.8125 64.3125 \r\nQ 13.671875 62.703125 7.8125 59.421875 \r\nL 7.8125 69.390625 \r\nQ 13.765625 71.78125 18.9375 73 \r\nQ 24.125 74.21875 28.421875 74.21875 \r\nQ 39.75 74.21875 46.484375 68.546875 \r\nQ 53.21875 62.890625 53.21875 53.421875 \r\nQ 53.21875 48.921875 51.53125 44.890625 \r\nQ 49.859375 40.875 45.40625 35.40625 \r\nQ 44.1875 33.984375 37.640625 27.21875 \r\nQ 31.109375 20.453125 19.1875 8.296875 \r\nz\r\n\" id=\"DejaVuSans-50\"/>\r\n       </defs>\r\n       <use xlink:href=\"#DejaVuSans-50\"/>\r\n       <use x=\"63.623047\" xlink:href=\"#DejaVuSans-48\"/>\r\n       <use x=\"127.246094\" xlink:href=\"#DejaVuSans-48\"/>\r\n       <use x=\"190.869141\" xlink:href=\"#DejaVuSans-48\"/>\r\n       <use x=\"254.492188\" xlink:href=\"#DejaVuSans-48\"/>\r\n      </g>\r\n     </g>\r\n    </g>\r\n    <g id=\"xtick_4\">\r\n     <g id=\"line2d_4\">\r\n      <g>\r\n       <use style=\"stroke:#000000;stroke-width:0.8;\" x=\"230.56088\" xlink:href=\"#m09e745a31e\" y=\"328.6\"/>\r\n      </g>\r\n     </g>\r\n     <g id=\"text_4\">\r\n      <!-- 30000 -->\r\n      <g transform=\"translate(214.65463 343.198437)scale(0.1 -0.1)\">\r\n       <defs>\r\n        <path d=\"M 40.578125 39.3125 \r\nQ 47.65625 37.796875 51.625 33 \r\nQ 55.609375 28.21875 55.609375 21.1875 \r\nQ 55.609375 10.40625 48.1875 4.484375 \r\nQ 40.765625 -1.421875 27.09375 -1.421875 \r\nQ 22.515625 -1.421875 17.65625 -0.515625 \r\nQ 12.796875 0.390625 7.625 2.203125 \r\nL 7.625 11.71875 \r\nQ 11.71875 9.328125 16.59375 8.109375 \r\nQ 21.484375 6.890625 26.8125 6.890625 \r\nQ 36.078125 6.890625 40.9375 10.546875 \r\nQ 45.796875 14.203125 45.796875 21.1875 \r\nQ 45.796875 27.640625 41.28125 31.265625 \r\nQ 36.765625 34.90625 28.71875 34.90625 \r\nL 20.21875 34.90625 \r\nL 20.21875 43.015625 \r\nL 29.109375 43.015625 \r\nQ 36.375 43.015625 40.234375 45.921875 \r\nQ 44.09375 48.828125 44.09375 54.296875 \r\nQ 44.09375 59.90625 40.109375 62.90625 \r\nQ 36.140625 65.921875 28.71875 65.921875 \r\nQ 24.65625 65.921875 20.015625 65.03125 \r\nQ 15.375 64.15625 9.8125 62.3125 \r\nL 9.8125 71.09375 \r\nQ 15.4375 72.65625 20.34375 73.4375 \r\nQ 25.25 74.21875 29.59375 74.21875 \r\nQ 40.828125 74.21875 47.359375 69.109375 \r\nQ 53.90625 64.015625 53.90625 55.328125 \r\nQ 53.90625 49.265625 50.4375 45.09375 \r\nQ 46.96875 40.921875 40.578125 39.3125 \r\nz\r\n\" id=\"DejaVuSans-51\"/>\r\n       </defs>\r\n       <use xlink:href=\"#DejaVuSans-51\"/>\r\n       <use x=\"63.623047\" xlink:href=\"#DejaVuSans-48\"/>\r\n       <use x=\"127.246094\" xlink:href=\"#DejaVuSans-48\"/>\r\n       <use x=\"190.869141\" xlink:href=\"#DejaVuSans-48\"/>\r\n       <use x=\"254.492188\" xlink:href=\"#DejaVuSans-48\"/>\r\n      </g>\r\n     </g>\r\n    </g>\r\n    <g id=\"xtick_5\">\r\n     <g id=\"line2d_5\">\r\n      <g>\r\n       <use style=\"stroke:#000000;stroke-width:0.8;\" x=\"296.000965\" xlink:href=\"#m09e745a31e\" y=\"328.6\"/>\r\n      </g>\r\n     </g>\r\n     <g id=\"text_5\">\r\n      <!-- 40000 -->\r\n      <g transform=\"translate(280.094715 343.198437)scale(0.1 -0.1)\">\r\n       <defs>\r\n        <path d=\"M 37.796875 64.3125 \r\nL 12.890625 25.390625 \r\nL 37.796875 25.390625 \r\nz\r\nM 35.203125 72.90625 \r\nL 47.609375 72.90625 \r\nL 47.609375 25.390625 \r\nL 58.015625 25.390625 \r\nL 58.015625 17.1875 \r\nL 47.609375 17.1875 \r\nL 47.609375 0 \r\nL 37.796875 0 \r\nL 37.796875 17.1875 \r\nL 4.890625 17.1875 \r\nL 4.890625 26.703125 \r\nz\r\n\" id=\"DejaVuSans-52\"/>\r\n       </defs>\r\n       <use xlink:href=\"#DejaVuSans-52\"/>\r\n       <use x=\"63.623047\" xlink:href=\"#DejaVuSans-48\"/>\r\n       <use x=\"127.246094\" xlink:href=\"#DejaVuSans-48\"/>\r\n       <use x=\"190.869141\" xlink:href=\"#DejaVuSans-48\"/>\r\n       <use x=\"254.492188\" xlink:href=\"#DejaVuSans-48\"/>\r\n      </g>\r\n     </g>\r\n    </g>\r\n    <g id=\"xtick_6\">\r\n     <g id=\"line2d_6\">\r\n      <g>\r\n       <use style=\"stroke:#000000;stroke-width:0.8;\" x=\"361.44105\" xlink:href=\"#m09e745a31e\" y=\"328.6\"/>\r\n      </g>\r\n     </g>\r\n     <g id=\"text_6\">\r\n      <!-- 50000 -->\r\n      <g transform=\"translate(345.5348 343.198437)scale(0.1 -0.1)\">\r\n       <defs>\r\n        <path d=\"M 10.796875 72.90625 \r\nL 49.515625 72.90625 \r\nL 49.515625 64.59375 \r\nL 19.828125 64.59375 \r\nL 19.828125 46.734375 \r\nQ 21.96875 47.46875 24.109375 47.828125 \r\nQ 26.265625 48.1875 28.421875 48.1875 \r\nQ 40.625 48.1875 47.75 41.5 \r\nQ 54.890625 34.8125 54.890625 23.390625 \r\nQ 54.890625 11.625 47.5625 5.09375 \r\nQ 40.234375 -1.421875 26.90625 -1.421875 \r\nQ 22.3125 -1.421875 17.546875 -0.640625 \r\nQ 12.796875 0.140625 7.71875 1.703125 \r\nL 7.71875 11.625 \r\nQ 12.109375 9.234375 16.796875 8.0625 \r\nQ 21.484375 6.890625 26.703125 6.890625 \r\nQ 35.15625 6.890625 40.078125 11.328125 \r\nQ 45.015625 15.765625 45.015625 23.390625 \r\nQ 45.015625 31 40.078125 35.4375 \r\nQ 35.15625 39.890625 26.703125 39.890625 \r\nQ 22.75 39.890625 18.8125 39.015625 \r\nQ 14.890625 38.140625 10.796875 36.28125 \r\nz\r\n\" id=\"DejaVuSans-53\"/>\r\n       </defs>\r\n       <use xlink:href=\"#DejaVuSans-53\"/>\r\n       <use x=\"63.623047\" xlink:href=\"#DejaVuSans-48\"/>\r\n       <use x=\"127.246094\" xlink:href=\"#DejaVuSans-48\"/>\r\n       <use x=\"190.869141\" xlink:href=\"#DejaVuSans-48\"/>\r\n       <use x=\"254.492188\" xlink:href=\"#DejaVuSans-48\"/>\r\n      </g>\r\n     </g>\r\n    </g>\r\n    <g id=\"text_7\">\r\n     <!-- Boostrap Iterations -->\r\n     <g transform=\"translate(150.030681 356.876562)scale(0.1 -0.1)\">\r\n      <defs>\r\n       <path d=\"M 19.671875 34.8125 \r\nL 19.671875 8.109375 \r\nL 35.5 8.109375 \r\nQ 43.453125 8.109375 47.28125 11.40625 \r\nQ 51.125 14.703125 51.125 21.484375 \r\nQ 51.125 28.328125 47.28125 31.5625 \r\nQ 43.453125 34.8125 35.5 34.8125 \r\nz\r\nM 19.671875 64.796875 \r\nL 19.671875 42.828125 \r\nL 34.28125 42.828125 \r\nQ 41.5 42.828125 45.03125 45.53125 \r\nQ 48.578125 48.25 48.578125 53.8125 \r\nQ 48.578125 59.328125 45.03125 62.0625 \r\nQ 41.5 64.796875 34.28125 64.796875 \r\nz\r\nM 9.8125 72.90625 \r\nL 35.015625 72.90625 \r\nQ 46.296875 72.90625 52.390625 68.21875 \r\nQ 58.5 63.53125 58.5 54.890625 \r\nQ 58.5 48.1875 55.375 44.234375 \r\nQ 52.25 40.28125 46.1875 39.3125 \r\nQ 53.46875 37.75 57.5 32.78125 \r\nQ 61.53125 27.828125 61.53125 20.40625 \r\nQ 61.53125 10.640625 54.890625 5.3125 \r\nQ 48.25 0 35.984375 0 \r\nL 9.8125 0 \r\nz\r\n\" id=\"DejaVuSans-66\"/>\r\n       <path d=\"M 30.609375 48.390625 \r\nQ 23.390625 48.390625 19.1875 42.75 \r\nQ 14.984375 37.109375 14.984375 27.296875 \r\nQ 14.984375 17.484375 19.15625 11.84375 \r\nQ 23.34375 6.203125 30.609375 6.203125 \r\nQ 37.796875 6.203125 41.984375 11.859375 \r\nQ 46.1875 17.53125 46.1875 27.296875 \r\nQ 46.1875 37.015625 41.984375 42.703125 \r\nQ 37.796875 48.390625 30.609375 48.390625 \r\nz\r\nM 30.609375 56 \r\nQ 42.328125 56 49.015625 48.375 \r\nQ 55.71875 40.765625 55.71875 27.296875 \r\nQ 55.71875 13.875 49.015625 6.21875 \r\nQ 42.328125 -1.421875 30.609375 -1.421875 \r\nQ 18.84375 -1.421875 12.171875 6.21875 \r\nQ 5.515625 13.875 5.515625 27.296875 \r\nQ 5.515625 40.765625 12.171875 48.375 \r\nQ 18.84375 56 30.609375 56 \r\nz\r\n\" id=\"DejaVuSans-111\"/>\r\n       <path d=\"M 44.28125 53.078125 \r\nL 44.28125 44.578125 \r\nQ 40.484375 46.53125 36.375 47.5 \r\nQ 32.28125 48.484375 27.875 48.484375 \r\nQ 21.1875 48.484375 17.84375 46.4375 \r\nQ 14.5 44.390625 14.5 40.28125 \r\nQ 14.5 37.15625 16.890625 35.375 \r\nQ 19.28125 33.59375 26.515625 31.984375 \r\nL 29.59375 31.296875 \r\nQ 39.15625 29.25 43.1875 25.515625 \r\nQ 47.21875 21.78125 47.21875 15.09375 \r\nQ 47.21875 7.46875 41.1875 3.015625 \r\nQ 35.15625 -1.421875 24.609375 -1.421875 \r\nQ 20.21875 -1.421875 15.453125 -0.5625 \r\nQ 10.6875 0.296875 5.421875 2 \r\nL 5.421875 11.28125 \r\nQ 10.40625 8.6875 15.234375 7.390625 \r\nQ 20.0625 6.109375 24.8125 6.109375 \r\nQ 31.15625 6.109375 34.5625 8.28125 \r\nQ 37.984375 10.453125 37.984375 14.40625 \r\nQ 37.984375 18.0625 35.515625 20.015625 \r\nQ 33.0625 21.96875 24.703125 23.78125 \r\nL 21.578125 24.515625 \r\nQ 13.234375 26.265625 9.515625 29.90625 \r\nQ 5.8125 33.546875 5.8125 39.890625 \r\nQ 5.8125 47.609375 11.28125 51.796875 \r\nQ 16.75 56 26.8125 56 \r\nQ 31.78125 56 36.171875 55.265625 \r\nQ 40.578125 54.546875 44.28125 53.078125 \r\nz\r\n\" id=\"DejaVuSans-115\"/>\r\n       <path d=\"M 18.3125 70.21875 \r\nL 18.3125 54.6875 \r\nL 36.8125 54.6875 \r\nL 36.8125 47.703125 \r\nL 18.3125 47.703125 \r\nL 18.3125 18.015625 \r\nQ 18.3125 11.328125 20.140625 9.421875 \r\nQ 21.96875 7.515625 27.59375 7.515625 \r\nL 36.8125 7.515625 \r\nL 36.8125 0 \r\nL 27.59375 0 \r\nQ 17.1875 0 13.234375 3.875 \r\nQ 9.28125 7.765625 9.28125 18.015625 \r\nL 9.28125 47.703125 \r\nL 2.6875 47.703125 \r\nL 2.6875 54.6875 \r\nL 9.28125 54.6875 \r\nL 9.28125 70.21875 \r\nz\r\n\" id=\"DejaVuSans-116\"/>\r\n       <path d=\"M 41.109375 46.296875 \r\nQ 39.59375 47.171875 37.8125 47.578125 \r\nQ 36.03125 48 33.890625 48 \r\nQ 26.265625 48 22.1875 43.046875 \r\nQ 18.109375 38.09375 18.109375 28.8125 \r\nL 18.109375 0 \r\nL 9.078125 0 \r\nL 9.078125 54.6875 \r\nL 18.109375 54.6875 \r\nL 18.109375 46.1875 \r\nQ 20.953125 51.171875 25.484375 53.578125 \r\nQ 30.03125 56 36.53125 56 \r\nQ 37.453125 56 38.578125 55.875 \r\nQ 39.703125 55.765625 41.0625 55.515625 \r\nz\r\n\" id=\"DejaVuSans-114\"/>\r\n       <path d=\"M 34.28125 27.484375 \r\nQ 23.390625 27.484375 19.1875 25 \r\nQ 14.984375 22.515625 14.984375 16.5 \r\nQ 14.984375 11.71875 18.140625 8.90625 \r\nQ 21.296875 6.109375 26.703125 6.109375 \r\nQ 34.1875 6.109375 38.703125 11.40625 \r\nQ 43.21875 16.703125 43.21875 25.484375 \r\nL 43.21875 27.484375 \r\nz\r\nM 52.203125 31.203125 \r\nL 52.203125 0 \r\nL 43.21875 0 \r\nL 43.21875 8.296875 \r\nQ 40.140625 3.328125 35.546875 0.953125 \r\nQ 30.953125 -1.421875 24.3125 -1.421875 \r\nQ 15.921875 -1.421875 10.953125 3.296875 \r\nQ 6 8.015625 6 15.921875 \r\nQ 6 25.140625 12.171875 29.828125 \r\nQ 18.359375 34.515625 30.609375 34.515625 \r\nL 43.21875 34.515625 \r\nL 43.21875 35.40625 \r\nQ 43.21875 41.609375 39.140625 45 \r\nQ 35.0625 48.390625 27.6875 48.390625 \r\nQ 23 48.390625 18.546875 47.265625 \r\nQ 14.109375 46.140625 10.015625 43.890625 \r\nL 10.015625 52.203125 \r\nQ 14.9375 54.109375 19.578125 55.046875 \r\nQ 24.21875 56 28.609375 56 \r\nQ 40.484375 56 46.34375 49.84375 \r\nQ 52.203125 43.703125 52.203125 31.203125 \r\nz\r\n\" id=\"DejaVuSans-97\"/>\r\n       <path d=\"M 18.109375 8.203125 \r\nL 18.109375 -20.796875 \r\nL 9.078125 -20.796875 \r\nL 9.078125 54.6875 \r\nL 18.109375 54.6875 \r\nL 18.109375 46.390625 \r\nQ 20.953125 51.265625 25.265625 53.625 \r\nQ 29.59375 56 35.59375 56 \r\nQ 45.5625 56 51.78125 48.09375 \r\nQ 58.015625 40.1875 58.015625 27.296875 \r\nQ 58.015625 14.40625 51.78125 6.484375 \r\nQ 45.5625 -1.421875 35.59375 -1.421875 \r\nQ 29.59375 -1.421875 25.265625 0.953125 \r\nQ 20.953125 3.328125 18.109375 8.203125 \r\nz\r\nM 48.6875 27.296875 \r\nQ 48.6875 37.203125 44.609375 42.84375 \r\nQ 40.53125 48.484375 33.40625 48.484375 \r\nQ 26.265625 48.484375 22.1875 42.84375 \r\nQ 18.109375 37.203125 18.109375 27.296875 \r\nQ 18.109375 17.390625 22.1875 11.75 \r\nQ 26.265625 6.109375 33.40625 6.109375 \r\nQ 40.53125 6.109375 44.609375 11.75 \r\nQ 48.6875 17.390625 48.6875 27.296875 \r\nz\r\n\" id=\"DejaVuSans-112\"/>\r\n       <path id=\"DejaVuSans-32\"/>\r\n       <path d=\"M 9.8125 72.90625 \r\nL 19.671875 72.90625 \r\nL 19.671875 0 \r\nL 9.8125 0 \r\nz\r\n\" id=\"DejaVuSans-73\"/>\r\n       <path d=\"M 56.203125 29.59375 \r\nL 56.203125 25.203125 \r\nL 14.890625 25.203125 \r\nQ 15.484375 15.921875 20.484375 11.0625 \r\nQ 25.484375 6.203125 34.421875 6.203125 \r\nQ 39.59375 6.203125 44.453125 7.46875 \r\nQ 49.3125 8.734375 54.109375 11.28125 \r\nL 54.109375 2.78125 \r\nQ 49.265625 0.734375 44.1875 -0.34375 \r\nQ 39.109375 -1.421875 33.890625 -1.421875 \r\nQ 20.796875 -1.421875 13.15625 6.1875 \r\nQ 5.515625 13.8125 5.515625 26.8125 \r\nQ 5.515625 40.234375 12.765625 48.109375 \r\nQ 20.015625 56 32.328125 56 \r\nQ 43.359375 56 49.78125 48.890625 \r\nQ 56.203125 41.796875 56.203125 29.59375 \r\nz\r\nM 47.21875 32.234375 \r\nQ 47.125 39.59375 43.09375 43.984375 \r\nQ 39.0625 48.390625 32.421875 48.390625 \r\nQ 24.90625 48.390625 20.390625 44.140625 \r\nQ 15.875 39.890625 15.1875 32.171875 \r\nz\r\n\" id=\"DejaVuSans-101\"/>\r\n       <path d=\"M 9.421875 54.6875 \r\nL 18.40625 54.6875 \r\nL 18.40625 0 \r\nL 9.421875 0 \r\nz\r\nM 9.421875 75.984375 \r\nL 18.40625 75.984375 \r\nL 18.40625 64.59375 \r\nL 9.421875 64.59375 \r\nz\r\n\" id=\"DejaVuSans-105\"/>\r\n       <path d=\"M 54.890625 33.015625 \r\nL 54.890625 0 \r\nL 45.90625 0 \r\nL 45.90625 32.71875 \r\nQ 45.90625 40.484375 42.875 44.328125 \r\nQ 39.84375 48.1875 33.796875 48.1875 \r\nQ 26.515625 48.1875 22.3125 43.546875 \r\nQ 18.109375 38.921875 18.109375 30.90625 \r\nL 18.109375 0 \r\nL 9.078125 0 \r\nL 9.078125 54.6875 \r\nL 18.109375 54.6875 \r\nL 18.109375 46.1875 \r\nQ 21.34375 51.125 25.703125 53.5625 \r\nQ 30.078125 56 35.796875 56 \r\nQ 45.21875 56 50.046875 50.171875 \r\nQ 54.890625 44.34375 54.890625 33.015625 \r\nz\r\n\" id=\"DejaVuSans-110\"/>\r\n      </defs>\r\n      <use xlink:href=\"#DejaVuSans-66\"/>\r\n      <use x=\"68.603516\" xlink:href=\"#DejaVuSans-111\"/>\r\n      <use x=\"129.785156\" xlink:href=\"#DejaVuSans-111\"/>\r\n      <use x=\"190.966797\" xlink:href=\"#DejaVuSans-115\"/>\r\n      <use x=\"243.066406\" xlink:href=\"#DejaVuSans-116\"/>\r\n      <use x=\"282.275391\" xlink:href=\"#DejaVuSans-114\"/>\r\n      <use x=\"323.388672\" xlink:href=\"#DejaVuSans-97\"/>\r\n      <use x=\"384.667969\" xlink:href=\"#DejaVuSans-112\"/>\r\n      <use x=\"448.144531\" xlink:href=\"#DejaVuSans-32\"/>\r\n      <use x=\"479.931641\" xlink:href=\"#DejaVuSans-73\"/>\r\n      <use x=\"509.423828\" xlink:href=\"#DejaVuSans-116\"/>\r\n      <use x=\"548.632812\" xlink:href=\"#DejaVuSans-101\"/>\r\n      <use x=\"610.15625\" xlink:href=\"#DejaVuSans-114\"/>\r\n      <use x=\"651.269531\" xlink:href=\"#DejaVuSans-97\"/>\r\n      <use x=\"712.548828\" xlink:href=\"#DejaVuSans-116\"/>\r\n      <use x=\"751.757812\" xlink:href=\"#DejaVuSans-105\"/>\r\n      <use x=\"779.541016\" xlink:href=\"#DejaVuSans-111\"/>\r\n      <use x=\"840.722656\" xlink:href=\"#DejaVuSans-110\"/>\r\n      <use x=\"904.101562\" xlink:href=\"#DejaVuSans-115\"/>\r\n     </g>\r\n    </g>\r\n   </g>\r\n   <g id=\"matplotlib.axis_2\">\r\n    <g id=\"ytick_1\">\r\n     <g id=\"line2d_7\">\r\n      <defs>\r\n       <path d=\"M 0 0 \r\nL -3.5 0 \r\n\" id=\"mff25a3572c\" style=\"stroke:#000000;stroke-width:0.8;\"/>\r\n      </defs>\r\n      <g>\r\n       <use style=\"stroke:#000000;stroke-width:0.8;\" x=\"34.240625\" xlink:href=\"#mff25a3572c\" y=\"328.6\"/>\r\n      </g>\r\n     </g>\r\n     <g id=\"text_8\">\r\n      <!-- 0 -->\r\n      <g transform=\"translate(20.878125 332.399219)scale(0.1 -0.1)\">\r\n       <use xlink:href=\"#DejaVuSans-48\"/>\r\n      </g>\r\n     </g>\r\n    </g>\r\n    <g id=\"ytick_2\">\r\n     <g id=\"line2d_8\">\r\n      <g>\r\n       <use style=\"stroke:#000000;stroke-width:0.8;\" x=\"34.240625\" xlink:href=\"#mff25a3572c\" y=\"261.595576\"/>\r\n      </g>\r\n     </g>\r\n     <g id=\"text_9\">\r\n      <!-- 2 -->\r\n      <g transform=\"translate(20.878125 265.394795)scale(0.1 -0.1)\">\r\n       <use xlink:href=\"#DejaVuSans-50\"/>\r\n      </g>\r\n     </g>\r\n    </g>\r\n    <g id=\"ytick_3\">\r\n     <g id=\"line2d_9\">\r\n      <g>\r\n       <use style=\"stroke:#000000;stroke-width:0.8;\" x=\"34.240625\" xlink:href=\"#mff25a3572c\" y=\"194.591152\"/>\r\n      </g>\r\n     </g>\r\n     <g id=\"text_10\">\r\n      <!-- 4 -->\r\n      <g transform=\"translate(20.878125 198.390371)scale(0.1 -0.1)\">\r\n       <use xlink:href=\"#DejaVuSans-52\"/>\r\n      </g>\r\n     </g>\r\n    </g>\r\n    <g id=\"ytick_4\">\r\n     <g id=\"line2d_10\">\r\n      <g>\r\n       <use style=\"stroke:#000000;stroke-width:0.8;\" x=\"34.240625\" xlink:href=\"#mff25a3572c\" y=\"127.586729\"/>\r\n      </g>\r\n     </g>\r\n     <g id=\"text_11\">\r\n      <!-- 6 -->\r\n      <g transform=\"translate(20.878125 131.385947)scale(0.1 -0.1)\">\r\n       <defs>\r\n        <path d=\"M 33.015625 40.375 \r\nQ 26.375 40.375 22.484375 35.828125 \r\nQ 18.609375 31.296875 18.609375 23.390625 \r\nQ 18.609375 15.53125 22.484375 10.953125 \r\nQ 26.375 6.390625 33.015625 6.390625 \r\nQ 39.65625 6.390625 43.53125 10.953125 \r\nQ 47.40625 15.53125 47.40625 23.390625 \r\nQ 47.40625 31.296875 43.53125 35.828125 \r\nQ 39.65625 40.375 33.015625 40.375 \r\nz\r\nM 52.59375 71.296875 \r\nL 52.59375 62.3125 \r\nQ 48.875 64.0625 45.09375 64.984375 \r\nQ 41.3125 65.921875 37.59375 65.921875 \r\nQ 27.828125 65.921875 22.671875 59.328125 \r\nQ 17.53125 52.734375 16.796875 39.40625 \r\nQ 19.671875 43.65625 24.015625 45.921875 \r\nQ 28.375 48.1875 33.59375 48.1875 \r\nQ 44.578125 48.1875 50.953125 41.515625 \r\nQ 57.328125 34.859375 57.328125 23.390625 \r\nQ 57.328125 12.15625 50.6875 5.359375 \r\nQ 44.046875 -1.421875 33.015625 -1.421875 \r\nQ 20.359375 -1.421875 13.671875 8.265625 \r\nQ 6.984375 17.96875 6.984375 36.375 \r\nQ 6.984375 53.65625 15.1875 63.9375 \r\nQ 23.390625 74.21875 37.203125 74.21875 \r\nQ 40.921875 74.21875 44.703125 73.484375 \r\nQ 48.484375 72.75 52.59375 71.296875 \r\nz\r\n\" id=\"DejaVuSans-54\"/>\r\n       </defs>\r\n       <use xlink:href=\"#DejaVuSans-54\"/>\r\n      </g>\r\n     </g>\r\n    </g>\r\n    <g id=\"ytick_5\">\r\n     <g id=\"line2d_11\">\r\n      <g>\r\n       <use style=\"stroke:#000000;stroke-width:0.8;\" x=\"34.240625\" xlink:href=\"#mff25a3572c\" y=\"60.582305\"/>\r\n      </g>\r\n     </g>\r\n     <g id=\"text_12\">\r\n      <!-- 8 -->\r\n      <g transform=\"translate(20.878125 64.381524)scale(0.1 -0.1)\">\r\n       <defs>\r\n        <path d=\"M 31.78125 34.625 \r\nQ 24.75 34.625 20.71875 30.859375 \r\nQ 16.703125 27.09375 16.703125 20.515625 \r\nQ 16.703125 13.921875 20.71875 10.15625 \r\nQ 24.75 6.390625 31.78125 6.390625 \r\nQ 38.8125 6.390625 42.859375 10.171875 \r\nQ 46.921875 13.96875 46.921875 20.515625 \r\nQ 46.921875 27.09375 42.890625 30.859375 \r\nQ 38.875 34.625 31.78125 34.625 \r\nz\r\nM 21.921875 38.8125 \r\nQ 15.578125 40.375 12.03125 44.71875 \r\nQ 8.5 49.078125 8.5 55.328125 \r\nQ 8.5 64.0625 14.71875 69.140625 \r\nQ 20.953125 74.21875 31.78125 74.21875 \r\nQ 42.671875 74.21875 48.875 69.140625 \r\nQ 55.078125 64.0625 55.078125 55.328125 \r\nQ 55.078125 49.078125 51.53125 44.71875 \r\nQ 48 40.375 41.703125 38.8125 \r\nQ 48.828125 37.15625 52.796875 32.3125 \r\nQ 56.78125 27.484375 56.78125 20.515625 \r\nQ 56.78125 9.90625 50.3125 4.234375 \r\nQ 43.84375 -1.421875 31.78125 -1.421875 \r\nQ 19.734375 -1.421875 13.25 4.234375 \r\nQ 6.78125 9.90625 6.78125 20.515625 \r\nQ 6.78125 27.484375 10.78125 32.3125 \r\nQ 14.796875 37.15625 21.921875 38.8125 \r\nz\r\nM 18.3125 54.390625 \r\nQ 18.3125 48.734375 21.84375 45.5625 \r\nQ 25.390625 42.390625 31.78125 42.390625 \r\nQ 38.140625 42.390625 41.71875 45.5625 \r\nQ 45.3125 48.734375 45.3125 54.390625 \r\nQ 45.3125 60.0625 41.71875 63.234375 \r\nQ 38.140625 66.40625 31.78125 66.40625 \r\nQ 25.390625 66.40625 21.84375 63.234375 \r\nQ 18.3125 60.0625 18.3125 54.390625 \r\nz\r\n\" id=\"DejaVuSans-56\"/>\r\n       </defs>\r\n       <use xlink:href=\"#DejaVuSans-56\"/>\r\n      </g>\r\n     </g>\r\n    </g>\r\n    <g id=\"text_13\">\r\n     <!-- Mean -->\r\n     <g transform=\"translate(14.798438 181.523437)rotate(-90)scale(0.1 -0.1)\">\r\n      <defs>\r\n       <path d=\"M 9.8125 72.90625 \r\nL 24.515625 72.90625 \r\nL 43.109375 23.296875 \r\nL 61.8125 72.90625 \r\nL 76.515625 72.90625 \r\nL 76.515625 0 \r\nL 66.890625 0 \r\nL 66.890625 64.015625 \r\nL 48.09375 14.015625 \r\nL 38.1875 14.015625 \r\nL 19.390625 64.015625 \r\nL 19.390625 0 \r\nL 9.8125 0 \r\nz\r\n\" id=\"DejaVuSans-77\"/>\r\n      </defs>\r\n      <use xlink:href=\"#DejaVuSans-77\"/>\r\n      <use x=\"86.279297\" xlink:href=\"#DejaVuSans-101\"/>\r\n      <use x=\"147.802734\" xlink:href=\"#DejaVuSans-97\"/>\r\n      <use x=\"209.082031\" xlink:href=\"#DejaVuSans-110\"/>\r\n     </g>\r\n    </g>\r\n   </g>\r\n   <g id=\"patch_3\">\r\n    <path d=\"M 34.240625 328.6 \r\nL 34.240625 7.2 \r\n\" style=\"fill:none;stroke:#000000;stroke-linecap:square;stroke-linejoin:miter;stroke-width:0.8;\"/>\r\n   </g>\r\n   <g id=\"patch_4\">\r\n    <path d=\"M 34.240625 328.6 \r\nL 361.44105 328.6 \r\n\" style=\"fill:none;stroke:#000000;stroke-linecap:square;stroke-linejoin:miter;stroke-width:0.8;\"/>\r\n   </g>\r\n  </g>\r\n  <g id=\"legend_1\">\r\n   <g id=\"text_14\">\r\n    <!-- Value -->\r\n    <g transform=\"translate(381.636832 163.820312)scale(0.1 -0.1)\">\r\n     <defs>\r\n      <path d=\"M 28.609375 0 \r\nL 0.78125 72.90625 \r\nL 11.078125 72.90625 \r\nL 34.1875 11.53125 \r\nL 57.328125 72.90625 \r\nL 67.578125 72.90625 \r\nL 39.796875 0 \r\nz\r\n\" id=\"DejaVuSans-86\"/>\r\n      <path d=\"M 9.421875 75.984375 \r\nL 18.40625 75.984375 \r\nL 18.40625 0 \r\nL 9.421875 0 \r\nz\r\n\" id=\"DejaVuSans-108\"/>\r\n      <path d=\"M 8.5 21.578125 \r\nL 8.5 54.6875 \r\nL 17.484375 54.6875 \r\nL 17.484375 21.921875 \r\nQ 17.484375 14.15625 20.5 10.265625 \r\nQ 23.53125 6.390625 29.59375 6.390625 \r\nQ 36.859375 6.390625 41.078125 11.03125 \r\nQ 45.3125 15.671875 45.3125 23.6875 \r\nL 45.3125 54.6875 \r\nL 54.296875 54.6875 \r\nL 54.296875 0 \r\nL 45.3125 0 \r\nL 45.3125 8.40625 \r\nQ 42.046875 3.421875 37.71875 1 \r\nQ 33.40625 -1.421875 27.6875 -1.421875 \r\nQ 18.265625 -1.421875 13.375 4.4375 \r\nQ 8.5 10.296875 8.5 21.578125 \r\nz\r\nM 31.109375 56 \r\nz\r\n\" id=\"DejaVuSans-117\"/>\r\n     </defs>\r\n     <use xlink:href=\"#DejaVuSans-86\"/>\r\n     <use x=\"60.658203\" xlink:href=\"#DejaVuSans-97\"/>\r\n     <use x=\"121.9375\" xlink:href=\"#DejaVuSans-108\"/>\r\n     <use x=\"149.720703\" xlink:href=\"#DejaVuSans-117\"/>\r\n     <use x=\"213.099609\" xlink:href=\"#DejaVuSans-101\"/>\r\n    </g>\r\n   </g>\r\n   <g id=\"PathCollection_4\">\r\n    <g>\r\n     <use style=\"fill:#1f77b4;fill-opacity:0.8;stroke:#1f77b4;stroke-opacity:0.8;\" x=\"376.718863\" xlink:href=\"#mf0697e096d\" y=\"175.873437\"/>\r\n    </g>\r\n   </g>\r\n   <g id=\"text_15\">\r\n    <!-- mean -->\r\n    <g transform=\"translate(394.718863 178.498437)scale(0.1 -0.1)\">\r\n     <defs>\r\n      <path d=\"M 52 44.1875 \r\nQ 55.375 50.25 60.0625 53.125 \r\nQ 64.75 56 71.09375 56 \r\nQ 79.640625 56 84.28125 50.015625 \r\nQ 88.921875 44.046875 88.921875 33.015625 \r\nL 88.921875 0 \r\nL 79.890625 0 \r\nL 79.890625 32.71875 \r\nQ 79.890625 40.578125 77.09375 44.375 \r\nQ 74.3125 48.1875 68.609375 48.1875 \r\nQ 61.625 48.1875 57.5625 43.546875 \r\nQ 53.515625 38.921875 53.515625 30.90625 \r\nL 53.515625 0 \r\nL 44.484375 0 \r\nL 44.484375 32.71875 \r\nQ 44.484375 40.625 41.703125 44.40625 \r\nQ 38.921875 48.1875 33.109375 48.1875 \r\nQ 26.21875 48.1875 22.15625 43.53125 \r\nQ 18.109375 38.875 18.109375 30.90625 \r\nL 18.109375 0 \r\nL 9.078125 0 \r\nL 9.078125 54.6875 \r\nL 18.109375 54.6875 \r\nL 18.109375 46.1875 \r\nQ 21.1875 51.21875 25.484375 53.609375 \r\nQ 29.78125 56 35.6875 56 \r\nQ 41.65625 56 45.828125 52.96875 \r\nQ 50 49.953125 52 44.1875 \r\nz\r\n\" id=\"DejaVuSans-109\"/>\r\n     </defs>\r\n     <use xlink:href=\"#DejaVuSans-109\"/>\r\n     <use x=\"97.412109\" xlink:href=\"#DejaVuSans-101\"/>\r\n     <use x=\"158.935547\" xlink:href=\"#DejaVuSans-97\"/>\r\n     <use x=\"220.214844\" xlink:href=\"#DejaVuSans-110\"/>\r\n    </g>\r\n   </g>\r\n   <g id=\"PathCollection_5\">\r\n    <g>\r\n     <use style=\"fill:#ff7f0e;fill-opacity:0.8;stroke:#ff7f0e;stroke-opacity:0.8;\" x=\"376.718863\" xlink:href=\"#me24447af69\" y=\"190.551562\"/>\r\n    </g>\r\n   </g>\r\n   <g id=\"text_16\">\r\n    <!-- lower -->\r\n    <g transform=\"translate(394.718863 193.176562)scale(0.1 -0.1)\">\r\n     <defs>\r\n      <path d=\"M 4.203125 54.6875 \r\nL 13.1875 54.6875 \r\nL 24.421875 12.015625 \r\nL 35.59375 54.6875 \r\nL 46.1875 54.6875 \r\nL 57.421875 12.015625 \r\nL 68.609375 54.6875 \r\nL 77.59375 54.6875 \r\nL 63.28125 0 \r\nL 52.6875 0 \r\nL 40.921875 44.828125 \r\nL 29.109375 0 \r\nL 18.5 0 \r\nz\r\n\" id=\"DejaVuSans-119\"/>\r\n     </defs>\r\n     <use xlink:href=\"#DejaVuSans-108\"/>\r\n     <use x=\"27.783203\" xlink:href=\"#DejaVuSans-111\"/>\r\n     <use x=\"88.964844\" xlink:href=\"#DejaVuSans-119\"/>\r\n     <use x=\"170.751953\" xlink:href=\"#DejaVuSans-101\"/>\r\n     <use x=\"232.275391\" xlink:href=\"#DejaVuSans-114\"/>\r\n    </g>\r\n   </g>\r\n   <g id=\"PathCollection_6\">\r\n    <g>\r\n     <use style=\"fill:#2ca02c;fill-opacity:0.8;stroke:#2ca02c;stroke-opacity:0.8;\" x=\"376.718863\" xlink:href=\"#mefbe7f6f25\" y=\"205.229687\"/>\r\n    </g>\r\n   </g>\r\n   <g id=\"text_17\">\r\n    <!-- upper -->\r\n    <g transform=\"translate(394.718863 207.854687)scale(0.1 -0.1)\">\r\n     <use xlink:href=\"#DejaVuSans-117\"/>\r\n     <use x=\"63.378906\" xlink:href=\"#DejaVuSans-112\"/>\r\n     <use x=\"126.855469\" xlink:href=\"#DejaVuSans-112\"/>\r\n     <use x=\"190.332031\" xlink:href=\"#DejaVuSans-101\"/>\r\n     <use x=\"251.855469\" xlink:href=\"#DejaVuSans-114\"/>\r\n    </g>\r\n   </g>\r\n  </g>\r\n </g>\r\n <defs>\r\n  <clipPath id=\"pc2c477e70e\">\r\n   <rect height=\"321.4\" width=\"327.200425\" x=\"34.240625\" y=\"7.2\"/>\r\n  </clipPath>\r\n </defs>\r\n</svg>\r\n",
            "image/png": "[encoded data removed]"
          },
          "metadata": {
            "needs_background": "light"
          }
        }
      ]
    },
    {
      "cell_type": "markdown",
      "metadata": {
        "id": "qjNgXW6wdd7r"
      },
      "source": [
        "# Vehicles dataset\n",
        "\n",
        "Now let's work on a different dataset, which is stored in the vehicles.csv file.\n"
      ]
    },
    {
      "cell_type": "code",
      "metadata": {
        "id": "avWv4ipFdpka"
      },
      "source": [
        "# Load and visualise the vehicles dataset\n",
        "# To load the dataset: https://neptune.ai/blog/google-colab-dealing-with-files (check section \"Load individual files directly from GitHub\")\n",
        "# Load the data\n",
        "df = pd.read_csv('https://raw.githubusercontent.com/albanda/CE888/master/lab2%20-%20bootstrap/vehicles.csv')\n",
        "df.head\n",
        "#new_fleet=df['New Fleet']\n",
        "current_fleet= df['Current fleet']\n",
        "new_fleet = df[df['New Fleet'].notna()]\n",
        "# Note that the current and new fleets are in different columns and have different lengths, so bear this in mind when you're plotting.\n",
        "# You can create separate scatterplots for the two fleets, as you would with the histograms, \n",
        "# or plot them both in one plot (but not one against the other).\n",
        "# <---INSERT YOUR CODE HERE--->\n",
        "# Note: you can add more cells as needed to organise your code and your plots\n"
      ],
      "execution_count": 50,
      "outputs": []
    },
    {
      "cell_type": "code",
      "execution_count": 66,
      "metadata": {},
      "outputs": [],
      "source": [
        "new_fleet = df[df['New Fleet'].notna()]"
      ]
    },
    {
      "cell_type": "code",
      "execution_count": 64,
      "metadata": {},
      "outputs": [],
      "source": [
        "new_fleet =df['New Fleet']"
      ]
    },
    {
      "cell_type": "code",
      "execution_count": 70,
      "metadata": {},
      "outputs": [
        {
          "output_type": "error",
          "ename": "KeyError",
          "evalue": "'New Fleet'",
          "traceback": [
            "\u001b[1;31m---------------------------------------------------------------------------\u001b[0m",
            "\u001b[1;31mKeyError\u001b[0m                                  Traceback (most recent call last)",
            "\u001b[1;32m~\\anaconda3\\envs\\ce802\\lib\\site-packages\\pandas\\core\\indexes\\base.py\u001b[0m in \u001b[0;36mget_loc\u001b[1;34m(self, key, method, tolerance)\u001b[0m\n\u001b[0;32m   2894\u001b[0m             \u001b[1;32mtry\u001b[0m\u001b[1;33m:\u001b[0m\u001b[1;33m\u001b[0m\u001b[1;33m\u001b[0m\u001b[0m\n\u001b[1;32m-> 2895\u001b[1;33m                 \u001b[1;32mreturn\u001b[0m \u001b[0mself\u001b[0m\u001b[1;33m.\u001b[0m\u001b[0m_engine\u001b[0m\u001b[1;33m.\u001b[0m\u001b[0mget_loc\u001b[0m\u001b[1;33m(\u001b[0m\u001b[0mcasted_key\u001b[0m\u001b[1;33m)\u001b[0m\u001b[1;33m\u001b[0m\u001b[1;33m\u001b[0m\u001b[0m\n\u001b[0m\u001b[0;32m   2896\u001b[0m             \u001b[1;32mexcept\u001b[0m \u001b[0mKeyError\u001b[0m \u001b[1;32mas\u001b[0m \u001b[0merr\u001b[0m\u001b[1;33m:\u001b[0m\u001b[1;33m\u001b[0m\u001b[1;33m\u001b[0m\u001b[0m\n",
            "\u001b[1;32mpandas\\_libs\\index.pyx\u001b[0m in \u001b[0;36mpandas._libs.index.IndexEngine.get_loc\u001b[1;34m()\u001b[0m\n",
            "\u001b[1;32mpandas\\_libs\\index.pyx\u001b[0m in \u001b[0;36mpandas._libs.index.IndexEngine.get_loc\u001b[1;34m()\u001b[0m\n",
            "\u001b[1;32mpandas\\_libs\\index_class_helper.pxi\u001b[0m in \u001b[0;36mpandas._libs.index.Int64Engine._check_type\u001b[1;34m()\u001b[0m\n",
            "\u001b[1;31mKeyError\u001b[0m: 'New Fleet'",
            "\nThe above exception was the direct cause of the following exception:\n",
            "\u001b[1;31mKeyError\u001b[0m                                  Traceback (most recent call last)",
            "\u001b[1;32m<ipython-input-70-11b59cf10c75>\u001b[0m in \u001b[0;36m<module>\u001b[1;34m\u001b[0m\n\u001b[1;32m----> 1\u001b[1;33m \u001b[0mnew_fleet\u001b[0m \u001b[1;33m=\u001b[0m\u001b[0mnew_fleet\u001b[0m\u001b[1;33m[\u001b[0m\u001b[1;34m'New Fleet'\u001b[0m\u001b[1;33m]\u001b[0m\u001b[1;33m\u001b[0m\u001b[1;33m\u001b[0m\u001b[0m\n\u001b[0m",
            "\u001b[1;32m~\\anaconda3\\envs\\ce802\\lib\\site-packages\\pandas\\core\\series.py\u001b[0m in \u001b[0;36m__getitem__\u001b[1;34m(self, key)\u001b[0m\n\u001b[0;32m    880\u001b[0m \u001b[1;33m\u001b[0m\u001b[0m\n\u001b[0;32m    881\u001b[0m         \u001b[1;32melif\u001b[0m \u001b[0mkey_is_scalar\u001b[0m\u001b[1;33m:\u001b[0m\u001b[1;33m\u001b[0m\u001b[1;33m\u001b[0m\u001b[0m\n\u001b[1;32m--> 882\u001b[1;33m             \u001b[1;32mreturn\u001b[0m \u001b[0mself\u001b[0m\u001b[1;33m.\u001b[0m\u001b[0m_get_value\u001b[0m\u001b[1;33m(\u001b[0m\u001b[0mkey\u001b[0m\u001b[1;33m)\u001b[0m\u001b[1;33m\u001b[0m\u001b[1;33m\u001b[0m\u001b[0m\n\u001b[0m\u001b[0;32m    883\u001b[0m \u001b[1;33m\u001b[0m\u001b[0m\n\u001b[0;32m    884\u001b[0m         \u001b[1;32mif\u001b[0m \u001b[0mis_hashable\u001b[0m\u001b[1;33m(\u001b[0m\u001b[0mkey\u001b[0m\u001b[1;33m)\u001b[0m\u001b[1;33m:\u001b[0m\u001b[1;33m\u001b[0m\u001b[1;33m\u001b[0m\u001b[0m\n",
            "\u001b[1;32m~\\anaconda3\\envs\\ce802\\lib\\site-packages\\pandas\\core\\series.py\u001b[0m in \u001b[0;36m_get_value\u001b[1;34m(self, label, takeable)\u001b[0m\n\u001b[0;32m    987\u001b[0m \u001b[1;33m\u001b[0m\u001b[0m\n\u001b[0;32m    988\u001b[0m         \u001b[1;31m# Similar to Index.get_value, but we do not fall back to positional\u001b[0m\u001b[1;33m\u001b[0m\u001b[1;33m\u001b[0m\u001b[1;33m\u001b[0m\u001b[0m\n\u001b[1;32m--> 989\u001b[1;33m         \u001b[0mloc\u001b[0m \u001b[1;33m=\u001b[0m \u001b[0mself\u001b[0m\u001b[1;33m.\u001b[0m\u001b[0mindex\u001b[0m\u001b[1;33m.\u001b[0m\u001b[0mget_loc\u001b[0m\u001b[1;33m(\u001b[0m\u001b[0mlabel\u001b[0m\u001b[1;33m)\u001b[0m\u001b[1;33m\u001b[0m\u001b[1;33m\u001b[0m\u001b[0m\n\u001b[0m\u001b[0;32m    990\u001b[0m         \u001b[1;32mreturn\u001b[0m \u001b[0mself\u001b[0m\u001b[1;33m.\u001b[0m\u001b[0mindex\u001b[0m\u001b[1;33m.\u001b[0m\u001b[0m_get_values_for_loc\u001b[0m\u001b[1;33m(\u001b[0m\u001b[0mself\u001b[0m\u001b[1;33m,\u001b[0m \u001b[0mloc\u001b[0m\u001b[1;33m,\u001b[0m \u001b[0mlabel\u001b[0m\u001b[1;33m)\u001b[0m\u001b[1;33m\u001b[0m\u001b[1;33m\u001b[0m\u001b[0m\n\u001b[0;32m    991\u001b[0m \u001b[1;33m\u001b[0m\u001b[0m\n",
            "\u001b[1;32m~\\anaconda3\\envs\\ce802\\lib\\site-packages\\pandas\\core\\indexes\\base.py\u001b[0m in \u001b[0;36mget_loc\u001b[1;34m(self, key, method, tolerance)\u001b[0m\n\u001b[0;32m   2895\u001b[0m                 \u001b[1;32mreturn\u001b[0m \u001b[0mself\u001b[0m\u001b[1;33m.\u001b[0m\u001b[0m_engine\u001b[0m\u001b[1;33m.\u001b[0m\u001b[0mget_loc\u001b[0m\u001b[1;33m(\u001b[0m\u001b[0mcasted_key\u001b[0m\u001b[1;33m)\u001b[0m\u001b[1;33m\u001b[0m\u001b[1;33m\u001b[0m\u001b[0m\n\u001b[0;32m   2896\u001b[0m             \u001b[1;32mexcept\u001b[0m \u001b[0mKeyError\u001b[0m \u001b[1;32mas\u001b[0m \u001b[0merr\u001b[0m\u001b[1;33m:\u001b[0m\u001b[1;33m\u001b[0m\u001b[1;33m\u001b[0m\u001b[0m\n\u001b[1;32m-> 2897\u001b[1;33m                 \u001b[1;32mraise\u001b[0m \u001b[0mKeyError\u001b[0m\u001b[1;33m(\u001b[0m\u001b[0mkey\u001b[0m\u001b[1;33m)\u001b[0m \u001b[1;32mfrom\u001b[0m \u001b[0merr\u001b[0m\u001b[1;33m\u001b[0m\u001b[1;33m\u001b[0m\u001b[0m\n\u001b[0m\u001b[0;32m   2898\u001b[0m \u001b[1;33m\u001b[0m\u001b[0m\n\u001b[0;32m   2899\u001b[0m         \u001b[1;32mif\u001b[0m \u001b[0mtolerance\u001b[0m \u001b[1;32mis\u001b[0m \u001b[1;32mnot\u001b[0m \u001b[1;32mNone\u001b[0m\u001b[1;33m:\u001b[0m\u001b[1;33m\u001b[0m\u001b[1;33m\u001b[0m\u001b[0m\n",
            "\u001b[1;31mKeyError\u001b[0m: 'New Fleet'"
          ]
        }
      ],
      "source": [
        "new_fleet =new_fleet['New Fleet']"
      ]
    },
    {
      "cell_type": "code",
      "execution_count": 71,
      "metadata": {},
      "outputs": [
        {
          "output_type": "execute_result",
          "data": {
            "text/plain": [
              "0     24.0\n",
              "1     27.0\n",
              "2     27.0\n",
              "3     25.0\n",
              "4     31.0\n",
              "      ... \n",
              "74    34.0\n",
              "75    38.0\n",
              "76    32.0\n",
              "77    38.0\n",
              "78    32.0\n",
              "Name: New Fleet, Length: 79, dtype: float64"
            ]
          },
          "metadata": {},
          "execution_count": 71
        }
      ],
      "source": [
        "new_fleet"
      ]
    },
    {
      "cell_type": "code",
      "execution_count": 51,
      "metadata": {},
      "outputs": [
        {
          "output_type": "execute_result",
          "data": {
            "text/plain": [
              "0      18\n",
              "1      15\n",
              "2      18\n",
              "3      16\n",
              "4      17\n",
              "       ..\n",
              "244    27\n",
              "245    27\n",
              "246    32\n",
              "247    28\n",
              "248    31\n",
              "Name: Current fleet, Length: 249, dtype: int64"
            ]
          },
          "metadata": {},
          "execution_count": 51
        }
      ],
      "source": [
        "current_fleet"
      ]
    },
    {
      "cell_type": "code",
      "execution_count": 52,
      "metadata": {},
      "outputs": [
        {
          "output_type": "execute_result",
          "data": {
            "text/plain": [
              "(249,)"
            ]
          },
          "metadata": {},
          "execution_count": 52
        }
      ],
      "source": [
        "current_fleet.shape"
      ]
    },
    {
      "cell_type": "code",
      "execution_count": 54,
      "metadata": {},
      "outputs": [
        {
          "output_type": "execute_result",
          "data": {
            "text/plain": [
              "(79, 2)"
            ]
          },
          "metadata": {},
          "execution_count": 54
        }
      ],
      "source": [
        "new_fleet.shape"
      ]
    },
    {
      "cell_type": "code",
      "execution_count": 21,
      "metadata": {},
      "outputs": [
        {
          "output_type": "execute_result",
          "data": {
            "text/plain": [
              "    Current fleet  New Fleet\n",
              "0              18       24.0\n",
              "1              15       27.0\n",
              "2              18       27.0\n",
              "3              16       25.0\n",
              "4              17       31.0\n",
              "..            ...        ...\n",
              "74             18       34.0\n",
              "75             18       38.0\n",
              "76             23       32.0\n",
              "77             11       38.0\n",
              "78             12       32.0\n",
              "\n",
              "[79 rows x 2 columns]"
            ],
            "text/html": "<div>\n<style scoped>\n    .dataframe tbody tr th:only-of-type {\n        vertical-align: middle;\n    }\n\n    .dataframe tbody tr th {\n        vertical-align: top;\n    }\n\n    .dataframe thead th {\n        text-align: right;\n    }\n</style>\n<table border=\"1\" class=\"dataframe\">\n  <thead>\n    <tr style=\"text-align: right;\">\n      <th></th>\n      <th>Current fleet</th>\n      <th>New Fleet</th>\n    </tr>\n  </thead>\n  <tbody>\n    <tr>\n      <th>0</th>\n      <td>18</td>\n      <td>24.0</td>\n    </tr>\n    <tr>\n      <th>1</th>\n      <td>15</td>\n      <td>27.0</td>\n    </tr>\n    <tr>\n      <th>2</th>\n      <td>18</td>\n      <td>27.0</td>\n    </tr>\n    <tr>\n      <th>3</th>\n      <td>16</td>\n      <td>25.0</td>\n    </tr>\n    <tr>\n      <th>4</th>\n      <td>17</td>\n      <td>31.0</td>\n    </tr>\n    <tr>\n      <th>...</th>\n      <td>...</td>\n      <td>...</td>\n    </tr>\n    <tr>\n      <th>74</th>\n      <td>18</td>\n      <td>34.0</td>\n    </tr>\n    <tr>\n      <th>75</th>\n      <td>18</td>\n      <td>38.0</td>\n    </tr>\n    <tr>\n      <th>76</th>\n      <td>23</td>\n      <td>32.0</td>\n    </tr>\n    <tr>\n      <th>77</th>\n      <td>11</td>\n      <td>38.0</td>\n    </tr>\n    <tr>\n      <th>78</th>\n      <td>12</td>\n      <td>32.0</td>\n    </tr>\n  </tbody>\n</table>\n<p>79 rows × 2 columns</p>\n</div>"
          },
          "metadata": {},
          "execution_count": 21
        }
      ],
      "source": [
        "new_fleet"
      ]
    },
    {
      "cell_type": "code",
      "execution_count": null,
      "metadata": {},
      "outputs": [],
      "source": []
    },
    {
      "cell_type": "markdown",
      "metadata": {
        "id": "B5d0tXDpIEj8"
      },
      "source": [
        "## Compare the two fleets\n",
        "\n",
        "The business analysts come up a comparison algorithm that requires the upper and lower bounds for the mean in order to say which fleet is better.\n",
        "1. Calculate the mean of both samples.\n",
        "2. Using the bootstrap function that you created:\n",
        "    - Construct the 95% CI of the mean of the current fleet.\n",
        "    - Construct the 95% CI of the mean of the new fleet.\n",
        "    - Are they comparable? (i.e., is one better than the other?) -- you can do this with a permutation test (check the lecture notes!)"
      ]
    },
    {
      "cell_type": "code",
      "execution_count": 41,
      "metadata": {},
      "outputs": [
        {
          "output_type": "execute_result",
          "data": {
            "text/plain": [
              "249"
            ]
          },
          "metadata": {},
          "execution_count": 41
        }
      ],
      "source": [
        "current_fleet.shape[0]"
      ]
    },
    {
      "cell_type": "code",
      "execution_count": 42,
      "metadata": {},
      "outputs": [
        {
          "output_type": "execute_result",
          "data": {
            "text/plain": [
              "0      18\n",
              "1      15\n",
              "2      18\n",
              "3      16\n",
              "4      17\n",
              "       ..\n",
              "244    27\n",
              "245    27\n",
              "246    32\n",
              "247    28\n",
              "248    31\n",
              "Name: Current fleet, Length: 249, dtype: int64"
            ]
          },
          "metadata": {},
          "execution_count": 42
        }
      ],
      "source": [
        "current_fleet"
      ]
    },
    {
      "cell_type": "code",
      "execution_count": 139,
      "metadata": {},
      "outputs": [],
      "source": [
        "def bootstrap_mean_ci(sample, sample_size, n_bootstraps, ci):\n",
        " # print(f\"sample  =   {sample}\")\n",
        " # print(f\"sample_size  =   {sample_size}\")\n",
        " # ci = ci/100\n",
        "  store = []\n",
        "  mean = []\n",
        "  sum_x = 0\n",
        "  for i in range(n_bootstraps):\n",
        "    y = np.random.choice(sample, sample_size)\n",
        "    print(y)\n",
        "    mean.append(sum(y)/sample_size)\n",
        "    for i in y:\n",
        "      sum_x = sum_x+i\n",
        "      #data_mean = sum_x/sample_size\n",
        "     \n",
        "      #mean.append(data_mean)\n",
        "    #data_mean.append(sum(y)/sample_size)\n",
        "    store.append(y)\n",
        "  y \n",
        "  data_mean = sum_x/(sample_size*n_bootstraps)\n",
        "  ordered = np.sort(mean)\n",
        "  #print(ordered)\n",
        "  lower = np.percentile(ordered, ci)\n",
        "  upper = np.percentile(ordered, ci)\n",
        "  print(np.percentile)\n",
        "  return data_mean, lower, upper"
      ]
    },
    {
      "cell_type": "code",
      "execution_count": 151,
      "metadata": {},
      "outputs": [
        {
          "output_type": "stream",
          "name": "stdout",
          "text": [
            "[array([19, 20, 16, 32, 29, 12, 36, 25, 10, 16, 28, 19, 36, 39, 25, 18, 11,\n       31, 21, 21, 23, 21, 13, 14, 36, 18, 14, 22, 27, 39, 14, 18, 13, 23,\n       17, 27, 15, 13, 20, 23, 28, 27, 28, 14, 13, 22, 14, 36, 20, 26,  9,\n       14, 14, 21, 15, 30, 24, 34, 22, 15, 19, 16, 15, 13, 38, 15, 13, 22,\n       13, 18, 13, 16, 19, 39, 26, 16, 22, 28, 13, 18, 22, 23, 13, 20, 14,\n       15, 18, 19, 14, 15, 21, 39, 17, 26, 28, 34, 27, 14, 13, 22, 16, 15,\n       21, 19, 21, 18, 20, 26, 23, 27, 16, 26, 21, 13, 28, 19, 13, 21, 26,\n       14, 14, 25, 24, 25, 15, 18, 14, 18, 18, 25, 20, 12, 12, 18, 18, 18,\n       30, 14, 16, 16, 30, 14, 18, 30, 20, 12, 17, 36, 19, 13, 19, 16, 18,\n       27, 20, 18, 29, 25, 18, 28, 20, 24, 24, 22, 17, 23, 18, 24, 32, 14,\n       27, 15, 18, 16, 29, 15, 17, 16, 18, 14, 23, 26, 23, 19, 31, 29, 16,\n       11, 17, 31, 22, 22, 16, 18, 16, 31, 18, 16, 19, 13, 27, 18, 27, 13,\n       14, 15, 24, 24, 13, 14, 18, 27, 15, 14, 18, 15, 19, 18, 23, 27, 15,\n       18, 28, 13, 16, 15, 14, 13, 16, 25, 19, 18, 34, 16, 16, 28, 15, 22,\n       15, 16, 19, 15, 22, 10, 19, 19, 19, 21, 29], dtype=int64), array([31, 13, 20, 11, 16, 14, 24, 25, 16, 18, 30, 14, 23, 30, 26, 14, 18,\n       27, 24, 15, 20, 27, 13, 13, 18, 27, 20, 24, 22, 34, 21, 26, 14, 24,\n       27, 14, 21, 25, 19, 23, 22, 20, 18, 24, 10, 22, 13, 22, 21, 27, 13,\n       17, 14, 16, 27, 16, 14, 18, 27, 13, 21, 34, 19, 28, 13, 18, 20, 22,\n       16, 13, 24, 23, 23, 19, 21, 14, 16, 11, 32, 16, 23, 18, 17, 35, 12,\n       14, 31, 21, 19, 18, 19, 29, 26, 27, 25, 27, 14, 16, 19, 23, 28, 26,\n       17, 15, 18, 28, 27, 18, 27, 14, 15, 26, 21, 14, 21, 15, 13, 22, 20,\n       17, 18, 28, 21, 28, 19, 14, 13, 19, 10, 38, 30, 28, 15, 18, 18, 15,\n       16, 18, 23, 19, 24, 16, 27, 25,  9, 26, 20, 28, 19, 36, 30, 27, 15,\n       28, 16, 16, 18, 28, 15, 17, 20, 18, 29, 15, 14, 19, 19, 14, 22, 13,\n       27, 29, 15, 11, 28, 31, 32, 13, 20, 13, 21, 11, 27, 13, 15, 26, 23,\n       13, 28, 19, 20, 13, 13, 31, 17, 18, 29, 34, 28, 21, 23, 34, 12, 19,\n       16, 32, 14, 22, 31, 28, 20, 12, 16, 17, 23, 18, 30, 13, 28, 15, 22,\n       27, 17, 20, 20, 13, 13, 22, 22, 19, 27, 13, 16, 22, 26, 12, 14, 15,\n       27, 31, 15, 23, 21, 22, 28, 18, 18, 18, 35], dtype=int64), array([22, 36, 26, 15, 29, 13, 20, 16, 15, 13, 14, 14, 14, 19, 38, 23, 14,\n       16, 27, 17, 25, 14, 30, 13, 17, 15, 24, 16, 22, 22, 18, 13, 21, 14,\n       21, 28, 14, 15, 28, 23, 18, 17, 16, 12, 24, 14, 27, 16, 27, 26, 23,\n       30, 11, 13, 13, 25, 13, 18, 26, 23, 19, 16, 19, 22, 27, 34, 19, 19,\n       15, 30, 23, 18, 32, 16, 23, 34, 15, 38, 21, 26, 26, 16, 20, 16, 28,\n       31, 38, 30, 18, 15, 24, 22, 35, 20, 14, 20, 13, 25, 23, 20, 30, 22,\n       15, 21, 14, 15, 11, 27, 18, 34, 23, 18, 16, 28, 15, 22, 17, 13, 13,\n       22, 38, 22, 28, 18, 13, 38, 18, 24, 19, 27, 24, 14, 18, 28, 21, 27,\n       13, 14, 20, 17, 17, 35, 18, 19, 36, 13, 18, 28, 19, 19, 15, 21, 16,\n       18, 19, 22, 21, 32, 17, 18, 14, 14, 10, 39, 14, 23, 25, 18, 20, 14,\n       28, 26, 13, 24, 27, 16, 23, 20, 24, 18, 21, 16, 13, 17, 26, 16, 20,\n       13, 22, 28, 28, 24, 22, 34, 16, 21, 13, 16, 19, 30, 13, 28, 25, 19,\n       14, 26, 15, 24, 14, 28, 17, 20, 12, 22, 29, 23, 29, 29, 28, 16, 13,\n       21, 17, 25, 21, 18, 14, 31, 22, 12, 18, 30, 32, 28, 27, 38, 16, 28,\n       27, 18,  9, 19, 12, 17, 18, 25, 26, 13, 28], dtype=int64), array([25, 34, 21, 19, 18, 15, 25, 28, 22, 18, 19, 20, 20, 16, 16, 28, 21,\n       16, 38, 17, 20, 18, 29, 14, 14, 18, 15, 34, 18, 26, 16, 12, 16, 18,\n       25, 12, 23, 38, 11, 16, 20, 18, 23, 27, 13, 13, 23, 14, 18, 30, 13,\n       16, 28, 19, 19, 18, 15, 14, 25, 17, 28, 13, 19, 36, 13, 21, 18, 13,\n       27, 13, 21, 26, 19, 23, 16, 14, 26, 34, 24, 29, 34, 28, 25, 13, 17,\n       18, 15, 13, 14, 15, 17, 12, 20, 14, 14, 12, 19, 31, 19, 25, 24, 21,\n       19, 20, 18, 14, 36, 14, 16, 28, 14, 27, 19, 18, 17, 28, 15, 22, 20,\n       11, 19, 11, 13, 19, 31, 13, 34, 36, 27, 13, 21, 19, 14, 13, 10, 13,\n       29, 17, 19, 38, 12, 17, 35, 27, 25, 22, 17, 36, 21, 13, 24, 28, 16,\n       13, 17, 29, 20, 29, 18, 18, 24, 21, 13, 13, 21, 26, 19, 22, 16, 15,\n       20, 23, 19, 34, 19, 14, 16, 18, 27, 13, 21, 13, 15, 16, 20, 18, 25,\n       19, 21, 14, 19, 13, 14, 30, 18, 27, 10, 16, 27, 22, 25, 18, 13, 18,\n       19, 13, 16, 15, 13, 16, 17, 21, 28, 16, 16, 12, 16, 19, 22, 14, 25,\n       12, 28, 20, 31, 15, 19, 19, 27, 19, 28, 27, 12, 13, 18, 26, 32, 13,\n       18, 15, 13, 28, 27, 16, 13, 23, 13, 26, 27], dtype=int64), array([13, 22, 19, 15, 16, 18, 36, 19, 16, 22, 28, 20, 31, 17, 16, 30, 21,\n       18, 13, 20, 20, 13, 23, 18, 36, 19, 12, 16, 19, 18, 16, 24, 18, 24,\n       13, 17, 20, 16, 14, 24, 13, 21, 32, 19, 20, 25, 17, 18, 20, 26, 25,\n       20, 24, 36, 19, 12, 26, 16, 36, 21, 19, 29, 21, 13, 15, 26, 12, 18,\n       19, 20, 21, 18, 29, 19, 20, 17, 14, 14, 17, 16, 13, 36, 28, 36, 19,\n       14, 21, 32, 13, 18, 19, 16, 23, 12, 18, 21, 26, 18, 26, 22, 14, 21,\n       26, 15, 15, 14, 14, 18, 23, 39, 17, 15, 18, 25, 15, 19, 18, 13, 10,\n       16, 13, 18, 14, 16, 26, 19, 28, 15, 29, 15, 13, 35, 26, 19, 36, 15,\n       13, 15, 14, 19, 21, 28, 25, 31, 13, 22, 25, 13, 14, 25, 15, 19, 22,\n       31, 34, 24, 34, 13, 14, 13, 28, 12, 18, 24, 20, 10, 16, 28, 18, 17,\n       18, 36, 16, 20, 38, 12, 13, 22, 18, 22, 18, 16, 11, 13, 13, 38, 19,\n       21, 16, 19, 12, 13, 32, 34, 15, 28, 29, 18, 15, 20, 13, 13, 19, 14,\n       19, 31, 20, 19, 27, 16, 18, 16, 35, 21, 15, 23, 13, 18, 12, 13, 22,\n       18, 22, 20, 25, 20, 25, 19, 22, 29, 29, 36, 15, 19, 14, 22, 18, 34,\n       18, 10, 17, 21, 19, 23, 21, 18, 17, 15, 14], dtype=int64)]\n"
          ]
        }
      ],
      "source": [
        "store = []\n",
        "#store = [[] for _ in range(5)]\n",
        "for i in range(5):\n",
        "     y = np.random.choice( current_fleet,  current_fleet.shape[0])\n",
        "     store.append(y)\n",
        "print(store)\n"
      ]
    },
    {
      "cell_type": "code",
      "execution_count": 170,
      "metadata": {},
      "outputs": [
        {
          "output_type": "execute_result",
          "data": {
            "text/plain": [
              "35.0"
            ]
          },
          "metadata": {},
          "execution_count": 170
        }
      ],
      "source": [
        "store = []\n",
        "mean = []\n",
        "sum_x = 0\n",
        "for i in range(10000):\n",
        "\n",
        "    y = np.random.choice( current_fleet,  current_fleet.shape[0])\n",
        "    #print(y)\n",
        "    mean.append(sum(y)/current_fleet.shape[0])\n",
        "    #print(mean)\n",
        "    for i in y:\n",
        "      sum_x = sum_x+i\n",
        "      #data_mean = sum_x/sample_size\n",
        "     \n",
        "      #mean.append(data_mean)\n",
        "    #data_mean.append(sum(y)/sample_size)\n",
        "    store.append(y)\n",
        "\n",
        "data_mean = sum_x/(current_fleet.shape[0]*5)\n",
        "ordered = np.sort(store)\n",
        "  #print(ordered)\n",
        "#print(np.percentile(ordered, 92,axis=1))\n",
        "max(np.percentile(ordered, 92,axis=1))\n",
        "#min(np.percentile(ordered, 92,axis=1))\n",
        "#lower = np.percentile(ordered, 90)\n",
        "#upper = np.percentile(ordered, 90)"
      ]
    },
    {
      "cell_type": "code",
      "metadata": {
        "id": "po4mp6zRHC0m"
      },
      "source": [
        "boots_c = []\n",
        "boots_n = []\n",
        "#for i in range(10000):\n",
        "boot_c = bootstrap_mean_ci(current_fleet, current_fleet.shape[0], 1, 95)\n",
        "boots_c.append([1, boot_c[0], \"mean\"])\n",
        "boots_c.append([1, boot_c[1], \"lower\"])\n",
        "boots_c.append([1, boot_c[2], \"upper\"])\n",
        "\n",
        "boot_n = bootstrap_mean_ci(new_fleet, new_fleet.shape[0], 1, 95)\n",
        "boots_n.append([1, boot_n[0], \"mean\"])\n",
        "boots_n.append([1, boot_n[1], \"lower\"])\n",
        "boots_n.append([1, boot_n[2], \"upper\"])\n",
        "\n",
        "\n",
        "\n",
        "\n"
      ],
      "execution_count": 140,
      "outputs": [
        {
          "output_type": "stream",
          "name": "stdout",
          "text": [
            "[21 31 16 16 22 14 27 27 25 21  9 18 14 21 20 28 25 18 19 31 38 14 15 16\n 19 18 15 28 18 21 21 11 18 28 16 25 19 14 14 24 27 22 16 23 12 15 26 13\n 15 15 26 18 21 13 36 18 18 19 20 16 18 29 15 18 19 24 21 18 27 16 14 16\n 26 11 35 18 13 16 27 38 15 26 13 16 12 16 27 20 26 13 14 34 18 15 18 28\n 17 22 24 31 19 19 15 25 31 28 15 14 24 27 18 10 17 16 36 15 18 25 16 23\n 21 19 23 14 16 14 19 15 24 22 17 32 18 15 13 15 15 14 23 16 27 23 18 23\n 16 19 30 36 17 25 23 14 38 10 14 24 19 26 18 11 13 30 14 20 16 26 20 12\n 24 19 19 18 15 23 13 19 14 14 34 20 13 24 18 24 19 22 14 22 19 35 26 17\n 28 29 11 28 12 20 14 22 21 39 21 16 16 23 12 23 18 19 28 13 11 23 15 24\n 31 25 19 25 21 14 19 28 12 34 19 29 16 19 17 31 15 13 11 18 26 30 19 28\n 21 29 20 13 38 28 34 14 16]\n<function percentile at 0x000001F9F32295E8>\n[23. 38. 22. 32. 23. 20. 24. 34. 25. 24. 32. 33. 33. 25. 24. 30. 39. 31.\n 32. 38. 34. 28. 33. 22. 18. 33. 38. 31. 32. 19. 29. 32. 38. 32. 34. 22.\n 33. 30. 45. 32. 32. 32. 31. 38. 24. 32. 23. 24. 34. 33. 28. 26. 47. 20.\n 32. 37. 34. 32. 31. 31. 25. 34. 33. 47. 36. 24. 30. 32. 37. 24. 24. 36.\n 26. 35. 34. 30. 27. 35. 36.]\n<function percentile at 0x000001F9F32295E8>\n"
          ]
        }
      ]
    },
    {
      "cell_type": "code",
      "execution_count": 123,
      "metadata": {},
      "outputs": [
        {
          "output_type": "execute_result",
          "data": {
            "text/plain": [
              "[[1, 19.97991967871486, 'mean'],\n",
              " [1, 19.97991967871486, 'lower'],\n",
              " [1, 19.97991967871486, 'upper']]"
            ]
          },
          "metadata": {},
          "execution_count": 123
        }
      ],
      "source": [
        "boots_c"
      ]
    },
    {
      "cell_type": "code",
      "execution_count": 113,
      "metadata": {},
      "outputs": [
        {
          "output_type": "execute_result",
          "data": {
            "text/plain": [
              "[[10000, 20.145553815261046, 'mean'],\n",
              " [10000, 18.744974899598393, 'lower'],\n",
              " [10000, 19.220883534136547, 'upper']]"
            ]
          },
          "metadata": {},
          "execution_count": 113
        }
      ],
      "source": [
        "boots_c"
      ]
    },
    {
      "cell_type": "code",
      "execution_count": 114,
      "metadata": {},
      "outputs": [
        {
          "output_type": "execute_result",
          "data": {
            "text/plain": [
              "[[10000, 20.145553815261046, 'mean'],\n",
              " [10000, 18.744974899598393, 'lower'],\n",
              " [10000, 19.220883534136547, 'upper']]"
            ]
          },
          "metadata": {},
          "execution_count": 114
        }
      ],
      "source": [
        "boots_c"
      ]
    },
    {
      "cell_type": "code",
      "execution_count": 84,
      "metadata": {},
      "outputs": [
        {
          "output_type": "execute_result",
          "data": {
            "text/plain": [
              "[[10000, 30.48168987341772, 'mean'],\n",
              " [10000, 28.379736708860758, 'lower'],\n",
              " [10000, 28.936587341772153, 'upper']]"
            ]
          },
          "metadata": {},
          "execution_count": 84
        }
      ],
      "source": [
        "boots_n"
      ]
    },
    {
      "cell_type": "code",
      "execution_count": 89,
      "metadata": {},
      "outputs": [],
      "source": [
        "customer = pd.read_csv('https://raw.githubusercontent.com/albanda/CE888/master/lab2%20-%20bootstrap/customers.csv')\n"
      ]
    },
    {
      "cell_type": "code",
      "execution_count": 92,
      "metadata": {},
      "outputs": [
        {
          "output_type": "execute_result",
          "data": {
            "text/plain": [
              "    Day   Millons of pounds in sales\n",
              "0     1                          2.0\n",
              "1     2                          8.0\n",
              "2     3                         20.0\n",
              "3     4                         13.0\n",
              "4     5                          5.0\n",
              "5     6                          9.0\n",
              "6     7                         10.0\n",
              "7     8                          8.0\n",
              "8     9                         22.0\n",
              "9    10                         10.0\n",
              "10   11                          2.0\n",
              "11   12                          4.0\n",
              "12   13                          7.0\n",
              "13   14                          9.0"
            ],
            "text/html": "<div>\n<style scoped>\n    .dataframe tbody tr th:only-of-type {\n        vertical-align: middle;\n    }\n\n    .dataframe tbody tr th {\n        vertical-align: top;\n    }\n\n    .dataframe thead th {\n        text-align: right;\n    }\n</style>\n<table border=\"1\" class=\"dataframe\">\n  <thead>\n    <tr style=\"text-align: right;\">\n      <th></th>\n      <th>Day</th>\n      <th>Millons of pounds in sales</th>\n    </tr>\n  </thead>\n  <tbody>\n    <tr>\n      <th>0</th>\n      <td>1</td>\n      <td>2.0</td>\n    </tr>\n    <tr>\n      <th>1</th>\n      <td>2</td>\n      <td>8.0</td>\n    </tr>\n    <tr>\n      <th>2</th>\n      <td>3</td>\n      <td>20.0</td>\n    </tr>\n    <tr>\n      <th>3</th>\n      <td>4</td>\n      <td>13.0</td>\n    </tr>\n    <tr>\n      <th>4</th>\n      <td>5</td>\n      <td>5.0</td>\n    </tr>\n    <tr>\n      <th>5</th>\n      <td>6</td>\n      <td>9.0</td>\n    </tr>\n    <tr>\n      <th>6</th>\n      <td>7</td>\n      <td>10.0</td>\n    </tr>\n    <tr>\n      <th>7</th>\n      <td>8</td>\n      <td>8.0</td>\n    </tr>\n    <tr>\n      <th>8</th>\n      <td>9</td>\n      <td>22.0</td>\n    </tr>\n    <tr>\n      <th>9</th>\n      <td>10</td>\n      <td>10.0</td>\n    </tr>\n    <tr>\n      <th>10</th>\n      <td>11</td>\n      <td>2.0</td>\n    </tr>\n    <tr>\n      <th>11</th>\n      <td>12</td>\n      <td>4.0</td>\n    </tr>\n    <tr>\n      <th>12</th>\n      <td>13</td>\n      <td>7.0</td>\n    </tr>\n    <tr>\n      <th>13</th>\n      <td>14</td>\n      <td>9.0</td>\n    </tr>\n  </tbody>\n</table>\n</div>"
          },
          "metadata": {},
          "execution_count": 92
        }
      ],
      "source": [
        "customer"
      ]
    },
    {
      "cell_type": "code",
      "execution_count": 106,
      "metadata": {},
      "outputs": [],
      "source": [
        "sale = customer[' Millons of pounds in sales']"
      ]
    },
    {
      "cell_type": "code",
      "execution_count": 107,
      "metadata": {},
      "outputs": [
        {
          "output_type": "execute_result",
          "data": {
            "text/plain": [
              "0      2.0\n",
              "1      8.0\n",
              "2     20.0\n",
              "3     13.0\n",
              "4      5.0\n",
              "5      9.0\n",
              "6     10.0\n",
              "7      8.0\n",
              "8     22.0\n",
              "9     10.0\n",
              "10     2.0\n",
              "11     4.0\n",
              "12     7.0\n",
              "13     9.0\n",
              "Name:  Millons of pounds in sales, dtype: float64"
            ]
          },
          "metadata": {},
          "execution_count": 107
        }
      ],
      "source": [
        "sale"
      ]
    },
    {
      "cell_type": "code",
      "execution_count": 110,
      "metadata": {},
      "outputs": [],
      "source": [
        "boots_sale = []\n",
        "#for i in range(10000):\n",
        "boot_sale = bootstrap_mean_ci(sale, sale.shape[0], 10000, 85)\n",
        "boots_sale.append([10000, boot_sale[0], \"mean\"])\n",
        "boots_sale.append([10000, boot_sale[1], \"lower\"])\n",
        "boots_sale.append([10000, boot_sale[2], \"upper\"])"
      ]
    },
    {
      "cell_type": "code",
      "execution_count": 111,
      "metadata": {},
      "outputs": [
        {
          "output_type": "execute_result",
          "data": {
            "text/plain": [
              "[[10000, 9.192628571428571, 'mean'],\n",
              " [10000, 5.142857142857143, 'lower'],\n",
              " [10000, 5.928571428571429, 'upper']]"
            ]
          },
          "metadata": {},
          "execution_count": 111
        }
      ],
      "source": [
        "boots_sale"
      ]
    },
    {
      "cell_type": "code",
      "metadata": {
        "id": "MkxvDZG4HC0n"
      },
      "source": [
        "# Create your own function for a permutation test here (you will need it for the lab quiz!):\n",
        "def permut_test(sample1, sample2, n_permutations):\n",
        "\n",
        "    concat = np.concatenate((sample1, sample2))\n",
        "    perm = np.random.permutation(concat)\n",
        "    pold = perm[:int(len(perm)/2)]\n",
        "    pnew = perm[int(len(perm)/2):]\n",
        "    samples = np.mean(pold) - np.mean(pnew)\n",
        "    pvalue = 2*np.sum(samples >= np.abs(samples))/n_permutations\n",
        "    \"\"\"\n",
        "    sample1: 1D array\n",
        "    sample2: 1D array (note that the size of the two arrays can be different)\n",
        "    n_permutations: number of permutations to calculate the p-value\n",
        "    \"\"\"\n",
        "    return pvalue\n",
        "x = permut_test(current_fleet, new_fleet, 30000)\n",
        "print(x )"
      ],
      "execution_count": 118,
      "outputs": [
        {
          "output_type": "stream",
          "name": "stdout",
          "text": [
            "6.666666666666667e-05\n"
          ]
        }
      ]
    },
    {
      "cell_type": "code",
      "execution_count": null,
      "metadata": {},
      "outputs": [],
      "source": []
    }
  ]
}