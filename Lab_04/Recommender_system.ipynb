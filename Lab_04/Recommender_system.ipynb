{
  "nbformat": 4,
  "nbformat_minor": 0,
  "metadata": {
    "colab": {
      "name": "Recommender_system",
      "provenance": [],
      "authorship_tag": "ABX9TyOIkeAeiKmyPXMkUp9tDE5h",
      "include_colab_link": true
    },
    "kernelspec": {
      "name": "python379jvsc74a57bd0e07ba5245cc8c83033f91238e854835efe5e5c7687c67e5fd5e0db5ce89b50be",
      "display_name": "Python 3.7.9 64-bit"
    }
  },
  "cells": [
    {
      "cell_type": "markdown",
      "metadata": {
        "id": "view-in-github",
        "colab_type": "text"
      },
      "source": [
        "<a href=\"https://colab.research.google.com/github/kaeatitayauk/CE888_2020_DSS/blob/master/Lab5/Recommender_system.ipynb\" target=\"_parent\"><img src=\"https://colab.research.google.com/assets/colab-badge.svg\" alt=\"Open In Colab\"/></a>"
      ]
    },
    {
      "cell_type": "code",
      "metadata": {
        "id": "tfLFRG9zKrhK",
        "colab_type": "code",
        "colab": {}
      },
      "source": [
        "import pandas as pd\n",
        "import numpy as np\n",
        "from IPython.display import Image\n",
        "np.set_printoptions(precision = 3)"
      ],
      "execution_count": 1,
      "outputs": []
    },
    {
      "cell_type": "markdown",
      "metadata": {
        "id": "xqiUkC_FKt6j",
        "colab_type": "text"
      },
      "source": [
        "#Load the data from ``jester-data-1.csv''"
      ]
    },
    {
      "cell_type": "code",
      "metadata": {
        "id": "PVrjRlTXKtR5",
        "colab_type": "code",
        "outputId": "3d0a8209-ca56-4920-beaa-689b9f377d20",
        "colab": {
          "base_uri": "https://localhost:8080/",
          "height": 439
        }
      },
      "source": [
        "df = pd.read_csv('https://raw.githubusercontent.com/albanda/CE888/master/lab4-recommender/jester-data-1.csv', header=None)\n",
        "df"
      ],
      "execution_count": 3,
      "outputs": [
        {
          "output_type": "execute_result",
          "data": {
            "text/plain": [
              "       0      1      2      3      4     5      6     7     8      9    ...  \\\n",
              "0       74  -7.82   8.79  -9.66  -8.16 -7.52  -8.50 -9.85  4.17  -8.98  ...   \n",
              "1      100   4.08  -0.29   6.36   4.37 -2.38  -9.66 -0.73 -5.34   8.88  ...   \n",
              "2       49  99.00  99.00  99.00  99.00  9.03   9.27  9.03  9.27  99.00  ...   \n",
              "3       48  99.00   8.35  99.00  99.00  1.80   8.16 -2.82  6.21  99.00  ...   \n",
              "4       91   8.50   4.61  -4.17  -5.39  1.36   1.60  7.04  4.61  -0.44  ...   \n",
              "...    ...    ...    ...    ...    ...   ...    ...   ...   ...    ...  ...   \n",
              "24978  100   0.44   7.43   9.08   2.33  3.20   6.75 -8.79 -0.53  -8.74  ...   \n",
              "24979   91   9.13  -8.16   8.59   9.08  0.87  -8.93 -3.50  5.78  -8.11  ...   \n",
              "24980   39  99.00  99.00  99.00  99.00 -7.77  99.00  6.70 -6.75  99.00  ...   \n",
              "24981   37  99.00  99.00  99.00  99.00 -9.71  99.00  4.56 -8.30  99.00  ...   \n",
              "24982   72   2.43   2.67  -3.98   4.27 -2.28   7.33  2.33  4.56   6.75  ...   \n",
              "\n",
              "         91     92     93     94     95     96     97     98     99     100  \n",
              "0       2.82  99.00  99.00  99.00  99.00  99.00  -5.63  99.00  99.00  99.00  \n",
              "1       2.82  -4.95  -0.29   7.86  -0.19  -2.14   3.06   0.34  -4.32   1.07  \n",
              "2      99.00  99.00  99.00   9.08  99.00  99.00  99.00  99.00  99.00  99.00  \n",
              "3      99.00  99.00  99.00   0.53  99.00  99.00  99.00  99.00  99.00  99.00  \n",
              "4       5.19   5.58   4.27   5.19   5.73   1.55   3.11   6.55   1.80   1.60  \n",
              "...      ...    ...    ...    ...    ...    ...    ...    ...    ...    ...  \n",
              "24978   8.83  -1.21   9.22  -6.70   8.45   9.03   6.55   8.69   8.79   7.43  \n",
              "24979  -1.17  -5.73  -1.46   0.24   9.22  -8.20  -7.23  -8.59   9.13   8.45  \n",
              "24980  99.00  99.00  99.00  99.00  99.00  99.00  99.00  99.00  99.00  99.00  \n",
              "24981  99.00  99.00  99.00  99.00  99.00  99.00  99.00  99.00  99.00  99.00  \n",
              "24982  99.00  99.00  99.00  99.00  99.00  99.00  99.00  99.00  99.00  99.00  \n",
              "\n",
              "[24983 rows x 101 columns]"
            ],
            "text/html": "<div>\n<style scoped>\n    .dataframe tbody tr th:only-of-type {\n        vertical-align: middle;\n    }\n\n    .dataframe tbody tr th {\n        vertical-align: top;\n    }\n\n    .dataframe thead th {\n        text-align: right;\n    }\n</style>\n<table border=\"1\" class=\"dataframe\">\n  <thead>\n    <tr style=\"text-align: right;\">\n      <th></th>\n      <th>0</th>\n      <th>1</th>\n      <th>2</th>\n      <th>3</th>\n      <th>4</th>\n      <th>5</th>\n      <th>6</th>\n      <th>7</th>\n      <th>8</th>\n      <th>9</th>\n      <th>...</th>\n      <th>91</th>\n      <th>92</th>\n      <th>93</th>\n      <th>94</th>\n      <th>95</th>\n      <th>96</th>\n      <th>97</th>\n      <th>98</th>\n      <th>99</th>\n      <th>100</th>\n    </tr>\n  </thead>\n  <tbody>\n    <tr>\n      <th>0</th>\n      <td>74</td>\n      <td>-7.82</td>\n      <td>8.79</td>\n      <td>-9.66</td>\n      <td>-8.16</td>\n      <td>-7.52</td>\n      <td>-8.50</td>\n      <td>-9.85</td>\n      <td>4.17</td>\n      <td>-8.98</td>\n      <td>...</td>\n      <td>2.82</td>\n      <td>99.00</td>\n      <td>99.00</td>\n      <td>99.00</td>\n      <td>99.00</td>\n      <td>99.00</td>\n      <td>-5.63</td>\n      <td>99.00</td>\n      <td>99.00</td>\n      <td>99.00</td>\n    </tr>\n    <tr>\n      <th>1</th>\n      <td>100</td>\n      <td>4.08</td>\n      <td>-0.29</td>\n      <td>6.36</td>\n      <td>4.37</td>\n      <td>-2.38</td>\n      <td>-9.66</td>\n      <td>-0.73</td>\n      <td>-5.34</td>\n      <td>8.88</td>\n      <td>...</td>\n      <td>2.82</td>\n      <td>-4.95</td>\n      <td>-0.29</td>\n      <td>7.86</td>\n      <td>-0.19</td>\n      <td>-2.14</td>\n      <td>3.06</td>\n      <td>0.34</td>\n      <td>-4.32</td>\n      <td>1.07</td>\n    </tr>\n    <tr>\n      <th>2</th>\n      <td>49</td>\n      <td>99.00</td>\n      <td>99.00</td>\n      <td>99.00</td>\n      <td>99.00</td>\n      <td>9.03</td>\n      <td>9.27</td>\n      <td>9.03</td>\n      <td>9.27</td>\n      <td>99.00</td>\n      <td>...</td>\n      <td>99.00</td>\n      <td>99.00</td>\n      <td>99.00</td>\n      <td>9.08</td>\n      <td>99.00</td>\n      <td>99.00</td>\n      <td>99.00</td>\n      <td>99.00</td>\n      <td>99.00</td>\n      <td>99.00</td>\n    </tr>\n    <tr>\n      <th>3</th>\n      <td>48</td>\n      <td>99.00</td>\n      <td>8.35</td>\n      <td>99.00</td>\n      <td>99.00</td>\n      <td>1.80</td>\n      <td>8.16</td>\n      <td>-2.82</td>\n      <td>6.21</td>\n      <td>99.00</td>\n      <td>...</td>\n      <td>99.00</td>\n      <td>99.00</td>\n      <td>99.00</td>\n      <td>0.53</td>\n      <td>99.00</td>\n      <td>99.00</td>\n      <td>99.00</td>\n      <td>99.00</td>\n      <td>99.00</td>\n      <td>99.00</td>\n    </tr>\n    <tr>\n      <th>4</th>\n      <td>91</td>\n      <td>8.50</td>\n      <td>4.61</td>\n      <td>-4.17</td>\n      <td>-5.39</td>\n      <td>1.36</td>\n      <td>1.60</td>\n      <td>7.04</td>\n      <td>4.61</td>\n      <td>-0.44</td>\n      <td>...</td>\n      <td>5.19</td>\n      <td>5.58</td>\n      <td>4.27</td>\n      <td>5.19</td>\n      <td>5.73</td>\n      <td>1.55</td>\n      <td>3.11</td>\n      <td>6.55</td>\n      <td>1.80</td>\n      <td>1.60</td>\n    </tr>\n    <tr>\n      <th>...</th>\n      <td>...</td>\n      <td>...</td>\n      <td>...</td>\n      <td>...</td>\n      <td>...</td>\n      <td>...</td>\n      <td>...</td>\n      <td>...</td>\n      <td>...</td>\n      <td>...</td>\n      <td>...</td>\n      <td>...</td>\n      <td>...</td>\n      <td>...</td>\n      <td>...</td>\n      <td>...</td>\n      <td>...</td>\n      <td>...</td>\n      <td>...</td>\n      <td>...</td>\n      <td>...</td>\n    </tr>\n    <tr>\n      <th>24978</th>\n      <td>100</td>\n      <td>0.44</td>\n      <td>7.43</td>\n      <td>9.08</td>\n      <td>2.33</td>\n      <td>3.20</td>\n      <td>6.75</td>\n      <td>-8.79</td>\n      <td>-0.53</td>\n      <td>-8.74</td>\n      <td>...</td>\n      <td>8.83</td>\n      <td>-1.21</td>\n      <td>9.22</td>\n      <td>-6.70</td>\n      <td>8.45</td>\n      <td>9.03</td>\n      <td>6.55</td>\n      <td>8.69</td>\n      <td>8.79</td>\n      <td>7.43</td>\n    </tr>\n    <tr>\n      <th>24979</th>\n      <td>91</td>\n      <td>9.13</td>\n      <td>-8.16</td>\n      <td>8.59</td>\n      <td>9.08</td>\n      <td>0.87</td>\n      <td>-8.93</td>\n      <td>-3.50</td>\n      <td>5.78</td>\n      <td>-8.11</td>\n      <td>...</td>\n      <td>-1.17</td>\n      <td>-5.73</td>\n      <td>-1.46</td>\n      <td>0.24</td>\n      <td>9.22</td>\n      <td>-8.20</td>\n      <td>-7.23</td>\n      <td>-8.59</td>\n      <td>9.13</td>\n      <td>8.45</td>\n    </tr>\n    <tr>\n      <th>24980</th>\n      <td>39</td>\n      <td>99.00</td>\n      <td>99.00</td>\n      <td>99.00</td>\n      <td>99.00</td>\n      <td>-7.77</td>\n      <td>99.00</td>\n      <td>6.70</td>\n      <td>-6.75</td>\n      <td>99.00</td>\n      <td>...</td>\n      <td>99.00</td>\n      <td>99.00</td>\n      <td>99.00</td>\n      <td>99.00</td>\n      <td>99.00</td>\n      <td>99.00</td>\n      <td>99.00</td>\n      <td>99.00</td>\n      <td>99.00</td>\n      <td>99.00</td>\n    </tr>\n    <tr>\n      <th>24981</th>\n      <td>37</td>\n      <td>99.00</td>\n      <td>99.00</td>\n      <td>99.00</td>\n      <td>99.00</td>\n      <td>-9.71</td>\n      <td>99.00</td>\n      <td>4.56</td>\n      <td>-8.30</td>\n      <td>99.00</td>\n      <td>...</td>\n      <td>99.00</td>\n      <td>99.00</td>\n      <td>99.00</td>\n      <td>99.00</td>\n      <td>99.00</td>\n      <td>99.00</td>\n      <td>99.00</td>\n      <td>99.00</td>\n      <td>99.00</td>\n      <td>99.00</td>\n    </tr>\n    <tr>\n      <th>24982</th>\n      <td>72</td>\n      <td>2.43</td>\n      <td>2.67</td>\n      <td>-3.98</td>\n      <td>4.27</td>\n      <td>-2.28</td>\n      <td>7.33</td>\n      <td>2.33</td>\n      <td>4.56</td>\n      <td>6.75</td>\n      <td>...</td>\n      <td>99.00</td>\n      <td>99.00</td>\n      <td>99.00</td>\n      <td>99.00</td>\n      <td>99.00</td>\n      <td>99.00</td>\n      <td>99.00</td>\n      <td>99.00</td>\n      <td>99.00</td>\n      <td>99.00</td>\n    </tr>\n  </tbody>\n</table>\n<p>24983 rows × 101 columns</p>\n</div>"
          },
          "metadata": {},
          "execution_count": 3
        }
      ]
    },
    {
      "cell_type": "code",
      "metadata": {
        "id": "jlZbBs2IbyTw",
        "colab_type": "code",
        "colab": {}
      },
      "source": [
        "arr = df.copy() \n",
        "arr = arr.drop(arr.columns[0], axis=1)"
      ],
      "execution_count": 4,
      "outputs": []
    },
    {
      "cell_type": "code",
      "metadata": {
        "id": "Ro7O_I1JKwIs",
        "colab_type": "code",
        "outputId": "343a90e1-6788-44d7-c3d5-c3bbb4886523",
        "colab": {
          "base_uri": "https://localhost:8080/",
          "height": 34
        }
      },
      "source": [
        "arr = df.values\n",
        "print(arr.shape)"
      ],
      "execution_count": 5,
      "outputs": [
        {
          "output_type": "stream",
          "name": "stdout",
          "text": [
            "(24983, 101)\n"
          ]
        }
      ]
    },
    {
      "cell_type": "code",
      "metadata": {
        "id": "W9f7bIszKyT0",
        "colab_type": "code",
        "outputId": "f6186ccc-ffad-474d-ce09-0c13572464a6",
        "colab": {
          "base_uri": "https://localhost:8080/",
          "height": 51
        }
      },
      "source": [
        "rated = np.where(arr!=99)\n",
        "rated"
      ],
      "execution_count": 7,
      "outputs": [
        {
          "output_type": "execute_result",
          "data": {
            "text/plain": [
              "(array([    0,     0,     0, ..., 24982, 24982, 24982], dtype=int64),\n",
              " array([ 0,  1,  2, ..., 70, 71, 87], dtype=int64))"
            ]
          },
          "metadata": {},
          "execution_count": 7
        }
      ]
    },
    {
      "cell_type": "code",
      "metadata": {
        "id": "uF_XIHIiKzq_",
        "colab_type": "code",
        "outputId": "789aa05e-1084-4563-d0cf-76aaa560f428",
        "colab": {
          "base_uri": "https://localhost:8080/",
          "height": 34
        }
      },
      "source": [
        "rated = np.where(arr!=99)\n",
        "print(len(rated[0]), rated[1].shape)"
      ],
      "execution_count": 8,
      "outputs": [
        {
          "output_type": "stream",
          "name": "stdout",
          "text": [
            "1835357 (1835357,)\n"
          ]
        }
      ]
    },
    {
      "cell_type": "code",
      "metadata": {
        "id": "GvkRVWn9K1Nc",
        "colab_type": "code",
        "colab": {}
      },
      "source": [
        "def replace(orig, percentage=0.1):\n",
        "  \"\"\"\n",
        "  Replaces 'percentage'% of the original values in 'orig' with 99's\n",
        "  :param orig: original data array\n",
        "  :param percentage: percentage of values to replace (0<percentage<1)\n",
        "  \"\"\"\n",
        "  new_data = orig.copy()\n",
        "  rated = np.where(arr!=99)\n",
        "  n_rated = len(rated[0])\n",
        "  idx = np.random.choice(n_rated, size=int(percentage*n_rated), replace=False)\n",
        "  new_data[rated[0][idx], rated[1][idx]] = 99\n",
        "  return new_data, (rated[0][idx], rated[1][idx])"
      ],
      "execution_count": 9,
      "outputs": []
    },
    {
      "cell_type": "code",
      "metadata": {
        "id": "kaqf5RrOK6is",
        "colab_type": "code",
        "colab": {}
      },
      "source": [
        "new_arr, idx = replace(arr, 0.1)"
      ],
      "execution_count": 10,
      "outputs": []
    },
    {
      "cell_type": "code",
      "metadata": {
        "id": "oLJWTBeAK8NM",
        "colab_type": "code",
        "outputId": "72579485-1fac-4a91-8381-c9dce196a87e",
        "colab": {
          "base_uri": "https://localhost:8080/",
          "height": 34
        }
      },
      "source": [
        "arr[idx[0][0], idx[1][0]]"
      ],
      "execution_count": 11,
      "outputs": [
        {
          "output_type": "execute_result",
          "data": {
            "text/plain": [
              "-6.8"
            ]
          },
          "metadata": {},
          "execution_count": 11
        }
      ]
    },
    {
      "cell_type": "code",
      "metadata": {
        "id": "V7g__avAK-_u",
        "colab_type": "code",
        "outputId": "32f3a8a9-67de-4214-945f-1c664b1c5901",
        "colab": {
          "base_uri": "https://localhost:8080/",
          "height": 34
        }
      },
      "source": [
        "new_arr[idx[0][0], idx[1][0]]"
      ],
      "execution_count": 12,
      "outputs": [
        {
          "output_type": "execute_result",
          "data": {
            "text/plain": [
              "99.0"
            ]
          },
          "metadata": {},
          "execution_count": 12
        }
      ]
    },
    {
      "cell_type": "code",
      "metadata": {
        "id": "gv8OIWgYLAxr",
        "colab_type": "code",
        "colab": {}
      },
      "source": [
        "n_latent_factors = 2\n",
        "\n",
        "user_ratings = df.values\n",
        "# Initialise as random values\n",
        "latent_user_preferences = np.random.random((user_ratings.shape[0], n_latent_factors))\n",
        "latent_item_features = np.random.random((user_ratings.shape[1], n_latent_factors))"
      ],
      "execution_count": 13,
      "outputs": []
    },
    {
      "cell_type": "code",
      "metadata": {
        "id": "L9yeszkGLCIF",
        "colab_type": "code",
        "colab": {}
      },
      "source": [
        "def predict_rating(user_id, item_id):\n",
        "    \"\"\" Predict a rating given a user_id and an item_id.\n",
        "    \"\"\"\n",
        "    user_preference = latent_user_preferences[user_id]\n",
        "    item_preference = latent_item_features[item_id]\n",
        "    return user_preference.dot(item_preference)\n",
        "\n",
        "\n",
        "def train(user_id, item_id, rating, alpha=0.0001):\n",
        "    #print(item_id)\n",
        "    predicted_rating = predict_rating(user_id, item_id)\n",
        "    err =  predicted_rating - rating\n",
        "    #print(err)\n",
        "    user_pref_values = latent_user_preferences[user_id]\n",
        "    latent_user_preferences[user_id] -= alpha * err * latent_item_features[item_id]\n",
        "    latent_item_features[item_id] -= alpha * err * user_pref_values\n",
        "    return err\n",
        "    \n",
        "\n",
        "def sgd(iterations):\n",
        "    \"\"\" Iterate over all users and all items and train for \n",
        "        a certain number of iterations\n",
        "    \"\"\"\n",
        "    mse_history = []\n",
        "    for iteration in range(iterations):\n",
        "        error = []\n",
        "        for user_id in range(latent_user_preferences.shape[0]):\n",
        "            for item_id in range(latent_item_features.shape[0]):\n",
        "                rating = user_ratings[user_id, item_id]\n",
        "                if not np.isnan(rating):\n",
        "                    err = train(user_id, item_id, rating)\n",
        "                    error.append(err)\n",
        "        mse = (np.array(error) ** 2).mean()   \n",
        "        if (iteration % 10000) == 0:\n",
        "            print('Iteration %d/%d:\\tMSE=%.6f' % (iteration, iterations, mse))\n",
        "            mse_history.append(mse)\n",
        "    return mse_history\n"
      ],
      "execution_count": 16,
      "outputs": []
    },
    {
      "cell_type": "code",
      "metadata": {
        "id": "I_ckUJXub_oc",
        "colab_type": "code",
        "outputId": "5ea91854-0475-4487-abbe-5b5d13cd5182",
        "colab": {
          "base_uri": "https://localhost:8080/",
          "height": 357
        }
      },
      "source": [
        "\n",
        "sgd(iterations=5)  "
      ],
      "execution_count": 18,
      "outputs": [
        {
          "output_type": "stream",
          "name": "stdout",
          "text": [
            "Iteration 0/5:\tMSE=493.417142\n"
          ]
        },
        {
          "output_type": "execute_result",
          "data": {
            "text/plain": [
              "[493.4171422102834]"
            ]
          },
          "metadata": {},
          "execution_count": 18
        }
      ]
    },
    {
      "cell_type": "code",
      "metadata": {
        "id": "kephdZ-vLGF7",
        "colab_type": "code",
        "colab": {
          "base_uri": "https://localhost:8080/",
          "height": 238
        },
        "outputId": "0ec0f253-c778-448b-ce86-fc62ed6cc613"
      },
      "source": [
        "predictions = latent_user_preferences.dot(latent_item_features.T)\n",
        "predictions"
      ],
      "execution_count": 19,
      "outputs": [
        {
          "output_type": "execute_result",
          "data": {
            "text/plain": [
              "array([[ 1.323e+02,  1.994e+01,  9.192e+00, ...,  9.731e+01,  9.581e+01,\n",
              "         9.619e+01],\n",
              "       [ 1.617e+01, -1.063e+01, -1.058e+01, ...,  2.275e-01,  5.488e-02,\n",
              "        -8.727e-01],\n",
              "       [ 2.324e+01,  9.860e+01,  8.673e+01, ...,  1.019e+02,  1.016e+02,\n",
              "         1.087e+02],\n",
              "       ...,\n",
              "       [ 4.384e+00,  1.039e+02,  9.273e+01, ...,  9.536e+01,  9.522e+01,\n",
              "         1.029e+02],\n",
              "       [ 5.015e+00,  1.035e+02,  9.233e+01, ...,  9.538e+01,  9.524e+01,\n",
              "         1.029e+02],\n",
              "       [ 1.140e+02,  3.404e+01,  2.301e+01, ...,  9.890e+01,  9.759e+01,\n",
              "         9.917e+01]])"
            ]
          },
          "metadata": {},
          "execution_count": 19
        }
      ]
    },
    {
      "cell_type": "code",
      "metadata": {
        "id": "D4m232hYLIbl",
        "colab_type": "code",
        "colab": {}
      },
      "source": [
        "values = [zip(user_ratings[i], predictions[i]) for i in range(predictions.shape[0])]\n",
        "comparison_data = pd.DataFrame(values)\n",
        "comparison_data.columns = df.columns"
      ],
      "execution_count": 20,
      "outputs": []
    },
    {
      "cell_type": "code",
      "metadata": {
        "id": "0jKXegU3LIvv",
        "colab_type": "code",
        "colab": {
          "base_uri": "https://localhost:8080/",
          "height": 609
        },
        "outputId": "046fd692-1e1e-48cb-df01-064914b33bca"
      },
      "source": [
        "comparison_data\n",
        "# For each data point, the number on the left is the original value from the dataset, the number on the right is the prediction"
      ],
      "execution_count": 21,
      "outputs": [
        {
          "output_type": "execute_result",
          "data": {
            "text/plain": [
              "                               0                            1    \\\n",
              "0        (74.0, 132.3278944020596)  (-7.82, 19.938480776173783)   \n",
              "1      (100.0, 16.166971563501267)   (4.08, -10.63397991393001)   \n",
              "2        (49.0, 23.24440202118793)    (99.0, 98.59749823215158)   \n",
              "3       (48.0, 13.124181461283062)   (99.0, 105.01457190266667)   \n",
              "4       (91.0, 15.824176330507838)    (8.5, -6.966579327869625)   \n",
              "...                            ...                          ...   \n",
              "24978   (100.0, 27.26928567532021)   (0.44, -8.971338919613794)   \n",
              "24979   (91.0, 27.753337311271185)  (9.13, -12.713787148338996)   \n",
              "24980    (39.0, 4.384308687374023)   (99.0, 103.92049227021305)   \n",
              "24981    (37.0, 5.015287019101798)   (99.0, 103.52020690232749)   \n",
              "24982   (72.0, 114.04154660105047)     (2.43, 34.0359698013217)   \n",
              "\n",
              "                                2                            3    \\\n",
              "0          (8.79, 9.19206850966125)  (-9.66, 15.576041272768268)   \n",
              "1      (-0.29, -10.575216228436611)   (6.36, -11.42347328634358)   \n",
              "2         (99.0, 86.72956161733794)      (99.0, 99.697598217177)   \n",
              "3         (8.35, 93.13499616645916)   (99.0, 106.60417741326242)   \n",
              "4        (4.61, -7.270291938864126)  (-4.17, -7.671779430388121)   \n",
              "...                             ...                          ...   \n",
              "24978    (7.43, -9.813129236600659)  (9.08, -10.127041245070325)   \n",
              "24979  (-8.16, -13.194462675163328)  (8.59, -13.960330187912854)   \n",
              "24980      (99.0, 92.7273030381829)   (99.0, 105.80259702014766)   \n",
              "24981     (99.0, 92.32776348630212)   (99.0, 105.37178805957471)   \n",
              "24982    (2.67, 23.005899310804956)  (-3.98, 30.607137366308024)   \n",
              "\n",
              "                                4                               5    \\\n",
              "0        (-8.16, 20.38087282149269)     (-7.52, 0.4640346193612805)   \n",
              "1       (4.37, -11.440881212147548)  (-2.38, -0.003748394132181153)   \n",
              "2        (99.0, 104.93936754336296)      (9.03, 0.5212732538273818)   \n",
              "3        (99.0, 111.84576333930298)       (1.8, 0.5225116708804678)   \n",
              "4      (-5.39, -7.5296432717772435)    (1.36, 0.012248062291995722)   \n",
              "...                             ...                             ...   \n",
              "24978    (2.33, -9.741795288159732)     (3.2, 0.035136963081961445)   \n",
              "24979   (9.08, -13.733954226000826)    (0.87, 0.019190371793366787)   \n",
              "24980     (99.0, 110.7371413398654)    (-7.77, 0.49289385454240586)   \n",
              "24981    (99.0, 110.30633494075035)    (-9.71, 0.49281575407730505)   \n",
              "24982     (4.27, 35.52736343028983)     (-2.28, 0.4778445421943205)   \n",
              "\n",
              "                                6                              7    \\\n",
              "0        (-8.5, 1.6293626077456822)     (-9.85, -0.64997520934602)   \n",
              "1       (-9.66, -8.389197836193466)  (-0.73, -0.03733295490405048)   \n",
              "2        (9.27, 62.773295477018344)   (9.03, -0.42031870497649665)   \n",
              "3         (8.16, 67.86733573945222)   (-2.82, -0.3961776238389371)   \n",
              "4         (1.6, -5.949627774513597)   (7.04, -0.04762216285005366)   \n",
              "...                             ...                            ...   \n",
              "24978    (6.75, -8.259195452287885)  (-8.79, -0.09183306209352221)   \n",
              "24979  (-8.93, -10.760325654994814)   (-3.5, -0.08192755926267498)   \n",
              "24980     (99.0, 67.90612248423129)    (6.7, -0.35396592120416304)   \n",
              "24981     (99.0, 67.58839176420514)   (4.56, -0.35547045835842084)   \n",
              "24982    (7.33, 12.478174770252036)     (2.33, -0.614410534690302)   \n",
              "\n",
              "                                  8                             9    ...  \\\n",
              "0         (4.17, -0.8779691566027464)    (-8.98, 19.88870181173047)  ...   \n",
              "1      (-5.34, 0.0033829670479825816)   (8.88, -11.479228050945382)  ...   \n",
              "2         (9.27, -0.9592795006326172)    (99.0, 104.69442039355287)  ...   \n",
              "3         (6.21, -0.9593687829242306)    (99.0, 111.62521992457289)  ...   \n",
              "4       (4.61, -0.025827437509341595)  (-0.44, -7.5729136252130775)  ...   \n",
              "...                               ...                           ...  ...   \n",
              "24978   (-0.53, -0.07019233493870124)   (-8.74, -9.821418291675847)  ...   \n",
              "24979   (5.78, -0.041103614826183944)  (-8.11, -13.809018539911076)  ...   \n",
              "24980    (-6.75, -0.9032676468740088)     (99.0, 110.5487330540558)  ...   \n",
              "24981     (-8.3, -0.9032604559384209)    (99.0, 110.11640544385257)  ...   \n",
              "24982      (4.56, -0.899315340436154)    (6.75, 35.075117109072565)  ...   \n",
              "\n",
              "                                91                             92   \\\n",
              "0         (2.82, 98.58752015362423)      (99.0, 98.65468479555923)   \n",
              "1      (2.82, -0.11262697991676715)  (-4.95, 0.024035805452198196)   \n",
              "2        (99.0, 105.77343213255308)     (99.0, 104.85059336271267)   \n",
              "3         (99.0, 105.6210647664168)      (99.0, 104.6150325339365)   \n",
              "4        (5.19, 3.0913760623434916)     (5.58, 3.1913123959878416)   \n",
              "...                             ...                            ...   \n",
              "24978     (8.83, 8.149382673103656)      (-1.21, 8.29178080534141)   \n",
              "24979    (-1.17, 4.961013366470385)     (-5.73, 5.141156434225831)   \n",
              "24980     (99.0, 99.31688927958697)      (99.0, 98.30423125107502)   \n",
              "24981     (99.0, 99.32621064823562)      (99.0, 98.31874147470249)   \n",
              "24982    (99.0, 100.63989436335568)     (99.0, 100.53214104216529)   \n",
              "\n",
              "                                93                           94   \\\n",
              "0         (99.0, 99.29326173822248)    (99.0, 99.56419379959041)   \n",
              "1      (-0.29, 0.23717698462300307)  (7.86, 0.47558991330448824)   \n",
              "2          (99.0, 103.979619928867)   (9.08, 102.53338636771842)   \n",
              "3        (99.0, 103.61311381712156)     (0.53, 102.021402023119)   \n",
              "4         (4.27, 3.364349810321252)    (5.19, 3.543639288747719)   \n",
              "...                             ...                          ...   \n",
              "24978     (9.22, 8.558604041705891)    (-6.7, 8.819908377513759)   \n",
              "24979    (-1.46, 5.449761024402774)    (0.24, 5.771991268141809)   \n",
              "24980     (99.0, 97.25783296800634)     (99.0, 95.6447270067317)   \n",
              "24981     (99.0, 97.28050938828596)    (99.0, 95.67647675845629)   \n",
              "24982    (99.0, 100.90824022213201)   (99.0, 100.87699634818664)   \n",
              "\n",
              "                               95                          96   \\\n",
              "0       (99.0, 100.04544290740186)  (99.0, 100.05218707851276)   \n",
              "1      (-0.19, 0.6356042875026466)  (-2.14, 0.700069028933096)   \n",
              "2        (99.0, 101.8814691272243)  (99.0, 101.41961172680811)   \n",
              "3       (99.0, 101.27117432617253)  (99.0, 100.77012987107682)   \n",
              "4        (5.73, 3.673605268909632)   (1.55, 3.719943549740881)   \n",
              "...                            ...                         ...   \n",
              "24978    (8.45, 9.020378543547308)    (9.03, 9.08545877827799)   \n",
              "24979    (9.22, 6.003769574918299)   (-8.2, 6.087452531251353)   \n",
              "24980    (99.0, 94.86098876609073)   (99.0, 94.35841401375875)   \n",
              "24981    (99.0, 94.89886949146681)   (99.0, 94.39873891880538)   \n",
              "24982    (99.0, 101.1612275824336)  (99.0, 101.08497937544803)   \n",
              "\n",
              "                              97                           98   \\\n",
              "0      (-5.63, 99.59873009632005)    (99.0, 97.31148984966647)   \n",
              "1      (3.06, 0.5852697281280799)  (0.34, 0.22745609616442586)   \n",
              "2      (99.0, 101.77213681295093)   (99.0, 101.94059975440922)   \n",
              "3       (99.0, 101.1934282639595)    (99.0, 101.5844390791856)   \n",
              "4      (3.11, 3.6232208739453284)   (6.55, 3.2936334696840373)   \n",
              "...                           ...                          ...   \n",
              "24978     (6.55, 8.9325680764607)    (8.69, 8.382793770067575)   \n",
              "24979  (-7.23, 5.915563354779939)   (-8.59, 5.334543607007017)   \n",
              "24980   (99.0, 94.81267447552071)     (99.0, 95.3560868657541)   \n",
              "24981   (99.0, 94.84858591472391)    (99.0, 95.37812167756218)   \n",
              "24982  (99.0, 100.77077617641794)    (99.0, 98.90066589687942)   \n",
              "\n",
              "                                99                           100  \n",
              "0         (99.0, 95.80973155787646)    (99.0, 96.18763477336167)  \n",
              "1      (-4.32, 0.05488387917880111)  (1.07, -0.8726881201632279)  \n",
              "2         (99.0, 101.5974759704792)   (99.0, 108.74867633033091)  \n",
              "3         (99.0, 101.3495421349471)   (99.0, 109.06353451236612)  \n",
              "4          (1.8, 3.121849117889604)    (1.6, 2.4703764672541872)  \n",
              "...                             ...                          ...  \n",
              "24978     (8.79, 8.084232496877418)    (7.43, 7.187606804151628)  \n",
              "24979     (9.13, 5.033671742588512)    (8.45, 3.854173178414456)  \n",
              "24980     (99.0, 95.22019083208161)   (99.0, 102.92582286971242)  \n",
              "24981     (99.0, 95.23547804678697)   (99.0, 102.90600667606176)  \n",
              "24982     (99.0, 97.59237647164721)    (99.0, 99.17363030604301)  \n",
              "\n",
              "[24983 rows x 101 columns]"
            ],
            "text/html": "<div>\n<style scoped>\n    .dataframe tbody tr th:only-of-type {\n        vertical-align: middle;\n    }\n\n    .dataframe tbody tr th {\n        vertical-align: top;\n    }\n\n    .dataframe thead th {\n        text-align: right;\n    }\n</style>\n<table border=\"1\" class=\"dataframe\">\n  <thead>\n    <tr style=\"text-align: right;\">\n      <th></th>\n      <th>0</th>\n      <th>1</th>\n      <th>2</th>\n      <th>3</th>\n      <th>4</th>\n      <th>5</th>\n      <th>6</th>\n      <th>7</th>\n      <th>8</th>\n      <th>9</th>\n      <th>...</th>\n      <th>91</th>\n      <th>92</th>\n      <th>93</th>\n      <th>94</th>\n      <th>95</th>\n      <th>96</th>\n      <th>97</th>\n      <th>98</th>\n      <th>99</th>\n      <th>100</th>\n    </tr>\n  </thead>\n  <tbody>\n    <tr>\n      <th>0</th>\n      <td>(74.0, 132.3278944020596)</td>\n      <td>(-7.82, 19.938480776173783)</td>\n      <td>(8.79, 9.19206850966125)</td>\n      <td>(-9.66, 15.576041272768268)</td>\n      <td>(-8.16, 20.38087282149269)</td>\n      <td>(-7.52, 0.4640346193612805)</td>\n      <td>(-8.5, 1.6293626077456822)</td>\n      <td>(-9.85, -0.64997520934602)</td>\n      <td>(4.17, -0.8779691566027464)</td>\n      <td>(-8.98, 19.88870181173047)</td>\n      <td>...</td>\n      <td>(2.82, 98.58752015362423)</td>\n      <td>(99.0, 98.65468479555923)</td>\n      <td>(99.0, 99.29326173822248)</td>\n      <td>(99.0, 99.56419379959041)</td>\n      <td>(99.0, 100.04544290740186)</td>\n      <td>(99.0, 100.05218707851276)</td>\n      <td>(-5.63, 99.59873009632005)</td>\n      <td>(99.0, 97.31148984966647)</td>\n      <td>(99.0, 95.80973155787646)</td>\n      <td>(99.0, 96.18763477336167)</td>\n    </tr>\n    <tr>\n      <th>1</th>\n      <td>(100.0, 16.166971563501267)</td>\n      <td>(4.08, -10.63397991393001)</td>\n      <td>(-0.29, -10.575216228436611)</td>\n      <td>(6.36, -11.42347328634358)</td>\n      <td>(4.37, -11.440881212147548)</td>\n      <td>(-2.38, -0.003748394132181153)</td>\n      <td>(-9.66, -8.389197836193466)</td>\n      <td>(-0.73, -0.03733295490405048)</td>\n      <td>(-5.34, 0.0033829670479825816)</td>\n      <td>(8.88, -11.479228050945382)</td>\n      <td>...</td>\n      <td>(2.82, -0.11262697991676715)</td>\n      <td>(-4.95, 0.024035805452198196)</td>\n      <td>(-0.29, 0.23717698462300307)</td>\n      <td>(7.86, 0.47558991330448824)</td>\n      <td>(-0.19, 0.6356042875026466)</td>\n      <td>(-2.14, 0.700069028933096)</td>\n      <td>(3.06, 0.5852697281280799)</td>\n      <td>(0.34, 0.22745609616442586)</td>\n      <td>(-4.32, 0.05488387917880111)</td>\n      <td>(1.07, -0.8726881201632279)</td>\n    </tr>\n    <tr>\n      <th>2</th>\n      <td>(49.0, 23.24440202118793)</td>\n      <td>(99.0, 98.59749823215158)</td>\n      <td>(99.0, 86.72956161733794)</td>\n      <td>(99.0, 99.697598217177)</td>\n      <td>(99.0, 104.93936754336296)</td>\n      <td>(9.03, 0.5212732538273818)</td>\n      <td>(9.27, 62.773295477018344)</td>\n      <td>(9.03, -0.42031870497649665)</td>\n      <td>(9.27, -0.9592795006326172)</td>\n      <td>(99.0, 104.69442039355287)</td>\n      <td>...</td>\n      <td>(99.0, 105.77343213255308)</td>\n      <td>(99.0, 104.85059336271267)</td>\n      <td>(99.0, 103.979619928867)</td>\n      <td>(9.08, 102.53338636771842)</td>\n      <td>(99.0, 101.8814691272243)</td>\n      <td>(99.0, 101.41961172680811)</td>\n      <td>(99.0, 101.77213681295093)</td>\n      <td>(99.0, 101.94059975440922)</td>\n      <td>(99.0, 101.5974759704792)</td>\n      <td>(99.0, 108.74867633033091)</td>\n    </tr>\n    <tr>\n      <th>3</th>\n      <td>(48.0, 13.124181461283062)</td>\n      <td>(99.0, 105.01457190266667)</td>\n      <td>(8.35, 93.13499616645916)</td>\n      <td>(99.0, 106.60417741326242)</td>\n      <td>(99.0, 111.84576333930298)</td>\n      <td>(1.8, 0.5225116708804678)</td>\n      <td>(8.16, 67.86733573945222)</td>\n      <td>(-2.82, -0.3961776238389371)</td>\n      <td>(6.21, -0.9593687829242306)</td>\n      <td>(99.0, 111.62521992457289)</td>\n      <td>...</td>\n      <td>(99.0, 105.6210647664168)</td>\n      <td>(99.0, 104.6150325339365)</td>\n      <td>(99.0, 103.61311381712156)</td>\n      <td>(0.53, 102.021402023119)</td>\n      <td>(99.0, 101.27117432617253)</td>\n      <td>(99.0, 100.77012987107682)</td>\n      <td>(99.0, 101.1934282639595)</td>\n      <td>(99.0, 101.5844390791856)</td>\n      <td>(99.0, 101.3495421349471)</td>\n      <td>(99.0, 109.06353451236612)</td>\n    </tr>\n    <tr>\n      <th>4</th>\n      <td>(91.0, 15.824176330507838)</td>\n      <td>(8.5, -6.966579327869625)</td>\n      <td>(4.61, -7.270291938864126)</td>\n      <td>(-4.17, -7.671779430388121)</td>\n      <td>(-5.39, -7.5296432717772435)</td>\n      <td>(1.36, 0.012248062291995722)</td>\n      <td>(1.6, -5.949627774513597)</td>\n      <td>(7.04, -0.04762216285005366)</td>\n      <td>(4.61, -0.025827437509341595)</td>\n      <td>(-0.44, -7.5729136252130775)</td>\n      <td>...</td>\n      <td>(5.19, 3.0913760623434916)</td>\n      <td>(5.58, 3.1913123959878416)</td>\n      <td>(4.27, 3.364349810321252)</td>\n      <td>(5.19, 3.543639288747719)</td>\n      <td>(5.73, 3.673605268909632)</td>\n      <td>(1.55, 3.719943549740881)</td>\n      <td>(3.11, 3.6232208739453284)</td>\n      <td>(6.55, 3.2936334696840373)</td>\n      <td>(1.8, 3.121849117889604)</td>\n      <td>(1.6, 2.4703764672541872)</td>\n    </tr>\n    <tr>\n      <th>...</th>\n      <td>...</td>\n      <td>...</td>\n      <td>...</td>\n      <td>...</td>\n      <td>...</td>\n      <td>...</td>\n      <td>...</td>\n      <td>...</td>\n      <td>...</td>\n      <td>...</td>\n      <td>...</td>\n      <td>...</td>\n      <td>...</td>\n      <td>...</td>\n      <td>...</td>\n      <td>...</td>\n      <td>...</td>\n      <td>...</td>\n      <td>...</td>\n      <td>...</td>\n      <td>...</td>\n    </tr>\n    <tr>\n      <th>24978</th>\n      <td>(100.0, 27.26928567532021)</td>\n      <td>(0.44, -8.971338919613794)</td>\n      <td>(7.43, -9.813129236600659)</td>\n      <td>(9.08, -10.127041245070325)</td>\n      <td>(2.33, -9.741795288159732)</td>\n      <td>(3.2, 0.035136963081961445)</td>\n      <td>(6.75, -8.259195452287885)</td>\n      <td>(-8.79, -0.09183306209352221)</td>\n      <td>(-0.53, -0.07019233493870124)</td>\n      <td>(-8.74, -9.821418291675847)</td>\n      <td>...</td>\n      <td>(8.83, 8.149382673103656)</td>\n      <td>(-1.21, 8.29178080534141)</td>\n      <td>(9.22, 8.558604041705891)</td>\n      <td>(-6.7, 8.819908377513759)</td>\n      <td>(8.45, 9.020378543547308)</td>\n      <td>(9.03, 9.08545877827799)</td>\n      <td>(6.55, 8.9325680764607)</td>\n      <td>(8.69, 8.382793770067575)</td>\n      <td>(8.79, 8.084232496877418)</td>\n      <td>(7.43, 7.187606804151628)</td>\n    </tr>\n    <tr>\n      <th>24979</th>\n      <td>(91.0, 27.753337311271185)</td>\n      <td>(9.13, -12.713787148338996)</td>\n      <td>(-8.16, -13.194462675163328)</td>\n      <td>(8.59, -13.960330187912854)</td>\n      <td>(9.08, -13.733954226000826)</td>\n      <td>(0.87, 0.019190371793366787)</td>\n      <td>(-8.93, -10.760325654994814)</td>\n      <td>(-3.5, -0.08192755926267498)</td>\n      <td>(5.78, -0.041103614826183944)</td>\n      <td>(-8.11, -13.809018539911076)</td>\n      <td>...</td>\n      <td>(-1.17, 4.961013366470385)</td>\n      <td>(-5.73, 5.141156434225831)</td>\n      <td>(-1.46, 5.449761024402774)</td>\n      <td>(0.24, 5.771991268141809)</td>\n      <td>(9.22, 6.003769574918299)</td>\n      <td>(-8.2, 6.087452531251353)</td>\n      <td>(-7.23, 5.915563354779939)</td>\n      <td>(-8.59, 5.334543607007017)</td>\n      <td>(9.13, 5.033671742588512)</td>\n      <td>(8.45, 3.854173178414456)</td>\n    </tr>\n    <tr>\n      <th>24980</th>\n      <td>(39.0, 4.384308687374023)</td>\n      <td>(99.0, 103.92049227021305)</td>\n      <td>(99.0, 92.7273030381829)</td>\n      <td>(99.0, 105.80259702014766)</td>\n      <td>(99.0, 110.7371413398654)</td>\n      <td>(-7.77, 0.49289385454240586)</td>\n      <td>(99.0, 67.90612248423129)</td>\n      <td>(6.7, -0.35396592120416304)</td>\n      <td>(-6.75, -0.9032676468740088)</td>\n      <td>(99.0, 110.5487330540558)</td>\n      <td>...</td>\n      <td>(99.0, 99.31688927958697)</td>\n      <td>(99.0, 98.30423125107502)</td>\n      <td>(99.0, 97.25783296800634)</td>\n      <td>(99.0, 95.6447270067317)</td>\n      <td>(99.0, 94.86098876609073)</td>\n      <td>(99.0, 94.35841401375875)</td>\n      <td>(99.0, 94.81267447552071)</td>\n      <td>(99.0, 95.3560868657541)</td>\n      <td>(99.0, 95.22019083208161)</td>\n      <td>(99.0, 102.92582286971242)</td>\n    </tr>\n    <tr>\n      <th>24981</th>\n      <td>(37.0, 5.015287019101798)</td>\n      <td>(99.0, 103.52020690232749)</td>\n      <td>(99.0, 92.32776348630212)</td>\n      <td>(99.0, 105.37178805957471)</td>\n      <td>(99.0, 110.30633494075035)</td>\n      <td>(-9.71, 0.49281575407730505)</td>\n      <td>(99.0, 67.58839176420514)</td>\n      <td>(4.56, -0.35547045835842084)</td>\n      <td>(-8.3, -0.9032604559384209)</td>\n      <td>(99.0, 110.11640544385257)</td>\n      <td>...</td>\n      <td>(99.0, 99.32621064823562)</td>\n      <td>(99.0, 98.31874147470249)</td>\n      <td>(99.0, 97.28050938828596)</td>\n      <td>(99.0, 95.67647675845629)</td>\n      <td>(99.0, 94.89886949146681)</td>\n      <td>(99.0, 94.39873891880538)</td>\n      <td>(99.0, 94.84858591472391)</td>\n      <td>(99.0, 95.37812167756218)</td>\n      <td>(99.0, 95.23547804678697)</td>\n      <td>(99.0, 102.90600667606176)</td>\n    </tr>\n    <tr>\n      <th>24982</th>\n      <td>(72.0, 114.04154660105047)</td>\n      <td>(2.43, 34.0359698013217)</td>\n      <td>(2.67, 23.005899310804956)</td>\n      <td>(-3.98, 30.607137366308024)</td>\n      <td>(4.27, 35.52736343028983)</td>\n      <td>(-2.28, 0.4778445421943205)</td>\n      <td>(7.33, 12.478174770252036)</td>\n      <td>(2.33, -0.614410534690302)</td>\n      <td>(4.56, -0.899315340436154)</td>\n      <td>(6.75, 35.075117109072565)</td>\n      <td>...</td>\n      <td>(99.0, 100.63989436335568)</td>\n      <td>(99.0, 100.53214104216529)</td>\n      <td>(99.0, 100.90824022213201)</td>\n      <td>(99.0, 100.87699634818664)</td>\n      <td>(99.0, 101.1612275824336)</td>\n      <td>(99.0, 101.08497937544803)</td>\n      <td>(99.0, 100.77077617641794)</td>\n      <td>(99.0, 98.90066589687942)</td>\n      <td>(99.0, 97.59237647164721)</td>\n      <td>(99.0, 99.17363030604301)</td>\n    </tr>\n  </tbody>\n</table>\n<p>24983 rows × 101 columns</p>\n</div>"
          },
          "metadata": {},
          "execution_count": 21
        }
      ]
    },
    {
      "cell_type": "code",
      "metadata": {
        "id": "d7JGF5cjL6Qe",
        "colab_type": "code",
        "colab": {
          "base_uri": "https://localhost:8080/",
          "height": 34
        },
        "outputId": "f79d7f79-99cc-4c15-d4ce-56f24f09c8c7"
      },
      "source": [
        "# Calculate the performance (e.g., MSE) of the algorithm on the validation dataset\n",
        "error = (predictions[idx[0][:],idx[1][:]]-arr[idx[0][:],idx[1][:]])**2\n",
        "mseA1=sum(error)/len(error)\n",
        "print(\"caseA1: \",mseA1)"
      ],
      "execution_count": 22,
      "outputs": [
        {
          "output_type": "stream",
          "name": "stdout",
          "text": [
            "caseA1:  427.19278460568825\n"
          ]
        }
      ]
    },
    {
      "cell_type": "markdown",
      "metadata": {
        "id": "ARLGJcRrcMQ8",
        "colab_type": "text"
      },
      "source": [
        "Repeat the two points above changing hyper-parameters (i.e., learning rate, number of iterations of SVD, number of latent factors, etc.) as needed to get good results (you can create multiple validation sets if you want, and run a bootstrap!)"
      ]
    }
  ]
}