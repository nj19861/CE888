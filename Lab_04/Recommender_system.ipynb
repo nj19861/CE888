{
  "nbformat": 4,
  "nbformat_minor": 0,
  "metadata": {
    "colab": {
      "name": "Recommender_system",
      "provenance": [],
      "authorship_tag": "ABX9TyOIkeAeiKmyPXMkUp9tDE5h",
      "include_colab_link": true
    },
    "kernelspec": {
      "name": "python379jvsc74a57bd0e07ba5245cc8c83033f91238e854835efe5e5c7687c67e5fd5e0db5ce89b50be",
      "display_name": "Python 3.7.9 64-bit"
    }
  },
  "cells": [
    {
      "cell_type": "markdown",
      "metadata": {
        "id": "view-in-github",
        "colab_type": "text"
      },
      "source": [
        "<a href=\"https://colab.research.google.com/github/kaeatitayauk/CE888_2020_DSS/blob/master/Lab5/Recommender_system.ipynb\" target=\"_parent\"><img src=\"https://colab.research.google.com/assets/colab-badge.svg\" alt=\"Open In Colab\"/></a>"
      ]
    },
    {
      "cell_type": "code",
      "metadata": {
        "id": "tfLFRG9zKrhK",
        "colab_type": "code",
        "colab": {}
      },
      "source": [
        "import pandas as pd\n",
        "import numpy as np\n",
        "from sklearn.svm import SVC\n",
        "\n",
        "np.set_printoptions(precision=3)"
      ],
      "execution_count": 43,
      "outputs": []
    },
    {
      "cell_type": "markdown",
      "metadata": {
        "id": "xqiUkC_FKt6j",
        "colab_type": "text"
      },
      "source": [
        "#Load the data from ``jester-data-1.csv''"
      ]
    },
    {
      "cell_type": "code",
      "metadata": {
        "id": "PVrjRlTXKtR5",
        "colab_type": "code",
        "outputId": "3d0a8209-ca56-4920-beaa-689b9f377d20",
        "colab": {
          "base_uri": "https://localhost:8080/",
          "height": 439
        }
      },
      "source": [
        "df = pd.read_csv('https://raw.githubusercontent.com/albanda/CE888/master/lab4-recommender/jester-data-1.csv', header=None)\n",
        "df"
      ],
      "execution_count": 20,
      "outputs": [
        {
          "output_type": "execute_result",
          "data": {
            "text/plain": [
              "       0      1      2      3      4     5      6     7     8      9    ...  \\\n",
              "0       74  -7.82   8.79  -9.66  -8.16 -7.52  -8.50 -9.85  4.17  -8.98  ...   \n",
              "1      100   4.08  -0.29   6.36   4.37 -2.38  -9.66 -0.73 -5.34   8.88  ...   \n",
              "2       49  99.00  99.00  99.00  99.00  9.03   9.27  9.03  9.27  99.00  ...   \n",
              "3       48  99.00   8.35  99.00  99.00  1.80   8.16 -2.82  6.21  99.00  ...   \n",
              "4       91   8.50   4.61  -4.17  -5.39  1.36   1.60  7.04  4.61  -0.44  ...   \n",
              "...    ...    ...    ...    ...    ...   ...    ...   ...   ...    ...  ...   \n",
              "24978  100   0.44   7.43   9.08   2.33  3.20   6.75 -8.79 -0.53  -8.74  ...   \n",
              "24979   91   9.13  -8.16   8.59   9.08  0.87  -8.93 -3.50  5.78  -8.11  ...   \n",
              "24980   39  99.00  99.00  99.00  99.00 -7.77  99.00  6.70 -6.75  99.00  ...   \n",
              "24981   37  99.00  99.00  99.00  99.00 -9.71  99.00  4.56 -8.30  99.00  ...   \n",
              "24982   72   2.43   2.67  -3.98   4.27 -2.28   7.33  2.33  4.56   6.75  ...   \n",
              "\n",
              "         91     92     93     94     95     96     97     98     99     100  \n",
              "0       2.82  99.00  99.00  99.00  99.00  99.00  -5.63  99.00  99.00  99.00  \n",
              "1       2.82  -4.95  -0.29   7.86  -0.19  -2.14   3.06   0.34  -4.32   1.07  \n",
              "2      99.00  99.00  99.00   9.08  99.00  99.00  99.00  99.00  99.00  99.00  \n",
              "3      99.00  99.00  99.00   0.53  99.00  99.00  99.00  99.00  99.00  99.00  \n",
              "4       5.19   5.58   4.27   5.19   5.73   1.55   3.11   6.55   1.80   1.60  \n",
              "...      ...    ...    ...    ...    ...    ...    ...    ...    ...    ...  \n",
              "24978   8.83  -1.21   9.22  -6.70   8.45   9.03   6.55   8.69   8.79   7.43  \n",
              "24979  -1.17  -5.73  -1.46   0.24   9.22  -8.20  -7.23  -8.59   9.13   8.45  \n",
              "24980  99.00  99.00  99.00  99.00  99.00  99.00  99.00  99.00  99.00  99.00  \n",
              "24981  99.00  99.00  99.00  99.00  99.00  99.00  99.00  99.00  99.00  99.00  \n",
              "24982  99.00  99.00  99.00  99.00  99.00  99.00  99.00  99.00  99.00  99.00  \n",
              "\n",
              "[24983 rows x 101 columns]"
            ],
            "text/html": "<div>\n<style scoped>\n    .dataframe tbody tr th:only-of-type {\n        vertical-align: middle;\n    }\n\n    .dataframe tbody tr th {\n        vertical-align: top;\n    }\n\n    .dataframe thead th {\n        text-align: right;\n    }\n</style>\n<table border=\"1\" class=\"dataframe\">\n  <thead>\n    <tr style=\"text-align: right;\">\n      <th></th>\n      <th>0</th>\n      <th>1</th>\n      <th>2</th>\n      <th>3</th>\n      <th>4</th>\n      <th>5</th>\n      <th>6</th>\n      <th>7</th>\n      <th>8</th>\n      <th>9</th>\n      <th>...</th>\n      <th>91</th>\n      <th>92</th>\n      <th>93</th>\n      <th>94</th>\n      <th>95</th>\n      <th>96</th>\n      <th>97</th>\n      <th>98</th>\n      <th>99</th>\n      <th>100</th>\n    </tr>\n  </thead>\n  <tbody>\n    <tr>\n      <th>0</th>\n      <td>74</td>\n      <td>-7.82</td>\n      <td>8.79</td>\n      <td>-9.66</td>\n      <td>-8.16</td>\n      <td>-7.52</td>\n      <td>-8.50</td>\n      <td>-9.85</td>\n      <td>4.17</td>\n      <td>-8.98</td>\n      <td>...</td>\n      <td>2.82</td>\n      <td>99.00</td>\n      <td>99.00</td>\n      <td>99.00</td>\n      <td>99.00</td>\n      <td>99.00</td>\n      <td>-5.63</td>\n      <td>99.00</td>\n      <td>99.00</td>\n      <td>99.00</td>\n    </tr>\n    <tr>\n      <th>1</th>\n      <td>100</td>\n      <td>4.08</td>\n      <td>-0.29</td>\n      <td>6.36</td>\n      <td>4.37</td>\n      <td>-2.38</td>\n      <td>-9.66</td>\n      <td>-0.73</td>\n      <td>-5.34</td>\n      <td>8.88</td>\n      <td>...</td>\n      <td>2.82</td>\n      <td>-4.95</td>\n      <td>-0.29</td>\n      <td>7.86</td>\n      <td>-0.19</td>\n      <td>-2.14</td>\n      <td>3.06</td>\n      <td>0.34</td>\n      <td>-4.32</td>\n      <td>1.07</td>\n    </tr>\n    <tr>\n      <th>2</th>\n      <td>49</td>\n      <td>99.00</td>\n      <td>99.00</td>\n      <td>99.00</td>\n      <td>99.00</td>\n      <td>9.03</td>\n      <td>9.27</td>\n      <td>9.03</td>\n      <td>9.27</td>\n      <td>99.00</td>\n      <td>...</td>\n      <td>99.00</td>\n      <td>99.00</td>\n      <td>99.00</td>\n      <td>9.08</td>\n      <td>99.00</td>\n      <td>99.00</td>\n      <td>99.00</td>\n      <td>99.00</td>\n      <td>99.00</td>\n      <td>99.00</td>\n    </tr>\n    <tr>\n      <th>3</th>\n      <td>48</td>\n      <td>99.00</td>\n      <td>8.35</td>\n      <td>99.00</td>\n      <td>99.00</td>\n      <td>1.80</td>\n      <td>8.16</td>\n      <td>-2.82</td>\n      <td>6.21</td>\n      <td>99.00</td>\n      <td>...</td>\n      <td>99.00</td>\n      <td>99.00</td>\n      <td>99.00</td>\n      <td>0.53</td>\n      <td>99.00</td>\n      <td>99.00</td>\n      <td>99.00</td>\n      <td>99.00</td>\n      <td>99.00</td>\n      <td>99.00</td>\n    </tr>\n    <tr>\n      <th>4</th>\n      <td>91</td>\n      <td>8.50</td>\n      <td>4.61</td>\n      <td>-4.17</td>\n      <td>-5.39</td>\n      <td>1.36</td>\n      <td>1.60</td>\n      <td>7.04</td>\n      <td>4.61</td>\n      <td>-0.44</td>\n      <td>...</td>\n      <td>5.19</td>\n      <td>5.58</td>\n      <td>4.27</td>\n      <td>5.19</td>\n      <td>5.73</td>\n      <td>1.55</td>\n      <td>3.11</td>\n      <td>6.55</td>\n      <td>1.80</td>\n      <td>1.60</td>\n    </tr>\n    <tr>\n      <th>...</th>\n      <td>...</td>\n      <td>...</td>\n      <td>...</td>\n      <td>...</td>\n      <td>...</td>\n      <td>...</td>\n      <td>...</td>\n      <td>...</td>\n      <td>...</td>\n      <td>...</td>\n      <td>...</td>\n      <td>...</td>\n      <td>...</td>\n      <td>...</td>\n      <td>...</td>\n      <td>...</td>\n      <td>...</td>\n      <td>...</td>\n      <td>...</td>\n      <td>...</td>\n      <td>...</td>\n    </tr>\n    <tr>\n      <th>24978</th>\n      <td>100</td>\n      <td>0.44</td>\n      <td>7.43</td>\n      <td>9.08</td>\n      <td>2.33</td>\n      <td>3.20</td>\n      <td>6.75</td>\n      <td>-8.79</td>\n      <td>-0.53</td>\n      <td>-8.74</td>\n      <td>...</td>\n      <td>8.83</td>\n      <td>-1.21</td>\n      <td>9.22</td>\n      <td>-6.70</td>\n      <td>8.45</td>\n      <td>9.03</td>\n      <td>6.55</td>\n      <td>8.69</td>\n      <td>8.79</td>\n      <td>7.43</td>\n    </tr>\n    <tr>\n      <th>24979</th>\n      <td>91</td>\n      <td>9.13</td>\n      <td>-8.16</td>\n      <td>8.59</td>\n      <td>9.08</td>\n      <td>0.87</td>\n      <td>-8.93</td>\n      <td>-3.50</td>\n      <td>5.78</td>\n      <td>-8.11</td>\n      <td>...</td>\n      <td>-1.17</td>\n      <td>-5.73</td>\n      <td>-1.46</td>\n      <td>0.24</td>\n      <td>9.22</td>\n      <td>-8.20</td>\n      <td>-7.23</td>\n      <td>-8.59</td>\n      <td>9.13</td>\n      <td>8.45</td>\n    </tr>\n    <tr>\n      <th>24980</th>\n      <td>39</td>\n      <td>99.00</td>\n      <td>99.00</td>\n      <td>99.00</td>\n      <td>99.00</td>\n      <td>-7.77</td>\n      <td>99.00</td>\n      <td>6.70</td>\n      <td>-6.75</td>\n      <td>99.00</td>\n      <td>...</td>\n      <td>99.00</td>\n      <td>99.00</td>\n      <td>99.00</td>\n      <td>99.00</td>\n      <td>99.00</td>\n      <td>99.00</td>\n      <td>99.00</td>\n      <td>99.00</td>\n      <td>99.00</td>\n      <td>99.00</td>\n    </tr>\n    <tr>\n      <th>24981</th>\n      <td>37</td>\n      <td>99.00</td>\n      <td>99.00</td>\n      <td>99.00</td>\n      <td>99.00</td>\n      <td>-9.71</td>\n      <td>99.00</td>\n      <td>4.56</td>\n      <td>-8.30</td>\n      <td>99.00</td>\n      <td>...</td>\n      <td>99.00</td>\n      <td>99.00</td>\n      <td>99.00</td>\n      <td>99.00</td>\n      <td>99.00</td>\n      <td>99.00</td>\n      <td>99.00</td>\n      <td>99.00</td>\n      <td>99.00</td>\n      <td>99.00</td>\n    </tr>\n    <tr>\n      <th>24982</th>\n      <td>72</td>\n      <td>2.43</td>\n      <td>2.67</td>\n      <td>-3.98</td>\n      <td>4.27</td>\n      <td>-2.28</td>\n      <td>7.33</td>\n      <td>2.33</td>\n      <td>4.56</td>\n      <td>6.75</td>\n      <td>...</td>\n      <td>99.00</td>\n      <td>99.00</td>\n      <td>99.00</td>\n      <td>99.00</td>\n      <td>99.00</td>\n      <td>99.00</td>\n      <td>99.00</td>\n      <td>99.00</td>\n      <td>99.00</td>\n      <td>99.00</td>\n    </tr>\n  </tbody>\n</table>\n<p>24983 rows × 101 columns</p>\n</div>"
          },
          "metadata": {},
          "execution_count": 20
        }
      ]
    },
    {
      "cell_type": "code",
      "execution_count": 21,
      "metadata": {},
      "outputs": [
        {
          "output_type": "execute_result",
          "data": {
            "text/plain": [
              "-5.83"
            ]
          },
          "metadata": {},
          "execution_count": 21
        }
      ],
      "source": [
        "df.loc[12622,16]"
      ]
    },
    {
      "cell_type": "code",
      "metadata": {
        "id": "jlZbBs2IbyTw",
        "colab_type": "code",
        "colab": {}
      },
      "source": [
        "arr = df.copy() \n",
        "arr = arr.drop(arr.columns[0], axis=1)"
      ],
      "execution_count": 22,
      "outputs": []
    },
    {
      "cell_type": "code",
      "metadata": {
        "id": "Ro7O_I1JKwIs",
        "colab_type": "code",
        "outputId": "343a90e1-6788-44d7-c3d5-c3bbb4886523",
        "colab": {
          "base_uri": "https://localhost:8080/",
          "height": 34
        }
      },
      "source": [
        "arr = df.values\n",
        "print(arr.shape)"
      ],
      "execution_count": 23,
      "outputs": [
        {
          "output_type": "stream",
          "name": "stdout",
          "text": [
            "(24983, 101)\n"
          ]
        }
      ]
    },
    {
      "cell_type": "code",
      "metadata": {
        "id": "W9f7bIszKyT0",
        "colab_type": "code",
        "outputId": "f6186ccc-ffad-474d-ce09-0c13572464a6",
        "colab": {
          "base_uri": "https://localhost:8080/",
          "height": 51
        }
      },
      "source": [
        "rated = np.where(arr!=99)\n",
        "rated"
      ],
      "execution_count": 24,
      "outputs": [
        {
          "output_type": "execute_result",
          "data": {
            "text/plain": [
              "(array([    0,     0,     0, ..., 24982, 24982, 24982], dtype=int64),\n",
              " array([ 0,  1,  2, ..., 70, 71, 87], dtype=int64))"
            ]
          },
          "metadata": {},
          "execution_count": 24
        }
      ]
    },
    {
      "cell_type": "code",
      "execution_count": 25,
      "metadata": {},
      "outputs": [
        {
          "output_type": "execute_result",
          "data": {
            "text/plain": [
              "array([ 0,  1,  2, ..., 70, 71, 87], dtype=int64)"
            ]
          },
          "metadata": {},
          "execution_count": 25
        }
      ],
      "source": [
        "rated[1]"
      ]
    },
    {
      "cell_type": "code",
      "execution_count": 26,
      "metadata": {},
      "outputs": [
        {
          "output_type": "execute_result",
          "data": {
            "text/plain": [
              "42.88484529167895"
            ]
          },
          "metadata": {},
          "execution_count": 26
        }
      ],
      "source": [
        "np.mean(rated[1])"
      ]
    },
    {
      "cell_type": "code",
      "metadata": {
        "id": "uF_XIHIiKzq_",
        "colab_type": "code",
        "outputId": "789aa05e-1084-4563-d0cf-76aaa560f428",
        "colab": {
          "base_uri": "https://localhost:8080/",
          "height": 34
        }
      },
      "source": [
        "rated = np.where(arr!=99)\n",
        "print(len(rated[0]), rated[1].shape)"
      ],
      "execution_count": 27,
      "outputs": [
        {
          "output_type": "stream",
          "name": "stdout",
          "text": [
            "1835357 (1835357,)\n"
          ]
        }
      ]
    },
    {
      "cell_type": "code",
      "metadata": {
        "id": "GvkRVWn9K1Nc",
        "colab_type": "code",
        "colab": {}
      },
      "source": [
        "def replace(orig, percentage=0.1):\n",
        "  \"\"\"\n",
        "  Replaces 'percentage'% of the original values in 'orig' with 99's\n",
        "  :param orig: original data array\n",
        "  :param percentage: percentage of values to replace (0<percentage<1)\n",
        "  \"\"\"\n",
        "  new_data = orig.copy()\n",
        "  rated = np.where(arr!=99)\n",
        "  n_rated = len(rated[0])\n",
        "  idx = np.random.choice(n_rated, size=int(percentage*n_rated), replace=False)\n",
        "  new_data[rated[0][idx], rated[1][idx]] = 99\n",
        "  return new_data, (rated[0][idx], rated[1][idx])"
      ],
      "execution_count": 28,
      "outputs": []
    },
    {
      "cell_type": "code",
      "metadata": {
        "id": "kaqf5RrOK6is",
        "colab_type": "code",
        "colab": {}
      },
      "source": [
        "new_arr, idx = replace(arr, 0.1)"
      ],
      "execution_count": 29,
      "outputs": []
    },
    {
      "cell_type": "code",
      "metadata": {
        "id": "oLJWTBeAK8NM",
        "colab_type": "code",
        "outputId": "72579485-1fac-4a91-8381-c9dce196a87e",
        "colab": {
          "base_uri": "https://localhost:8080/",
          "height": 34
        }
      },
      "source": [
        "arr[idx[0][0], idx[1][0]]"
      ],
      "execution_count": 30,
      "outputs": [
        {
          "output_type": "execute_result",
          "data": {
            "text/plain": [
              "2.52"
            ]
          },
          "metadata": {},
          "execution_count": 30
        }
      ]
    },
    {
      "cell_type": "code",
      "metadata": {
        "id": "V7g__avAK-_u",
        "colab_type": "code",
        "outputId": "32f3a8a9-67de-4214-945f-1c664b1c5901",
        "colab": {
          "base_uri": "https://localhost:8080/",
          "height": 34
        }
      },
      "source": [
        "new_arr[idx[0][0], idx[1][0]]"
      ],
      "execution_count": 31,
      "outputs": [
        {
          "output_type": "execute_result",
          "data": {
            "text/plain": [
              "99.0"
            ]
          },
          "metadata": {},
          "execution_count": 31
        }
      ]
    },
    {
      "cell_type": "code",
      "execution_count": 38,
      "metadata": {},
      "outputs": [],
      "source": [
        "user_ratings_df = pd.read_csv(\"https://raw.githubusercontent.com/albanda/CE888/master/lab4-recommender/user_ratings.csv\")\n",
        "user_features_df = pd.read_csv(\"https://raw.githubusercontent.com/albanda/CE888/master/lab4-recommender/user_features.csv\")\n",
        "item_features_df = pd.read_csv(\"https://raw.githubusercontent.com/albanda/CE888/master/lab4-recommender/item_features.csv\")"
      ]
    },
    {
      "cell_type": "code",
      "execution_count": 39,
      "metadata": {},
      "outputs": [],
      "source": [
        "user_features_df[\"key\"] = 0\n",
        "user_features_df[\"user_id\"] = range(user_features_df.shape[0])\n",
        "item_features_df[\"key\"] = 0\n",
        "item_features_df[\"item_id\"] = range(item_features_df.shape[0])\n",
        "\n",
        "merged_df = pd.merge(user_features_df, item_features_df, left_index=True, on=\"key\")\n",
        "merged_df.drop(labels='key', axis=1, inplace=True)  # drop the \"key\" column"
      ]
    },
    {
      "cell_type": "code",
      "execution_count": 40,
      "metadata": {},
      "outputs": [
        {
          "output_type": "execute_result",
          "data": {
            "text/plain": [
              "   item_id  user_id\n",
              "0        0        0\n",
              "1        1        0\n",
              "2        2        0\n",
              "3        3        0\n",
              "4        4        0\n",
              "0        0        1\n",
              "1        1        1\n",
              "2        2        1\n",
              "3        3        1\n",
              "4        4        1\n",
              "0        0        2\n",
              "1        1        2\n",
              "2        2        2\n",
              "3        3        2\n",
              "4        4        2\n",
              "0        0        3\n",
              "1        1        3\n",
              "2        2        3\n",
              "3        3        3\n",
              "4        4        3\n",
              "0        0        4\n",
              "1        1        4\n",
              "2        2        4\n",
              "3        3        4\n",
              "4        4        4\n",
              "0        0        5\n",
              "1        1        5\n",
              "2        2        5\n",
              "3        3        5\n",
              "4        4        5\n",
              "0        0        6\n",
              "1        1        6\n",
              "2        2        6\n",
              "3        3        6\n",
              "4        4        6\n",
              "0        0        7\n",
              "1        1        7\n",
              "2        2        7\n",
              "3        3        7\n",
              "4        4        7\n",
              "0        0        8\n",
              "1        1        8\n",
              "2        2        8\n",
              "3        3        8\n",
              "4        4        8\n",
              "0        0        9\n",
              "1        1        9\n",
              "2        2        9\n",
              "3        3        9\n",
              "4        4        9"
            ],
            "text/html": "<div>\n<style scoped>\n    .dataframe tbody tr th:only-of-type {\n        vertical-align: middle;\n    }\n\n    .dataframe tbody tr th {\n        vertical-align: top;\n    }\n\n    .dataframe thead th {\n        text-align: right;\n    }\n</style>\n<table border=\"1\" class=\"dataframe\">\n  <thead>\n    <tr style=\"text-align: right;\">\n      <th></th>\n      <th>item_id</th>\n      <th>user_id</th>\n    </tr>\n  </thead>\n  <tbody>\n    <tr>\n      <th>0</th>\n      <td>0</td>\n      <td>0</td>\n    </tr>\n    <tr>\n      <th>1</th>\n      <td>1</td>\n      <td>0</td>\n    </tr>\n    <tr>\n      <th>2</th>\n      <td>2</td>\n      <td>0</td>\n    </tr>\n    <tr>\n      <th>3</th>\n      <td>3</td>\n      <td>0</td>\n    </tr>\n    <tr>\n      <th>4</th>\n      <td>4</td>\n      <td>0</td>\n    </tr>\n    <tr>\n      <th>0</th>\n      <td>0</td>\n      <td>1</td>\n    </tr>\n    <tr>\n      <th>1</th>\n      <td>1</td>\n      <td>1</td>\n    </tr>\n    <tr>\n      <th>2</th>\n      <td>2</td>\n      <td>1</td>\n    </tr>\n    <tr>\n      <th>3</th>\n      <td>3</td>\n      <td>1</td>\n    </tr>\n    <tr>\n      <th>4</th>\n      <td>4</td>\n      <td>1</td>\n    </tr>\n    <tr>\n      <th>0</th>\n      <td>0</td>\n      <td>2</td>\n    </tr>\n    <tr>\n      <th>1</th>\n      <td>1</td>\n      <td>2</td>\n    </tr>\n    <tr>\n      <th>2</th>\n      <td>2</td>\n      <td>2</td>\n    </tr>\n    <tr>\n      <th>3</th>\n      <td>3</td>\n      <td>2</td>\n    </tr>\n    <tr>\n      <th>4</th>\n      <td>4</td>\n      <td>2</td>\n    </tr>\n    <tr>\n      <th>0</th>\n      <td>0</td>\n      <td>3</td>\n    </tr>\n    <tr>\n      <th>1</th>\n      <td>1</td>\n      <td>3</td>\n    </tr>\n    <tr>\n      <th>2</th>\n      <td>2</td>\n      <td>3</td>\n    </tr>\n    <tr>\n      <th>3</th>\n      <td>3</td>\n      <td>3</td>\n    </tr>\n    <tr>\n      <th>4</th>\n      <td>4</td>\n      <td>3</td>\n    </tr>\n    <tr>\n      <th>0</th>\n      <td>0</td>\n      <td>4</td>\n    </tr>\n    <tr>\n      <th>1</th>\n      <td>1</td>\n      <td>4</td>\n    </tr>\n    <tr>\n      <th>2</th>\n      <td>2</td>\n      <td>4</td>\n    </tr>\n    <tr>\n      <th>3</th>\n      <td>3</td>\n      <td>4</td>\n    </tr>\n    <tr>\n      <th>4</th>\n      <td>4</td>\n      <td>4</td>\n    </tr>\n    <tr>\n      <th>0</th>\n      <td>0</td>\n      <td>5</td>\n    </tr>\n    <tr>\n      <th>1</th>\n      <td>1</td>\n      <td>5</td>\n    </tr>\n    <tr>\n      <th>2</th>\n      <td>2</td>\n      <td>5</td>\n    </tr>\n    <tr>\n      <th>3</th>\n      <td>3</td>\n      <td>5</td>\n    </tr>\n    <tr>\n      <th>4</th>\n      <td>4</td>\n      <td>5</td>\n    </tr>\n    <tr>\n      <th>0</th>\n      <td>0</td>\n      <td>6</td>\n    </tr>\n    <tr>\n      <th>1</th>\n      <td>1</td>\n      <td>6</td>\n    </tr>\n    <tr>\n      <th>2</th>\n      <td>2</td>\n      <td>6</td>\n    </tr>\n    <tr>\n      <th>3</th>\n      <td>3</td>\n      <td>6</td>\n    </tr>\n    <tr>\n      <th>4</th>\n      <td>4</td>\n      <td>6</td>\n    </tr>\n    <tr>\n      <th>0</th>\n      <td>0</td>\n      <td>7</td>\n    </tr>\n    <tr>\n      <th>1</th>\n      <td>1</td>\n      <td>7</td>\n    </tr>\n    <tr>\n      <th>2</th>\n      <td>2</td>\n      <td>7</td>\n    </tr>\n    <tr>\n      <th>3</th>\n      <td>3</td>\n      <td>7</td>\n    </tr>\n    <tr>\n      <th>4</th>\n      <td>4</td>\n      <td>7</td>\n    </tr>\n    <tr>\n      <th>0</th>\n      <td>0</td>\n      <td>8</td>\n    </tr>\n    <tr>\n      <th>1</th>\n      <td>1</td>\n      <td>8</td>\n    </tr>\n    <tr>\n      <th>2</th>\n      <td>2</td>\n      <td>8</td>\n    </tr>\n    <tr>\n      <th>3</th>\n      <td>3</td>\n      <td>8</td>\n    </tr>\n    <tr>\n      <th>4</th>\n      <td>4</td>\n      <td>8</td>\n    </tr>\n    <tr>\n      <th>0</th>\n      <td>0</td>\n      <td>9</td>\n    </tr>\n    <tr>\n      <th>1</th>\n      <td>1</td>\n      <td>9</td>\n    </tr>\n    <tr>\n      <th>2</th>\n      <td>2</td>\n      <td>9</td>\n    </tr>\n    <tr>\n      <th>3</th>\n      <td>3</td>\n      <td>9</td>\n    </tr>\n    <tr>\n      <th>4</th>\n      <td>4</td>\n      <td>9</td>\n    </tr>\n  </tbody>\n</table>\n</div>"
          },
          "metadata": {},
          "execution_count": 40
        }
      ],
      "source": [
        "merged_df[[\"item_id\", \"user_id\"]]"
      ]
    },
    {
      "cell_type": "code",
      "execution_count": 41,
      "metadata": {},
      "outputs": [],
      "source": [
        "merged_df[\"rating\"] = list(map(lambda ids: user_ratings_df.values[ids[1]][ids[2]], \n",
        "                          merged_df[[\"user_id\", \"item_id\"]].itertuples()))\n",
        "\n",
        "train = merged_df.dropna()\n",
        "test = merged_df[merged_df.isnull().any(axis=1)]"
      ]
    },
    {
      "cell_type": "code",
      "execution_count": 44,
      "metadata": {},
      "outputs": [],
      "source": [
        "X_tr, y_tr = train.iloc[:, :-1].values, train.iloc[:, -1].values  # separate into X and y\n",
        "\n",
        "clf = SVC()\n",
        "clf.fit(X_tr, y_tr)\n",
        "X_test = test.iloc[:, :-1].values\n",
        "predictions = clf.predict(X_test)"
      ]
    },
    {
      "cell_type": "code",
      "execution_count": 45,
      "metadata": {},
      "outputs": [
        {
          "output_type": "stream",
          "name": "stdout",
          "text": [
            "[[1. 1. 0. 0. 0.]\n [1. 0. 1. 0. 1.]\n [1. 0. 0. 0. 2.]\n [1. 1. 0. 0. 3.]\n [1. 0. 1. 0. 4.]\n [1. 0. 0. 0. 5.]\n [1. 0. 0. 0. 6.]\n [1. 1. 0. 0. 7.]\n [1. 0. 1. 0. 8.]\n [1. 1. 0. 0. 9.]]\n"
          ]
        }
      ],
      "source": [
        "n_latent_factors = 2\n",
        "\n",
        "user_ratings = user_ratings_df.values\n",
        "latent_user_preferences = np.random.random((user_ratings.shape[0], n_latent_factors))\n",
        "latent_item_features = np.random.random((user_ratings.shape[1], n_latent_factors))\n",
        "\n",
        "user_features = user_features_df.values\n",
        "item_features = item_features_df.values\n",
        "\n",
        "user_features = np.concatenate([np.ones(shape=(user_features.shape[0],1)), user_features], axis=1)\n",
        "item_features = np.concatenate([np.ones(shape=(item_features.shape[0],1)), item_features], axis=1)\n",
        "\n",
        "user_features_weights = np.random.random((user_ratings.shape[0], user_features.shape[1]))\n",
        "item_features_weights = np.random.random((user_ratings.shape[1], item_features.shape[1]))\n",
        "\n",
        "print(user_features)"
      ]
    },
    {
      "cell_type": "code",
      "execution_count": 52,
      "metadata": {},
      "outputs": [],
      "source": [
        "def predict_rating(user_id, item_id):\n",
        "    \"\"\"\n",
        "    Predict a rating given a user_id and an item_id.\n",
        "    \"\"\"\n",
        "    user_preference = latent_user_preferences[user_id]\n",
        "    item_preference = latent_item_features[item_id]\n",
        "    \n",
        "    user_score = user_features_weights[user_id].dot(user_features[user_id])\n",
        "    item_score = item_features_weights[item_id].dot(item_features[item_id])\n",
        "    #print(user_preference.dot(item_preference), user_score, item_score)\n",
        "    return user_preference.dot(item_preference) + user_score + item_score\n",
        "\n",
        "\n",
        "def train(user_id, item_id, rating, alpha=0.001, \n",
        "          latent_feature_weight_decay=0.1,\n",
        "          user_weight_decay=0.01, item_weight_decay=0.0001):\n",
        "    #print(item_id)\n",
        "    prediction_rating = predict_rating(user_id, item_id)\n",
        "    err = prediction_rating - rating\n",
        "    #print(err)\n",
        "    user_pref_values = latent_user_preferences[user_id]\n",
        "    latent_user_preferences[user_id] -= alpha * err * (latent_item_features[item_id] + latent_feature_weight_decay * latent_user_preferences[user_id])\n",
        "    latent_item_features[item_id] -= alpha * err * (user_pref_values + latent_feature_weight_decay * latent_item_features[item_id])\n",
        "    \n",
        "    user_features_weights[user_id] -=alpha * err * (user_features[user_id] + user_weight_decay * user_features_weights[user_id])\n",
        "    item_features_weights[item_id] -=alpha * err * (item_features_weights[item_id] + item_weight_decay * item_features_weights[item_id])\n",
        "    \n",
        "    return err\n",
        "\n",
        "def sgd(iterations):\n",
        "    \"\"\" \n",
        "    Iterate over all users and all items and train for \n",
        "    a certain number of iterations\n",
        "    \"\"\"\n",
        "    for iteration in range(iterations):\n",
        "        error = []\n",
        "        for user_id in range(latent_user_preferences.shape[0]):\n",
        "            for item_id in range(latent_item_features.shape[0]):\n",
        "                rating = user_ratings[user_id, item_id]\n",
        "                if not np.isnan(rating):\n",
        "                    err = train(user_id, item_id, rating)\n",
        "                    error.append(err)\n",
        "    mse = (np.array(error) ** 2).mean()          \n",
        "    print(mse) \n",
        "\n"
      ]
    },
    {
      "cell_type": "code",
      "metadata": {
        "id": "I_ckUJXub_oc",
        "colab_type": "code",
        "outputId": "5ea91854-0475-4487-abbe-5b5d13cd5182",
        "colab": {
          "base_uri": "https://localhost:8080/",
          "height": 357
        },
        "tags": []
      },
      "source": [
        "\n",
        "for _ in range(10):\n",
        "    sgd(10)  # Note decreasing values with iterations"
      ],
      "execution_count": 56,
      "outputs": [
        {
          "output_type": "stream",
          "name": "stdout",
          "text": [
            "nan\nnan\nnan\nnan\nnan\nnan\nnan\nnan\nnan\nnan\n"
          ]
        }
      ]
    },
    {
      "cell_type": "code",
      "metadata": {
        "id": "kephdZ-vLGF7",
        "colab_type": "code",
        "colab": {
          "base_uri": "https://localhost:8080/",
          "height": 238
        },
        "outputId": "0ec0f253-c778-448b-ce86-fc62ed6cc613"
      },
      "source": [
        "predictions = latent_user_preferences.dot(latent_item_features.T)\n",
        "predictions"
      ],
      "execution_count": 57,
      "outputs": [
        {
          "output_type": "execute_result",
          "data": {
            "text/plain": [
              "array([[nan, nan, nan, nan, nan],\n",
              "       [nan, nan, nan, nan, nan],\n",
              "       [nan, nan, nan, nan, nan],\n",
              "       [nan, nan, nan, nan, nan],\n",
              "       [nan, nan, nan, nan, nan],\n",
              "       [nan, nan, nan, nan, nan],\n",
              "       [nan, nan, nan, nan, nan],\n",
              "       [nan, nan, nan, nan, nan],\n",
              "       [nan, nan, nan, nan, nan],\n",
              "       [nan, nan, nan, nan, nan]])"
            ]
          },
          "metadata": {},
          "execution_count": 57
        }
      ]
    },
    {
      "cell_type": "code",
      "metadata": {
        "id": "D4m232hYLIbl",
        "colab_type": "code",
        "colab": {}
      },
      "source": [
        "values = [zip(user_ratings[i], predictions[i]) for i in range(predictions.shape[0])]\n",
        "comparison_data = pd.DataFrame(values)\n",
        "comparison_data.columns = df.columns"
      ],
      "execution_count": 58,
      "outputs": [
        {
          "output_type": "error",
          "ename": "ValueError",
          "evalue": "Length mismatch: Expected axis has 5 elements, new values have 101 elements",
          "traceback": [
            "\u001b[1;31m---------------------------------------------------------------------------\u001b[0m",
            "\u001b[1;31mValueError\u001b[0m                                Traceback (most recent call last)",
            "\u001b[1;32m<ipython-input-58-97cd773f6499>\u001b[0m in \u001b[0;36m<module>\u001b[1;34m\u001b[0m\n\u001b[0;32m      1\u001b[0m \u001b[0mvalues\u001b[0m \u001b[1;33m=\u001b[0m \u001b[1;33m[\u001b[0m\u001b[0mzip\u001b[0m\u001b[1;33m(\u001b[0m\u001b[0muser_ratings\u001b[0m\u001b[1;33m[\u001b[0m\u001b[0mi\u001b[0m\u001b[1;33m]\u001b[0m\u001b[1;33m,\u001b[0m \u001b[0mpredictions\u001b[0m\u001b[1;33m[\u001b[0m\u001b[0mi\u001b[0m\u001b[1;33m]\u001b[0m\u001b[1;33m)\u001b[0m \u001b[1;32mfor\u001b[0m \u001b[0mi\u001b[0m \u001b[1;32min\u001b[0m \u001b[0mrange\u001b[0m\u001b[1;33m(\u001b[0m\u001b[0mpredictions\u001b[0m\u001b[1;33m.\u001b[0m\u001b[0mshape\u001b[0m\u001b[1;33m[\u001b[0m\u001b[1;36m0\u001b[0m\u001b[1;33m]\u001b[0m\u001b[1;33m)\u001b[0m\u001b[1;33m]\u001b[0m\u001b[1;33m\u001b[0m\u001b[1;33m\u001b[0m\u001b[0m\n\u001b[0;32m      2\u001b[0m \u001b[0mcomparison_data\u001b[0m \u001b[1;33m=\u001b[0m \u001b[0mpd\u001b[0m\u001b[1;33m.\u001b[0m\u001b[0mDataFrame\u001b[0m\u001b[1;33m(\u001b[0m\u001b[0mvalues\u001b[0m\u001b[1;33m)\u001b[0m\u001b[1;33m\u001b[0m\u001b[1;33m\u001b[0m\u001b[0m\n\u001b[1;32m----> 3\u001b[1;33m \u001b[0mcomparison_data\u001b[0m\u001b[1;33m.\u001b[0m\u001b[0mcolumns\u001b[0m \u001b[1;33m=\u001b[0m \u001b[0mdf\u001b[0m\u001b[1;33m.\u001b[0m\u001b[0mcolumns\u001b[0m\u001b[1;33m\u001b[0m\u001b[1;33m\u001b[0m\u001b[0m\n\u001b[0m",
            "\u001b[1;32m~\\anaconda3\\envs\\ce802\\lib\\site-packages\\pandas\\core\\generic.py\u001b[0m in \u001b[0;36m__setattr__\u001b[1;34m(self, name, value)\u001b[0m\n\u001b[0;32m   5150\u001b[0m         \u001b[1;32mtry\u001b[0m\u001b[1;33m:\u001b[0m\u001b[1;33m\u001b[0m\u001b[1;33m\u001b[0m\u001b[0m\n\u001b[0;32m   5151\u001b[0m             \u001b[0mobject\u001b[0m\u001b[1;33m.\u001b[0m\u001b[0m__getattribute__\u001b[0m\u001b[1;33m(\u001b[0m\u001b[0mself\u001b[0m\u001b[1;33m,\u001b[0m \u001b[0mname\u001b[0m\u001b[1;33m)\u001b[0m\u001b[1;33m\u001b[0m\u001b[1;33m\u001b[0m\u001b[0m\n\u001b[1;32m-> 5152\u001b[1;33m             \u001b[1;32mreturn\u001b[0m \u001b[0mobject\u001b[0m\u001b[1;33m.\u001b[0m\u001b[0m__setattr__\u001b[0m\u001b[1;33m(\u001b[0m\u001b[0mself\u001b[0m\u001b[1;33m,\u001b[0m \u001b[0mname\u001b[0m\u001b[1;33m,\u001b[0m \u001b[0mvalue\u001b[0m\u001b[1;33m)\u001b[0m\u001b[1;33m\u001b[0m\u001b[1;33m\u001b[0m\u001b[0m\n\u001b[0m\u001b[0;32m   5153\u001b[0m         \u001b[1;32mexcept\u001b[0m \u001b[0mAttributeError\u001b[0m\u001b[1;33m:\u001b[0m\u001b[1;33m\u001b[0m\u001b[1;33m\u001b[0m\u001b[0m\n\u001b[0;32m   5154\u001b[0m             \u001b[1;32mpass\u001b[0m\u001b[1;33m\u001b[0m\u001b[1;33m\u001b[0m\u001b[0m\n",
            "\u001b[1;32mpandas\\_libs\\properties.pyx\u001b[0m in \u001b[0;36mpandas._libs.properties.AxisProperty.__set__\u001b[1;34m()\u001b[0m\n",
            "\u001b[1;32m~\\anaconda3\\envs\\ce802\\lib\\site-packages\\pandas\\core\\generic.py\u001b[0m in \u001b[0;36m_set_axis\u001b[1;34m(self, axis, labels)\u001b[0m\n\u001b[0;32m    562\u001b[0m     \u001b[1;32mdef\u001b[0m \u001b[0m_set_axis\u001b[0m\u001b[1;33m(\u001b[0m\u001b[0mself\u001b[0m\u001b[1;33m,\u001b[0m \u001b[0maxis\u001b[0m\u001b[1;33m:\u001b[0m \u001b[0mint\u001b[0m\u001b[1;33m,\u001b[0m \u001b[0mlabels\u001b[0m\u001b[1;33m:\u001b[0m \u001b[0mIndex\u001b[0m\u001b[1;33m)\u001b[0m \u001b[1;33m->\u001b[0m \u001b[1;32mNone\u001b[0m\u001b[1;33m:\u001b[0m\u001b[1;33m\u001b[0m\u001b[1;33m\u001b[0m\u001b[0m\n\u001b[0;32m    563\u001b[0m         \u001b[0mlabels\u001b[0m \u001b[1;33m=\u001b[0m \u001b[0mensure_index\u001b[0m\u001b[1;33m(\u001b[0m\u001b[0mlabels\u001b[0m\u001b[1;33m)\u001b[0m\u001b[1;33m\u001b[0m\u001b[1;33m\u001b[0m\u001b[0m\n\u001b[1;32m--> 564\u001b[1;33m         \u001b[0mself\u001b[0m\u001b[1;33m.\u001b[0m\u001b[0m_mgr\u001b[0m\u001b[1;33m.\u001b[0m\u001b[0mset_axis\u001b[0m\u001b[1;33m(\u001b[0m\u001b[0maxis\u001b[0m\u001b[1;33m,\u001b[0m \u001b[0mlabels\u001b[0m\u001b[1;33m)\u001b[0m\u001b[1;33m\u001b[0m\u001b[1;33m\u001b[0m\u001b[0m\n\u001b[0m\u001b[0;32m    565\u001b[0m         \u001b[0mself\u001b[0m\u001b[1;33m.\u001b[0m\u001b[0m_clear_item_cache\u001b[0m\u001b[1;33m(\u001b[0m\u001b[1;33m)\u001b[0m\u001b[1;33m\u001b[0m\u001b[1;33m\u001b[0m\u001b[0m\n\u001b[0;32m    566\u001b[0m \u001b[1;33m\u001b[0m\u001b[0m\n",
            "\u001b[1;32m~\\anaconda3\\envs\\ce802\\lib\\site-packages\\pandas\\core\\internals\\managers.py\u001b[0m in \u001b[0;36mset_axis\u001b[1;34m(self, axis, new_labels)\u001b[0m\n\u001b[0;32m    225\u001b[0m         \u001b[1;32mif\u001b[0m \u001b[0mnew_len\u001b[0m \u001b[1;33m!=\u001b[0m \u001b[0mold_len\u001b[0m\u001b[1;33m:\u001b[0m\u001b[1;33m\u001b[0m\u001b[1;33m\u001b[0m\u001b[0m\n\u001b[0;32m    226\u001b[0m             raise ValueError(\n\u001b[1;32m--> 227\u001b[1;33m                 \u001b[1;34mf\"Length mismatch: Expected axis has {old_len} elements, new \"\u001b[0m\u001b[1;33m\u001b[0m\u001b[1;33m\u001b[0m\u001b[0m\n\u001b[0m\u001b[0;32m    228\u001b[0m                 \u001b[1;34mf\"values have {new_len} elements\"\u001b[0m\u001b[1;33m\u001b[0m\u001b[1;33m\u001b[0m\u001b[0m\n\u001b[0;32m    229\u001b[0m             )\n",
            "\u001b[1;31mValueError\u001b[0m: Length mismatch: Expected axis has 5 elements, new values have 101 elements"
          ]
        }
      ]
    },
    {
      "cell_type": "code",
      "metadata": {
        "id": "0jKXegU3LIvv",
        "colab_type": "code",
        "colab": {
          "base_uri": "https://localhost:8080/",
          "height": 609
        },
        "outputId": "046fd692-1e1e-48cb-df01-064914b33bca"
      },
      "source": [
        "comparison_data\n",
        "# For each data point, the number on the left is the original value from the dataset, the number on the right is the prediction"
      ],
      "execution_count": 59,
      "outputs": [
        {
          "output_type": "execute_result",
          "data": {
            "text/plain": [
              "            0           1           2           3           4\n",
              "0  (8.0, nan)  (2.0, nan)  (nan, nan)  (5.0, nan)  (4.0, nan)\n",
              "1  (3.0, nan)  (2.0, nan)  (nan, nan)  (7.0, nan)  (7.0, nan)\n",
              "2  (9.0, nan)  (nan, nan)  (7.0, nan)  (8.0, nan)  (5.0, nan)\n",
              "3  (nan, nan)  (nan, nan)  (7.0, nan)  (8.0, nan)  (9.0, nan)\n",
              "4  (nan, nan)  (1.0, nan)  (8.0, nan)  (3.0, nan)  (7.0, nan)\n",
              "5  (2.0, nan)  (3.0, nan)  (5.0, nan)  (nan, nan)  (nan, nan)\n",
              "6  (4.0, nan)  (2.0, nan)  (nan, nan)  (2.0, nan)  (7.0, nan)\n",
              "7  (7.0, nan)  (1.0, nan)  (2.0, nan)  (7.0, nan)  (9.0, nan)\n",
              "8  (3.0, nan)  (3.0, nan)  (nan, nan)  (7.0, nan)  (3.0, nan)\n",
              "9  (4.0, nan)  (nan, nan)  (5.0, nan)  (3.0, nan)  (3.0, nan)"
            ],
            "text/html": "<div>\n<style scoped>\n    .dataframe tbody tr th:only-of-type {\n        vertical-align: middle;\n    }\n\n    .dataframe tbody tr th {\n        vertical-align: top;\n    }\n\n    .dataframe thead th {\n        text-align: right;\n    }\n</style>\n<table border=\"1\" class=\"dataframe\">\n  <thead>\n    <tr style=\"text-align: right;\">\n      <th></th>\n      <th>0</th>\n      <th>1</th>\n      <th>2</th>\n      <th>3</th>\n      <th>4</th>\n    </tr>\n  </thead>\n  <tbody>\n    <tr>\n      <th>0</th>\n      <td>(8.0, nan)</td>\n      <td>(2.0, nan)</td>\n      <td>(nan, nan)</td>\n      <td>(5.0, nan)</td>\n      <td>(4.0, nan)</td>\n    </tr>\n    <tr>\n      <th>1</th>\n      <td>(3.0, nan)</td>\n      <td>(2.0, nan)</td>\n      <td>(nan, nan)</td>\n      <td>(7.0, nan)</td>\n      <td>(7.0, nan)</td>\n    </tr>\n    <tr>\n      <th>2</th>\n      <td>(9.0, nan)</td>\n      <td>(nan, nan)</td>\n      <td>(7.0, nan)</td>\n      <td>(8.0, nan)</td>\n      <td>(5.0, nan)</td>\n    </tr>\n    <tr>\n      <th>3</th>\n      <td>(nan, nan)</td>\n      <td>(nan, nan)</td>\n      <td>(7.0, nan)</td>\n      <td>(8.0, nan)</td>\n      <td>(9.0, nan)</td>\n    </tr>\n    <tr>\n      <th>4</th>\n      <td>(nan, nan)</td>\n      <td>(1.0, nan)</td>\n      <td>(8.0, nan)</td>\n      <td>(3.0, nan)</td>\n      <td>(7.0, nan)</td>\n    </tr>\n    <tr>\n      <th>5</th>\n      <td>(2.0, nan)</td>\n      <td>(3.0, nan)</td>\n      <td>(5.0, nan)</td>\n      <td>(nan, nan)</td>\n      <td>(nan, nan)</td>\n    </tr>\n    <tr>\n      <th>6</th>\n      <td>(4.0, nan)</td>\n      <td>(2.0, nan)</td>\n      <td>(nan, nan)</td>\n      <td>(2.0, nan)</td>\n      <td>(7.0, nan)</td>\n    </tr>\n    <tr>\n      <th>7</th>\n      <td>(7.0, nan)</td>\n      <td>(1.0, nan)</td>\n      <td>(2.0, nan)</td>\n      <td>(7.0, nan)</td>\n      <td>(9.0, nan)</td>\n    </tr>\n    <tr>\n      <th>8</th>\n      <td>(3.0, nan)</td>\n      <td>(3.0, nan)</td>\n      <td>(nan, nan)</td>\n      <td>(7.0, nan)</td>\n      <td>(3.0, nan)</td>\n    </tr>\n    <tr>\n      <th>9</th>\n      <td>(4.0, nan)</td>\n      <td>(nan, nan)</td>\n      <td>(5.0, nan)</td>\n      <td>(3.0, nan)</td>\n      <td>(3.0, nan)</td>\n    </tr>\n  </tbody>\n</table>\n</div>"
          },
          "metadata": {},
          "execution_count": 59
        }
      ]
    },
    {
      "cell_type": "code",
      "metadata": {
        "id": "d7JGF5cjL6Qe",
        "colab_type": "code",
        "colab": {
          "base_uri": "https://localhost:8080/",
          "height": 34
        },
        "outputId": "f79d7f79-99cc-4c15-d4ce-56f24f09c8c7"
      },
      "source": [
        "\n",
        "error = (predictions[idx[0][:],idx[1][:]]-arr[idx[0][:],idx[1][:]])**2\n",
        "mseA1=sum(error)/len(error)\n",
        "print(\"caseA1: \",mseA1)"
      ],
      "execution_count": 60,
      "outputs": [
        {
          "output_type": "error",
          "ename": "IndexError",
          "evalue": "index 20387 is out of bounds for axis 0 with size 10",
          "traceback": [
            "\u001b[1;31m---------------------------------------------------------------------------\u001b[0m",
            "\u001b[1;31mIndexError\u001b[0m                                Traceback (most recent call last)",
            "\u001b[1;32m<ipython-input-60-f8ff3580d8a1>\u001b[0m in \u001b[0;36m<module>\u001b[1;34m\u001b[0m\n\u001b[1;32m----> 1\u001b[1;33m \u001b[0merror\u001b[0m \u001b[1;33m=\u001b[0m \u001b[1;33m(\u001b[0m\u001b[0mpredictions\u001b[0m\u001b[1;33m[\u001b[0m\u001b[0midx\u001b[0m\u001b[1;33m[\u001b[0m\u001b[1;36m0\u001b[0m\u001b[1;33m]\u001b[0m\u001b[1;33m[\u001b[0m\u001b[1;33m:\u001b[0m\u001b[1;33m]\u001b[0m\u001b[1;33m,\u001b[0m\u001b[0midx\u001b[0m\u001b[1;33m[\u001b[0m\u001b[1;36m1\u001b[0m\u001b[1;33m]\u001b[0m\u001b[1;33m[\u001b[0m\u001b[1;33m:\u001b[0m\u001b[1;33m]\u001b[0m\u001b[1;33m]\u001b[0m\u001b[1;33m-\u001b[0m\u001b[0marr\u001b[0m\u001b[1;33m[\u001b[0m\u001b[0midx\u001b[0m\u001b[1;33m[\u001b[0m\u001b[1;36m0\u001b[0m\u001b[1;33m]\u001b[0m\u001b[1;33m[\u001b[0m\u001b[1;33m:\u001b[0m\u001b[1;33m]\u001b[0m\u001b[1;33m,\u001b[0m\u001b[0midx\u001b[0m\u001b[1;33m[\u001b[0m\u001b[1;36m1\u001b[0m\u001b[1;33m]\u001b[0m\u001b[1;33m[\u001b[0m\u001b[1;33m:\u001b[0m\u001b[1;33m]\u001b[0m\u001b[1;33m]\u001b[0m\u001b[1;33m)\u001b[0m\u001b[1;33m**\u001b[0m\u001b[1;36m2\u001b[0m\u001b[1;33m\u001b[0m\u001b[1;33m\u001b[0m\u001b[0m\n\u001b[0m\u001b[0;32m      2\u001b[0m \u001b[0mmseA1\u001b[0m\u001b[1;33m=\u001b[0m\u001b[0msum\u001b[0m\u001b[1;33m(\u001b[0m\u001b[0merror\u001b[0m\u001b[1;33m)\u001b[0m\u001b[1;33m/\u001b[0m\u001b[0mlen\u001b[0m\u001b[1;33m(\u001b[0m\u001b[0merror\u001b[0m\u001b[1;33m)\u001b[0m\u001b[1;33m\u001b[0m\u001b[1;33m\u001b[0m\u001b[0m\n\u001b[0;32m      3\u001b[0m \u001b[0mprint\u001b[0m\u001b[1;33m(\u001b[0m\u001b[1;34m\"caseA1: \"\u001b[0m\u001b[1;33m,\u001b[0m\u001b[0mmseA1\u001b[0m\u001b[1;33m)\u001b[0m\u001b[1;33m\u001b[0m\u001b[1;33m\u001b[0m\u001b[0m\n",
            "\u001b[1;31mIndexError\u001b[0m: index 20387 is out of bounds for axis 0 with size 10"
          ]
        }
      ]
    },
    {
      "cell_type": "markdown",
      "metadata": {
        "id": "ARLGJcRrcMQ8",
        "colab_type": "text"
      },
      "source": [
        "Repeat the two points above changing hyper-parameters (i.e., learning rate, number of iterations of SVD, number of latent factors, etc.) as needed to get good results (you can create multiple validation sets if you want, and run a bootstrap!)"
      ]
    }
  ]
}