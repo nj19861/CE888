{
 "metadata": {
  "language_info": {
   "codemirror_mode": {
    "name": "ipython",
    "version": 3
   },
   "file_extension": ".py",
   "mimetype": "text/x-python",
   "name": "python",
   "nbconvert_exporter": "python",
   "pygments_lexer": "ipython3",
   "version": "3.7.9"
  },
  "orig_nbformat": 2,
  "kernelspec": {
   "name": "python379jvsc74a57bd0e07ba5245cc8c83033f91238e854835efe5e5c7687c67e5fd5e0db5ce89b50be",
   "display_name": "Python 3.7.9 64-bit ('ce802': conda)"
  }
 },
 "nbformat": 4,
 "nbformat_minor": 2,
 "cells": [
  {
   "cell_type": "code",
   "execution_count": 1,
   "metadata": {},
   "outputs": [],
   "source": [
    "import tensorflow as tf\n",
    "from tensorflow import keras\n",
    "import PIL\n",
    "from tensorflow.keras import layers\n",
    "import matplotlib.pyplot as plt\n",
    "import numpy as np\n",
    "import json\n",
    "from tensorflow.keras.models import load_model\n",
    "from tensorflow.keras.models import model_from_json\n",
    "from tensorflow.keras.preprocessing import image\n",
    "\n",
    "from tensorflow.keras import Sequential"
   ]
  },
  {
   "cell_type": "code",
   "execution_count": 2,
   "metadata": {},
   "outputs": [],
   "source": [
    "image_size = (224,224)"
   ]
  },
  {
   "cell_type": "code",
   "execution_count": 3,
   "metadata": {},
   "outputs": [
    {
     "output_type": "stream",
     "name": "stdout",
     "text": [
      "Found 39375 files belonging to 2 classes.\nUsing 7875 files for validation.\n"
     ]
    }
   ],
   "source": [
    "val_ds = tf.keras.preprocessing.image_dataset_from_directory(\n",
    "        'Fire-vs-NoFire\\\\Training',image_size=image_size ,validation_split=0.2, subset=\"validation\", seed=1337,\n",
    "        batch_size=32, shuffle=True\n",
    "        )"
   ]
  },
  {
   "cell_type": "code",
   "execution_count": 5,
   "metadata": {},
   "outputs": [
    {
     "output_type": "stream",
     "name": "stdout",
     "text": [
      "Found 39375 files belonging to 2 classes.\nUsing 31500 files for training.\n"
     ]
    }
   ],
   "source": [
    "train_ds = tf.keras.preprocessing.image_dataset_from_directory(\n",
    "        'Fire-vs-NoFire\\\\Training',image_size=image_size, validation_split=0.2, subset=\"training\",seed=1337,batch_size=32,shuffle=True\n",
    ")"
   ]
  },
  {
   "cell_type": "code",
   "execution_count": 9,
   "metadata": {},
   "outputs": [],
   "source": [
    "def make_model_keras(input_shape, num_classes):\n",
    "\n",
    "    print(input_shape)\n",
    "   \n",
    "    inputs = keras.Input(shape=input_shape)\n",
    "    \n",
    "    x = inputs  \n",
    "    x = layers.Conv2D(filters=64,kernel_size=(3,3),padding=\"same\", activation=\"relu\")(x)\n",
    "   #x = layers.Conv2D(filters=64,kernel_size=(3,3),padding=\"same\", activation=\"relu\")(x)\n",
    "    x = layers.MaxPooling2D(3,strides=2)(x)\n",
    "    x = layers.Conv2D(filters=128, kernel_size=(3,3), padding=\"same\", activation=\"relu\")(x)\n",
    "   # x = layers.Conv2D(filters=128, kernel_size=(3,3), padding=\"same\", activation=\"relu\")(x)\n",
    "    x = layers.MaxPooling2D(3,strides=2)(x)\n",
    "    x = layers.Conv2D(filters=256, kernel_size=(3,3), padding=\"same\", activation=\"relu\")(x)\n",
    "  #  x = layers.Conv2D(filters=256, kernel_size=(3,3), padding=\"same\", activation=\"relu\")(x)\n",
    "    #x = layers.Conv2D(filters=256, kernel_size=(3,3), padding=\"same\", activation=\"relu\")(x)\n",
    "    x = layers.MaxPooling2D(3,strides=2)(x)\n",
    "    x = layers.Conv2D(filters=512, kernel_size=(3,3), padding=\"same\", activation=\"relu\")(x)\n",
    "  #  x = layers.Conv2D(filters=512, kernel_size=(3,3), padding=\"same\", activation=\"relu\")(x)\n",
    "  #  x = layers.Conv2D(filters=512, kernel_size=(3,3), padding=\"same\", activation=\"relu\")(x)\n",
    "    x = layers.MaxPooling2D(2,strides=2)(x)\n",
    "    x = layers.Conv2D(filters=512, kernel_size=(3,3), padding=\"same\", activation=\"relu\")(x)\n",
    "   # x = layers.Conv2D(filters=512, kernel_size=(3,3), padding=\"same\", activation=\"relu\")(x)\n",
    "   # x = layers.Conv2D(filters=512, kernel_size=(3,3), padding=\"same\", activation=\"relu\")(x)\n",
    "    x = layers.MaxPooling2D(3,strides=2)(x)   \n",
    "    x = layers.Flatten()(x)\n",
    "    x = layers.Dense(units=4096,activation=\"relu\")(x)\n",
    "   # x = layers.Dense(units=4096,activation=\"relu\")(x)\n",
    "\n",
    "    \n",
    "    if num_classes == 2:\n",
    "        activation = \"sigmoid\"\n",
    "        units = 1\n",
    "    else:\n",
    "        activation = \"softmax\"\n",
    "        units = num_classes\n",
    "    \n",
    "    \n",
    "    \n",
    "    outputs = layers.Dense(units, activation=activation)(x)\n",
    "    return keras.Model(inputs, outputs, name=\"model_vgg\")\n",
    "\n",
    "\n",
    "    \n"
   ]
  },
  {
   "cell_type": "code",
   "execution_count": 10,
   "metadata": {},
   "outputs": [
    {
     "output_type": "stream",
     "name": "stdout",
     "text": [
      "(224, 224, 3)\n",
      "Model: \"model_vgg\"\n",
      "_________________________________________________________________\n",
      "Layer (type)                 Output Shape              Param #   \n",
      "=================================================================\n",
      "input_1 (InputLayer)         [(None, 224, 224, 3)]     0         \n",
      "_________________________________________________________________\n",
      "conv2d (Conv2D)              (None, 224, 224, 64)      1792      \n",
      "_________________________________________________________________\n",
      "max_pooling2d (MaxPooling2D) (None, 111, 111, 64)      0         \n",
      "_________________________________________________________________\n",
      "conv2d_1 (Conv2D)            (None, 111, 111, 128)     73856     \n",
      "_________________________________________________________________\n",
      "max_pooling2d_1 (MaxPooling2 (None, 55, 55, 128)       0         \n",
      "_________________________________________________________________\n",
      "conv2d_2 (Conv2D)            (None, 55, 55, 256)       295168    \n",
      "_________________________________________________________________\n",
      "max_pooling2d_2 (MaxPooling2 (None, 27, 27, 256)       0         \n",
      "_________________________________________________________________\n",
      "conv2d_3 (Conv2D)            (None, 27, 27, 512)       1180160   \n",
      "_________________________________________________________________\n",
      "max_pooling2d_3 (MaxPooling2 (None, 13, 13, 512)       0         \n",
      "_________________________________________________________________\n",
      "conv2d_4 (Conv2D)            (None, 13, 13, 512)       2359808   \n",
      "_________________________________________________________________\n",
      "max_pooling2d_4 (MaxPooling2 (None, 6, 6, 512)         0         \n",
      "_________________________________________________________________\n",
      "flatten (Flatten)            (None, 18432)             0         \n",
      "_________________________________________________________________\n",
      "dense (Dense)                (None, 4096)              75501568  \n",
      "_________________________________________________________________\n",
      "dense_1 (Dense)              (None, 1)                 4097      \n",
      "=================================================================\n",
      "Total params: 79,416,449\n",
      "Trainable params: 79,416,449\n",
      "Non-trainable params: 0\n",
      "_________________________________________________________________\n"
     ]
    }
   ],
   "source": [
    "train_ds = train_ds.prefetch(buffer_size=32)\n",
    "val_ds = val_ds.prefetch(buffer_size=32)\n",
    "\n",
    "model = make_model_keras(input_shape=image_size + (3,), num_classes=2)\n",
    "#model.summary\n",
    "model.summary()\n",
    "#keras.utils.plot_model(model, show_shapes=True)"
   ]
  },
  {
   "cell_type": "code",
   "execution_count": 11,
   "metadata": {},
   "outputs": [
    {
     "output_type": "stream",
     "name": "stdout",
     "text": [
      "Epoch 1/5\n",
      "985/985 [==============================] - ETA: 0s - loss: nan - accuracy: 0.6342\n",
      "Epoch 00001: val_loss did not improve from inf\n",
      "985/985 [==============================] - 2694s 3s/step - loss: nan - accuracy: 0.6342 - val_loss: nan - val_accuracy: 0.6370\n",
      "Epoch 2/5\n",
      "985/985 [==============================] - ETA: 0s - loss: nan - accuracy: 0.6350\n",
      "Epoch 00002: val_loss did not improve from inf\n",
      "985/985 [==============================] - 2581s 3s/step - loss: nan - accuracy: 0.6350 - val_loss: nan - val_accuracy: 0.6370\n",
      "Epoch 3/5\n",
      "985/985 [==============================] - ETA: 0s - loss: nan - accuracy: 0.6350\n",
      "Epoch 00003: val_loss did not improve from inf\n",
      "985/985 [==============================] - 2706s 3s/step - loss: nan - accuracy: 0.6350 - val_loss: nan - val_accuracy: 0.6370\n",
      "Epoch 4/5\n",
      "985/985 [==============================] - ETA: 0s - loss: nan - accuracy: 0.6350\n",
      "Epoch 00004: val_loss did not improve from inf\n",
      "985/985 [==============================] - 2637s 3s/step - loss: nan - accuracy: 0.6350 - val_loss: nan - val_accuracy: 0.6370\n",
      "Epoch 5/5\n",
      "985/985 [==============================] - ETA: 0s - loss: nan - accuracy: 0.6350\n",
      "Epoch 00005: val_loss did not improve from inf\n",
      "985/985 [==============================] - 2713s 3s/step - loss: nan - accuracy: 0.6350 - val_loss: nan - val_accuracy: 0.6370\n"
     ]
    },
    {
     "output_type": "execute_result",
     "data": {
      "text/plain": [
       "<tensorflow.python.keras.callbacks.History at 0x2634a968588>"
      ]
     },
     "metadata": {},
     "execution_count": 11
    }
   ],
   "source": [
    "callbacks = [keras.callbacks.ModelCheckpoint(filepath=\"VGG_MODEL\\\\save_at_{epoch}.h5\", verbose=1, save_best_only=True), ]\n",
    "#otp = keras.optimizers.\n",
    "model.compile(optimizer=keras.optimizers.SGD(\n",
    "    learning_rate=0.01, momentum=0.9), loss=\"binary_crossentropy\", metrics=[\"accuracy\"], )\n",
    "model.fit(train_ds, epochs=5, callbacks=callbacks, validation_data=val_ds, batch_size=32)"
   ]
  },
  {
   "cell_type": "code",
   "execution_count": 13,
   "metadata": {},
   "outputs": [
    {
     "output_type": "stream",
     "name": "stdout",
     "text": [
      "INFO:tensorflow:Assets written to: VGG16_MODEL\\model\\assets\n"
     ]
    }
   ],
   "source": [
    " model.save(\"VGG16_MODEL\\\\model\")"
   ]
  },
  {
   "cell_type": "code",
   "execution_count": null,
   "metadata": {},
   "outputs": [],
   "source": []
  }
 ]
}