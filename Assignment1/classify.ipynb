{
 "metadata": {
  "language_info": {
   "codemirror_mode": {
    "name": "ipython",
    "version": 3
   },
   "file_extension": ".py",
   "mimetype": "text/x-python",
   "name": "python",
   "nbconvert_exporter": "python",
   "pygments_lexer": "ipython3",
   "version": "3.7.9"
  },
  "orig_nbformat": 2,
  "kernelspec": {
   "name": "python379jvsc74a57bd0e07ba5245cc8c83033f91238e854835efe5e5c7687c67e5fd5e0db5ce89b50be",
   "display_name": "Python 3.7.9 64-bit ('ce802': conda)"
  }
 },
 "nbformat": 4,
 "nbformat_minor": 2,
 "cells": [
  {
   "cell_type": "code",
   "execution_count": 2,
   "metadata": {},
   "outputs": [],
   "source": [
    "import numpy as np\n",
    "import tensorflow as tf\n",
    "from tensorflow.keras.models import load_model\n",
    "from plotdata import plot_confusion_matrix\n",
    "batch_size = 32\n",
    "image_size = (256,256)\n",
    "epochs = 50\n"
   ]
  },
  {
   "cell_type": "code",
   "execution_count": 3,
   "metadata": {},
   "outputs": [
    {
     "output_type": "stream",
     "name": "stdout",
     "text": [
      "Found 8617 files belonging to 2 classes.\n",
      "270/270 [==============================] - 66s 244ms/step - loss: 0.6892 - accuracy: 0.7052\n"
     ]
    }
   ],
   "source": [
    "test_ds = tf.keras.preprocessing.image_dataset_from_directory(\n",
    "        'Fire-vs-NoFire/Test', seed=1337, image_size=image_size, batch_size=batch_size, shuffle=True\n",
    "    )\n",
    "model_fire = load_model('Models/model2')\n",
    "results_eval = model_fire.evaluate(test_ds, batch_size=batch_size)"
   ]
  },
  {
   "cell_type": "code",
   "execution_count": 4,
   "metadata": {},
   "outputs": [
    {
     "output_type": "execute_result",
     "data": {
      "text/plain": [
       "[0.6891526579856873, 0.7052338123321533]"
      ]
     },
     "metadata": {},
     "execution_count": 4
    }
   ],
   "source": [
    "results_eval"
   ]
  },
  {
   "cell_type": "code",
   "execution_count": null,
   "metadata": {},
   "outputs": [],
   "source": []
  }
 ]
}