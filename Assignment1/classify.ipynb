{
 "metadata": {
  "language_info": {
   "codemirror_mode": {
    "name": "ipython",
    "version": 3
   },
   "file_extension": ".py",
   "mimetype": "text/x-python",
   "name": "python",
   "nbconvert_exporter": "python",
   "pygments_lexer": "ipython3",
   "version": "3.7.9"
  },
  "orig_nbformat": 2,
  "kernelspec": {
   "name": "python379jvsc74a57bd0e07ba5245cc8c83033f91238e854835efe5e5c7687c67e5fd5e0db5ce89b50be",
   "display_name": "Python 3.7.9 64-bit ('ce802': conda)"
  }
 },
 "nbformat": 4,
 "nbformat_minor": 2,
 "cells": [
  {
   "cell_type": "code",
   "execution_count": 1,
   "metadata": {},
   "outputs": [],
   "source": [
    "import numpy as np\n",
    "import tensorflow as tf\n",
    "from tensorflow.keras.models import load_model\n",
    "from plotdata import plot_confusion_matrix\n",
    "batch_size = 32\n",
    "#image_size = (256,256)\n",
    "epochs = 50\n"
   ]
  },
  {
   "cell_type": "code",
   "execution_count": 2,
   "metadata": {},
   "outputs": [
    {
     "output_type": "stream",
     "name": "stdout",
     "text": [
      "Found 8617 files belonging to 2 classes.\n",
      "270/270 [==============================] - 69s 254ms/step - loss: 1.2399 - accuracy: 0.6205\n"
     ]
    }
   ],
   "source": [
    "\n",
    "#### evaluate CNN model \n",
    "test_ds = tf.keras.preprocessing.image_dataset_from_directory(\n",
    "        'Fire-vs-NoFire/Test', seed=1337, image_size=(256,256), batch_size=batch_size, shuffle=True\n",
    "    )\n",
    "model_cnn = load_model('CNN_MODEL\\\\model')\n",
    "results_eval = model_cnn.evaluate(test_ds, batch_size=batch_size)"
   ]
  },
  {
   "cell_type": "code",
   "execution_count": 4,
   "metadata": {},
   "outputs": [
    {
     "output_type": "execute_result",
     "data": {
      "text/plain": [
       "[1.2398958206176758, 0.6205175518989563]"
      ]
     },
     "metadata": {},
     "execution_count": 4
    }
   ],
   "source": [
    "results_eval"
   ]
  },
  {
   "cell_type": "code",
   "execution_count": 6,
   "metadata": {},
   "outputs": [
    {
     "output_type": "stream",
     "name": "stdout",
     "text": [
      "Found 8617 files belonging to 2 classes.\n",
      "270/270 [==============================] - 184s 680ms/step - loss: nan - accuracy: 0.5961\n"
     ]
    }
   ],
   "source": [
    "\n",
    "#### evaluate CNN model \n",
    "test_ds = tf.keras.preprocessing.image_dataset_from_directory(\n",
    "        'Fire-vs-NoFire/Test', seed=1337, image_size=(224,224), batch_size=batch_size, shuffle=True\n",
    "    )\n",
    "model_vgg = load_model('VGG16_MODEL\\\\model')\n",
    "results_eval = model_vgg.evaluate(test_ds, batch_size=batch_size)"
   ]
  },
  {
   "cell_type": "code",
   "execution_count": 7,
   "metadata": {},
   "outputs": [
    {
     "output_type": "execute_result",
     "data": {
      "text/plain": [
       "[nan, 0.5961471796035767]"
      ]
     },
     "metadata": {},
     "execution_count": 7
    }
   ],
   "source": [
    "results_eval"
   ]
  },
  {
   "cell_type": "code",
   "execution_count": null,
   "metadata": {},
   "outputs": [],
   "source": []
  }
 ]
}