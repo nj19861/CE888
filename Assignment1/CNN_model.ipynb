{
 "metadata": {
  "language_info": {
   "codemirror_mode": {
    "name": "ipython",
    "version": 3
   },
   "file_extension": ".py",
   "mimetype": "text/x-python",
   "name": "python",
   "nbconvert_exporter": "python",
   "pygments_lexer": "ipython3",
   "version": "3.7.9"
  },
  "orig_nbformat": 2,
  "kernelspec": {
   "name": "python379jvsc74a57bd0e07ba5245cc8c83033f91238e854835efe5e5c7687c67e5fd5e0db5ce89b50be",
   "display_name": "Python 3.7.9 64-bit ('ce802': conda)"
  }
 },
 "nbformat": 4,
 "nbformat_minor": 2,
 "cells": [
  {
   "cell_type": "code",
   "execution_count": null,
   "metadata": {},
   "outputs": [],
   "source": [
    "#### traning model with CNN model"
   ]
  },
  {
   "cell_type": "code",
   "execution_count": 1,
   "metadata": {},
   "outputs": [],
   "source": [
    "import tensorflow as tf\n",
    "from tensorflow import keras\n",
    "import PIL\n",
    "from tensorflow.keras import layers\n",
    "import matplotlib.pyplot as plt\n",
    "import numpy as np\n",
    "import json\n",
    "from tensorflow.keras.models import load_model\n",
    "from tensorflow.keras.models import model_from_json\n",
    "from tensorflow.keras.preprocessing import image\n",
    "\n",
    "from tensorflow.keras import Sequential"
   ]
  },
  {
   "cell_type": "code",
   "execution_count": 2,
   "metadata": {},
   "outputs": [
    {
     "output_type": "stream",
     "name": "stdout",
     "text": [
      "Found 39375 files belonging to 2 classes.\nUsing 31500 files for training.\n"
     ]
    }
   ],
   "source": [
    "train_ds = tf.keras.preprocessing.image_dataset_from_directory(\n",
    "        'Fire-vs-NoFire\\\\Training', validation_split=0.2, subset=\"training\",seed=1337,batch_size=32,shuffle=True\n",
    ")"
   ]
  },
  {
   "cell_type": "code",
   "execution_count": 3,
   "metadata": {},
   "outputs": [
    {
     "output_type": "stream",
     "name": "stdout",
     "text": [
      "Found 39375 files belonging to 2 classes.\nUsing 7875 files for validation.\n"
     ]
    }
   ],
   "source": [
    "val_ds = tf.keras.preprocessing.image_dataset_from_directory(\n",
    "        'Fire-vs-NoFire\\\\Training', validation_split=0.2, subset=\"validation\", seed=1337,\n",
    "        batch_size=32, shuffle=True\n",
    "        )"
   ]
  },
  {
   "cell_type": "code",
   "execution_count": 4,
   "metadata": {},
   "outputs": [],
   "source": [
    "image_size = (256,256)"
   ]
  },
  {
   "cell_type": "code",
   "execution_count": 6,
   "metadata": {},
   "outputs": [],
   "source": [
    "def make_model_CNN(input_shape, num_classes):\n",
    "\n",
    "    print(input_shape)\n",
    "   \n",
    "    inputs = keras.Input(shape=input_shape)\n",
    "    \n",
    "    x = inputs  \n",
    "\n",
    "    x = layers.experimental.preprocessing.Rescaling(1.0 / 255)(x)\n",
    "    \n",
    "    x = layers.Conv2D(3, 3, strides=2, padding=\"same\")(x)\n",
    "    x = layers.BatchNormalization()(x)\n",
    "    x = layers.Activation(\"relu\")(x)\n",
    "    x = layers.MaxPooling2D(3, strides=2, padding=\"same\")(x)\n",
    "\n",
    "    x = layers.Conv2D(3, 3, strides=2, padding=\"same\")(x)\n",
    "    x = layers.BatchNormalization()(x)\n",
    "    x = layers.Activation(\"relu\")(x)\n",
    "    x = layers.MaxPooling2D(3, strides=2, padding=\"same\")(x)\n",
    "    \n",
    "    x = layers.Conv2D(3, 3, strides=2, padding=\"same\")(x)\n",
    "    x = layers.BatchNormalization()(x)\n",
    "    x = layers.Activation(\"relu\")(x)\n",
    "    x = layers.MaxPooling2D(3, strides=2, padding=\"same\")(x)\n",
    "  \n",
    "    x = layers.GlobalAveragePooling2D()(x)\n",
    "    #x = layers.Dense(2,activation='relu')\n",
    "    \n",
    "    if num_classes == 2:\n",
    "        activation = \"sigmoid\"\n",
    "        units = 1\n",
    "    else:\n",
    "        activation = \"softmax\"\n",
    "        units = num_classes\n",
    "    \n",
    "    x = layers.Dropout(0.5)(x)\n",
    "    \n",
    "    outputs = layers.Dense(units, activation=activation)(x)\n",
    "    return keras.Model(inputs, outputs, name=\"model_cnn\")"
   ]
  },
  {
   "cell_type": "code",
   "execution_count": 8,
   "metadata": {},
   "outputs": [
    {
     "output_type": "stream",
     "name": "stdout",
     "text": [
      "(256, 256, 3)\nModel: \"model_cnn\"\n_________________________________________________________________\nLayer (type)                 Output Shape              Param #   \n=================================================================\ninput_2 (InputLayer)         [(None, 256, 256, 3)]     0         \n_________________________________________________________________\nrescaling_1 (Rescaling)      (None, 256, 256, 3)       0         \n_________________________________________________________________\nconv2d_3 (Conv2D)            (None, 128, 128, 3)       84        \n_________________________________________________________________\nbatch_normalization_3 (Batch (None, 128, 128, 3)       12        \n_________________________________________________________________\nactivation_3 (Activation)    (None, 128, 128, 3)       0         \n_________________________________________________________________\nmax_pooling2d_3 (MaxPooling2 (None, 64, 64, 3)         0         \n_________________________________________________________________\nconv2d_4 (Conv2D)            (None, 32, 32, 3)         84        \n_________________________________________________________________\nbatch_normalization_4 (Batch (None, 32, 32, 3)         12        \n_________________________________________________________________\nactivation_4 (Activation)    (None, 32, 32, 3)         0         \n_________________________________________________________________\nmax_pooling2d_4 (MaxPooling2 (None, 16, 16, 3)         0         \n_________________________________________________________________\nconv2d_5 (Conv2D)            (None, 8, 8, 3)           84        \n_________________________________________________________________\nbatch_normalization_5 (Batch (None, 8, 8, 3)           12        \n_________________________________________________________________\nactivation_5 (Activation)    (None, 8, 8, 3)           0         \n_________________________________________________________________\nmax_pooling2d_5 (MaxPooling2 (None, 4, 4, 3)           0         \n_________________________________________________________________\nglobal_average_pooling2d_1 ( (None, 3)                 0         \n_________________________________________________________________\ndropout_1 (Dropout)          (None, 3)                 0         \n_________________________________________________________________\ndense_1 (Dense)              (None, 1)                 4         \n=================================================================\nTotal params: 292\nTrainable params: 274\nNon-trainable params: 18\n_________________________________________________________________\n"
     ]
    }
   ],
   "source": [
    "train_ds = train_ds.prefetch(buffer_size=32)\n",
    "val_ds = val_ds.prefetch(buffer_size=32)\n",
    "\n",
    "model = make_model_CNN(input_shape=image_size + (3,), num_classes=2)\n",
    "\n",
    "model.summary()\n"
   ]
  },
  {
   "cell_type": "code",
   "execution_count": 9,
   "metadata": {},
   "outputs": [
    {
     "output_type": "stream",
     "name": "stdout",
     "text": [
      "Epoch 1/40\n",
      "984/985 [============================>.] - ETA: 0s - loss: 0.3963 - accuracy: 0.8611\n",
      "Epoch 00001: val_loss improved from inf to 0.29925, saving model to CNN_MODEL\\save_at_1.h5\n",
      "985/985 [==============================] - 119s 121ms/step - loss: 0.3966 - accuracy: 0.8611 - val_loss: 0.2992 - val_accuracy: 0.9387\n",
      "Epoch 2/40\n",
      "984/985 [============================>.] - ETA: 0s - loss: 0.3618 - accuracy: 0.8685\n",
      "Epoch 00002: val_loss improved from 0.29925 to 0.28071, saving model to CNN_MODEL\\save_at_2.h5\n",
      "985/985 [==============================] - 119s 121ms/step - loss: 0.3619 - accuracy: 0.8684 - val_loss: 0.2807 - val_accuracy: 0.9509\n",
      "Epoch 3/40\n",
      "984/985 [============================>.] - ETA: 0s - loss: 0.3405 - accuracy: 0.8776\n",
      "Epoch 00003: val_loss improved from 0.28071 to 0.22777, saving model to CNN_MODEL\\save_at_3.h5\n",
      "985/985 [==============================] - 121s 123ms/step - loss: 0.3405 - accuracy: 0.8775 - val_loss: 0.2278 - val_accuracy: 0.9599\n",
      "Epoch 4/40\n",
      "984/985 [============================>.] - ETA: 0s - loss: 0.3335 - accuracy: 0.8788\n",
      "Epoch 00004: val_loss improved from 0.22777 to 0.21898, saving model to CNN_MODEL\\save_at_4.h5\n",
      "985/985 [==============================] - 119s 121ms/step - loss: 0.3335 - accuracy: 0.8788 - val_loss: 0.2190 - val_accuracy: 0.9520\n",
      "Epoch 5/40\n",
      "984/985 [============================>.] - ETA: 0s - loss: 0.3219 - accuracy: 0.8832\n",
      "Epoch 00005: val_loss did not improve from 0.21898\n",
      "985/985 [==============================] - 120s 122ms/step - loss: 0.3219 - accuracy: 0.8832 - val_loss: 0.3274 - val_accuracy: 0.9130\n",
      "Epoch 6/40\n",
      "984/985 [============================>.] - ETA: 0s - loss: 0.3157 - accuracy: 0.8864\n",
      "Epoch 00006: val_loss improved from 0.21898 to 0.19315, saving model to CNN_MODEL\\save_at_6.h5\n",
      "985/985 [==============================] - 120s 122ms/step - loss: 0.3157 - accuracy: 0.8864 - val_loss: 0.1931 - val_accuracy: 0.9570\n",
      "Epoch 7/40\n",
      "984/985 [============================>.] - ETA: 0s - loss: 0.3090 - accuracy: 0.8852\n",
      "Epoch 00007: val_loss did not improve from 0.19315\n",
      "985/985 [==============================] - 120s 121ms/step - loss: 0.3090 - accuracy: 0.8852 - val_loss: 0.2960 - val_accuracy: 0.9313\n",
      "Epoch 8/40\n",
      "984/985 [============================>.] - ETA: 0s - loss: 0.3078 - accuracy: 0.8871\n",
      "Epoch 00008: val_loss did not improve from 0.19315\n",
      "985/985 [==============================] - 120s 121ms/step - loss: 0.3080 - accuracy: 0.8871 - val_loss: 0.3116 - val_accuracy: 0.9087\n",
      "Epoch 9/40\n",
      "984/985 [============================>.] - ETA: 0s - loss: 0.3070 - accuracy: 0.8873\n",
      "Epoch 00009: val_loss improved from 0.19315 to 0.16080, saving model to CNN_MODEL\\save_at_9.h5\n",
      "985/985 [==============================] - 120s 122ms/step - loss: 0.3070 - accuracy: 0.8873 - val_loss: 0.1608 - val_accuracy: 0.9714\n",
      "Epoch 10/40\n",
      "984/985 [============================>.] - ETA: 0s - loss: 0.2975 - accuracy: 0.8897\n",
      "Epoch 00010: val_loss did not improve from 0.16080\n",
      "985/985 [==============================] - 119s 121ms/step - loss: 0.2976 - accuracy: 0.8897 - val_loss: 0.6244 - val_accuracy: 0.6095\n",
      "Epoch 11/40\n",
      "984/985 [============================>.] - ETA: 0s - loss: 0.3009 - accuracy: 0.8888\n",
      "Epoch 00011: val_loss did not improve from 0.16080\n",
      "985/985 [==============================] - 118s 120ms/step - loss: 0.3008 - accuracy: 0.8888 - val_loss: 0.2447 - val_accuracy: 0.9401\n",
      "Epoch 12/40\n",
      "984/985 [============================>.] - ETA: 0s - loss: 0.2942 - accuracy: 0.8917\n",
      "Epoch 00012: val_loss did not improve from 0.16080\n",
      "985/985 [==============================] - 126s 128ms/step - loss: 0.2942 - accuracy: 0.8917 - val_loss: 0.7579 - val_accuracy: 0.9385\n",
      "Epoch 13/40\n",
      "984/985 [============================>.] - ETA: 0s - loss: 0.2947 - accuracy: 0.8900\n",
      "Epoch 00013: val_loss did not improve from 0.16080\n",
      "985/985 [==============================] - 119s 121ms/step - loss: 0.2947 - accuracy: 0.8900 - val_loss: 1.5228 - val_accuracy: 0.8985\n",
      "Epoch 14/40\n",
      "984/985 [============================>.] - ETA: 0s - loss: 0.2951 - accuracy: 0.8887\n",
      "Epoch 00014: val_loss did not improve from 0.16080\n",
      "985/985 [==============================] - 117s 119ms/step - loss: 0.2950 - accuracy: 0.8887 - val_loss: 0.3596 - val_accuracy: 0.8569\n",
      "Epoch 15/40\n",
      "984/985 [============================>.] - ETA: 0s - loss: 0.2912 - accuracy: 0.8915\n",
      "Epoch 00015: val_loss did not improve from 0.16080\n",
      "985/985 [==============================] - 116s 118ms/step - loss: 0.2912 - accuracy: 0.8916 - val_loss: 0.5027 - val_accuracy: 0.7246\n",
      "Epoch 16/40\n",
      "984/985 [============================>.] - ETA: 0s - loss: 0.2892 - accuracy: 0.8928\n",
      "Epoch 00016: val_loss did not improve from 0.16080\n",
      "985/985 [==============================] - 117s 118ms/step - loss: 0.2892 - accuracy: 0.8928 - val_loss: 3.4950 - val_accuracy: 0.8702\n",
      "Epoch 17/40\n",
      "984/985 [============================>.] - ETA: 0s - loss: 0.2874 - accuracy: 0.8930\n",
      "Epoch 00017: val_loss did not improve from 0.16080\n",
      "985/985 [==============================] - 116s 118ms/step - loss: 0.2874 - accuracy: 0.8930 - val_loss: 0.3501 - val_accuracy: 0.8566\n",
      "Epoch 18/40\n",
      "984/985 [============================>.] - ETA: 0s - loss: 0.2900 - accuracy: 0.8906\n",
      "Epoch 00018: val_loss did not improve from 0.16080\n",
      "985/985 [==============================] - 117s 119ms/step - loss: 0.2901 - accuracy: 0.8905 - val_loss: 0.4360 - val_accuracy: 0.7746\n",
      "Epoch 19/40\n",
      "984/985 [============================>.] - ETA: 0s - loss: 0.2903 - accuracy: 0.8916\n",
      "Epoch 00019: val_loss did not improve from 0.16080\n",
      "985/985 [==============================] - 116s 118ms/step - loss: 0.2903 - accuracy: 0.8917 - val_loss: 0.4938 - val_accuracy: 0.7247\n",
      "Epoch 20/40\n",
      "984/985 [============================>.] - ETA: 0s - loss: 0.3069 - accuracy: 0.8818\n",
      "Epoch 00020: val_loss did not improve from 0.16080\n",
      "985/985 [==============================] - 115s 117ms/step - loss: 0.3070 - accuracy: 0.8817 - val_loss: 0.2965 - val_accuracy: 0.8937\n",
      "Epoch 21/40\n",
      "984/985 [============================>.] - ETA: 0s - loss: 0.3010 - accuracy: 0.8858\n",
      "Epoch 00021: val_loss did not improve from 0.16080\n",
      "985/985 [==============================] - 115s 117ms/step - loss: 0.3009 - accuracy: 0.8858 - val_loss: 0.1815 - val_accuracy: 0.9629\n",
      "Epoch 22/40\n",
      "984/985 [============================>.] - ETA: 0s - loss: 0.3009 - accuracy: 0.8845\n",
      "Epoch 00022: val_loss did not improve from 0.16080\n",
      "985/985 [==============================] - 116s 117ms/step - loss: 0.3008 - accuracy: 0.8845 - val_loss: 0.2601 - val_accuracy: 0.9234\n",
      "Epoch 23/40\n",
      "984/985 [============================>.] - ETA: 0s - loss: 0.2945 - accuracy: 0.8847\n",
      "Epoch 00023: val_loss did not improve from 0.16080\n",
      "985/985 [==============================] - 117s 119ms/step - loss: 0.2945 - accuracy: 0.8847 - val_loss: 0.2616 - val_accuracy: 0.9130\n",
      "Epoch 24/40\n",
      "984/985 [============================>.] - ETA: 0s - loss: 0.2917 - accuracy: 0.8861\n",
      "Epoch 00024: val_loss did not improve from 0.16080\n",
      "985/985 [==============================] - 116s 118ms/step - loss: 0.2918 - accuracy: 0.8861 - val_loss: 0.1753 - val_accuracy: 0.9642\n",
      "Epoch 25/40\n",
      "984/985 [============================>.] - ETA: 0s - loss: 0.2949 - accuracy: 0.8854\n",
      "Epoch 00025: val_loss did not improve from 0.16080\n",
      "985/985 [==============================] - 116s 118ms/step - loss: 0.2949 - accuracy: 0.8855 - val_loss: 0.1844 - val_accuracy: 0.9570\n",
      "Epoch 26/40\n",
      "984/985 [============================>.] - ETA: 0s - loss: 0.2904 - accuracy: 0.8875\n",
      "Epoch 00026: val_loss did not improve from 0.16080\n",
      "985/985 [==============================] - 116s 118ms/step - loss: 0.2904 - accuracy: 0.8875 - val_loss: 0.1853 - val_accuracy: 0.9586\n",
      "Epoch 27/40\n",
      "984/985 [============================>.] - ETA: 0s - loss: 0.2903 - accuracy: 0.8892\n",
      "Epoch 00027: val_loss did not improve from 0.16080\n",
      "985/985 [==============================] - 116s 118ms/step - loss: 0.2903 - accuracy: 0.8892 - val_loss: 0.2114 - val_accuracy: 0.9558\n",
      "Epoch 28/40\n",
      "984/985 [============================>.] - ETA: 0s - loss: 0.2887 - accuracy: 0.8880\n",
      "Epoch 00028: val_loss improved from 0.16080 to 0.15118, saving model to CNN_MODEL\\save_at_28.h5\n",
      "985/985 [==============================] - 116s 118ms/step - loss: 0.2887 - accuracy: 0.8881 - val_loss: 0.1512 - val_accuracy: 0.9691\n",
      "Epoch 29/40\n",
      "984/985 [============================>.] - ETA: 0s - loss: 0.2847 - accuracy: 0.8905\n",
      "Epoch 00029: val_loss did not improve from 0.15118\n",
      "985/985 [==============================] - 116s 118ms/step - loss: 0.2847 - accuracy: 0.8905 - val_loss: 0.1811 - val_accuracy: 0.9623\n",
      "Epoch 30/40\n",
      "984/985 [============================>.] - ETA: 0s - loss: 0.2823 - accuracy: 0.8903\n",
      "Epoch 00030: val_loss did not improve from 0.15118\n",
      "985/985 [==============================] - 116s 117ms/step - loss: 0.2823 - accuracy: 0.8903 - val_loss: 0.2185 - val_accuracy: 0.9559\n",
      "Epoch 31/40\n",
      "984/985 [============================>.] - ETA: 0s - loss: 0.2840 - accuracy: 0.8930\n",
      "Epoch 00031: val_loss did not improve from 0.15118\n",
      "985/985 [==============================] - 120s 122ms/step - loss: 0.2840 - accuracy: 0.8930 - val_loss: 0.1653 - val_accuracy: 0.9648\n",
      "Epoch 32/40\n",
      "984/985 [============================>.] - ETA: 0s - loss: 0.2852 - accuracy: 0.8904\n",
      "Epoch 00032: val_loss did not improve from 0.15118\n",
      "985/985 [==============================] - 121s 123ms/step - loss: 0.2852 - accuracy: 0.8904 - val_loss: 0.1723 - val_accuracy: 0.9633\n",
      "Epoch 33/40\n",
      "984/985 [============================>.] - ETA: 0s - loss: 0.2793 - accuracy: 0.8919\n",
      "Epoch 00033: val_loss did not improve from 0.15118\n",
      "985/985 [==============================] - 121s 123ms/step - loss: 0.2793 - accuracy: 0.8920 - val_loss: 0.1803 - val_accuracy: 0.9596\n",
      "Epoch 34/40\n",
      "984/985 [============================>.] - ETA: 0s - loss: 0.2830 - accuracy: 0.8906\n",
      "Epoch 00034: val_loss did not improve from 0.15118\n",
      "985/985 [==============================] - 122s 123ms/step - loss: 0.2831 - accuracy: 0.8905 - val_loss: 0.1696 - val_accuracy: 0.9638\n",
      "Epoch 35/40\n",
      "984/985 [============================>.] - ETA: 0s - loss: 0.2791 - accuracy: 0.8928\n",
      "Epoch 00035: val_loss did not improve from 0.15118\n",
      "985/985 [==============================] - 122s 124ms/step - loss: 0.2791 - accuracy: 0.8928 - val_loss: 0.1830 - val_accuracy: 0.9608\n",
      "Epoch 36/40\n",
      "984/985 [============================>.] - ETA: 0s - loss: 0.2776 - accuracy: 0.8940\n",
      "Epoch 00036: val_loss did not improve from 0.15118\n",
      "985/985 [==============================] - 120s 122ms/step - loss: 0.2775 - accuracy: 0.8940 - val_loss: 0.1514 - val_accuracy: 0.9693\n",
      "Epoch 37/40\n",
      "984/985 [============================>.] - ETA: 0s - loss: 0.2786 - accuracy: 0.8912\n",
      "Epoch 00037: val_loss did not improve from 0.15118\n",
      "985/985 [==============================] - 124s 126ms/step - loss: 0.2786 - accuracy: 0.8911 - val_loss: 0.1956 - val_accuracy: 0.9545\n",
      "Epoch 38/40\n",
      "984/985 [============================>.] - ETA: 0s - loss: 0.2818 - accuracy: 0.8910\n",
      "Epoch 00038: val_loss did not improve from 0.15118\n",
      "985/985 [==============================] - 123s 125ms/step - loss: 0.2818 - accuracy: 0.8910 - val_loss: 0.1793 - val_accuracy: 0.9648\n",
      "Epoch 39/40\n",
      "984/985 [============================>.] - ETA: 0s - loss: 0.2795 - accuracy: 0.8917\n",
      "Epoch 00039: val_loss did not improve from 0.15118\n",
      "985/985 [==============================] - 121s 123ms/step - loss: 0.2796 - accuracy: 0.8917 - val_loss: 0.1536 - val_accuracy: 0.9717\n",
      "Epoch 40/40\n",
      "984/985 [============================>.] - ETA: 0s - loss: 0.2832 - accuracy: 0.8916\n",
      "Epoch 00040: val_loss did not improve from 0.15118\n",
      "985/985 [==============================] - 123s 124ms/step - loss: 0.2831 - accuracy: 0.8917 - val_loss: 0.1719 - val_accuracy: 0.9641\n"
     ]
    },
    {
     "output_type": "execute_result",
     "data": {
      "text/plain": [
       "<tensorflow.python.keras.callbacks.History at 0x161118ab208>"
      ]
     },
     "metadata": {},
     "execution_count": 9
    }
   ],
   "source": [
    "checkpoint = [keras.callbacks.ModelCheckpoint(filepath=\"CNN_MODEL\\\\save_at_{epoch}.h5\", verbose=1, save_best_only=True), ]\n",
    "#otp = keras.optimizers.\n",
    "model.compile(optimizer=keras.optimizers.SGD(\n",
    "    learning_rate=0.01, momentum=0.9), loss=\"binary_crossentropy\", metrics=[\"accuracy\"], )\n",
    "model.fit(train_ds, epochs=40, callbacks=checkpoint, validation_data=val_ds, batch_size=32)"
   ]
  },
  {
   "cell_type": "code",
   "execution_count": 12,
   "metadata": {},
   "outputs": [
    {
     "output_type": "stream",
     "name": "stdout",
     "text": [
      "INFO:tensorflow:Assets written to: CNN_MODEL\\model\\assets\n"
     ]
    }
   ],
   "source": [
    " model.save(\"CNN_MODEL\\\\model\")"
   ]
  },
  {
   "cell_type": "code",
   "execution_count": null,
   "metadata": {},
   "outputs": [],
   "source": []
  }
 ]
}