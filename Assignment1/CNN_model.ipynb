{
 "metadata": {
  "language_info": {
   "codemirror_mode": {
    "name": "ipython",
    "version": 3
   },
   "file_extension": ".py",
   "mimetype": "text/x-python",
   "name": "python",
   "nbconvert_exporter": "python",
   "pygments_lexer": "ipython3",
   "version": "3.7.9"
  },
  "orig_nbformat": 2,
  "kernelspec": {
   "name": "python379jvsc74a57bd0e07ba5245cc8c83033f91238e854835efe5e5c7687c67e5fd5e0db5ce89b50be",
   "display_name": "Python 3.7.9 64-bit ('ce802': conda)"
  }
 },
 "nbformat": 4,
 "nbformat_minor": 2,
 "cells": [
  {
   "cell_type": "code",
   "execution_count": 10,
   "metadata": {},
   "outputs": [],
   "source": [
    "import tensorflow as tf\n",
    "from tensorflow import keras\n",
    "import PIL\n",
    "from tensorflow.keras import layers\n",
    "import matplotlib.pyplot as plt\n",
    "import numpy as np\n",
    "import json\n",
    "from tensorflow.keras.models import load_model\n",
    "from tensorflow.keras.models import model_from_json\n",
    "from tensorflow.keras.preprocessing import image\n",
    "\n",
    "from tensorflow.keras import Sequential"
   ]
  },
  {
   "cell_type": "code",
   "execution_count": 11,
   "metadata": {},
   "outputs": [
    {
     "output_type": "stream",
     "name": "stdout",
     "text": [
      "Found 39375 files belonging to 2 classes.\nUsing 31500 files for training.\n"
     ]
    }
   ],
   "source": [
    "train_ds = tf.keras.preprocessing.image_dataset_from_directory(\n",
    "        'Fire-vs-NoFire\\\\Training', validation_split=0.2, subset=\"training\",seed=1337,batch_size=32,shuffle=True\n",
    ")"
   ]
  },
  {
   "cell_type": "code",
   "execution_count": 12,
   "metadata": {},
   "outputs": [
    {
     "output_type": "stream",
     "name": "stdout",
     "text": [
      "Found 39375 files belonging to 2 classes.\nUsing 7875 files for validation.\n"
     ]
    }
   ],
   "source": [
    "val_ds = tf.keras.preprocessing.image_dataset_from_directory(\n",
    "        'Fire-vs-NoFire\\\\Training', validation_split=0.2, subset=\"validation\", seed=1337,\n",
    "        batch_size=32, shuffle=True\n",
    "        )"
   ]
  },
  {
   "cell_type": "code",
   "execution_count": 14,
   "metadata": {},
   "outputs": [],
   "source": [
    "image_size = (256,256)"
   ]
  },
  {
   "cell_type": "code",
   "execution_count": 15,
   "metadata": {},
   "outputs": [],
   "source": [
    "def make_model_CNN(input_shape, num_classes):\n",
    "\n",
    "    print(input_shape)\n",
    "   \n",
    "    inputs = keras.Input(shape=input_shape)\n",
    "    \n",
    "    x = inputs  \n",
    "\n",
    "    x = layers.experimental.preprocessing.Rescaling(1.0 / 255)(x)\n",
    "    \n",
    "    x = layers.Conv2D(3, 3, strides=2, padding=\"same\")(x)\n",
    "    x = layers.BatchNormalization()(x)\n",
    "    x = layers.Activation(\"relu\")(x)\n",
    "    x = layers.MaxPooling2D(3, strides=2, padding=\"same\")(x)\n",
    "\n",
    "    x = layers.Conv2D(3, 3, strides=2, padding=\"same\")(x)\n",
    "    x = layers.BatchNormalization()(x)\n",
    "    x = layers.Activation(\"relu\")(x)\n",
    "    x = layers.MaxPooling2D(3, strides=2, padding=\"same\")(x)\n",
    "    \n",
    "    x = layers.Conv2D(3, 3, strides=2, padding=\"same\")(x)\n",
    "    #x = layers.SeparableConv2D(3,3, padding=\"same\")(x)\n",
    "    x = layers.BatchNormalization()(x)\n",
    "    x = layers.Activation(\"relu\")(x)\n",
    "    x = layers.MaxPooling2D(3, strides=2, padding=\"same\")(x)\n",
    "  \n",
    "    x = layers.GlobalAveragePooling2D()(x)\n",
    "    #x = layers.Dense(2,activation='relu')\n",
    "    \n",
    "    if num_classes == 2:\n",
    "        activation = \"sigmoid\"\n",
    "        units = 1\n",
    "    else:\n",
    "        activation = \"softmax\"\n",
    "        units = num_classes\n",
    "    \n",
    "    x = layers.Dropout(0.5)(x)\n",
    "    \n",
    "    outputs = layers.Dense(units, activation=activation)(x)\n",
    "    return keras.Model(inputs, outputs, name=\"model_cnn\")"
   ]
  },
  {
   "cell_type": "code",
   "execution_count": 16,
   "metadata": {},
   "outputs": [
    {
     "output_type": "stream",
     "name": "stdout",
     "text": [
      "(256, 256, 3)\nModel: \"model_cnn\"\n_________________________________________________________________\nLayer (type)                 Output Shape              Param #   \n=================================================================\ninput_2 (InputLayer)         [(None, 256, 256, 3)]     0         \n_________________________________________________________________\nrescaling_1 (Rescaling)      (None, 256, 256, 3)       0         \n_________________________________________________________________\nconv2d_3 (Conv2D)            (None, 128, 128, 3)       84        \n_________________________________________________________________\nbatch_normalization_3 (Batch (None, 128, 128, 3)       12        \n_________________________________________________________________\nactivation_3 (Activation)    (None, 128, 128, 3)       0         \n_________________________________________________________________\nmax_pooling2d_3 (MaxPooling2 (None, 64, 64, 3)         0         \n_________________________________________________________________\nconv2d_4 (Conv2D)            (None, 32, 32, 3)         84        \n_________________________________________________________________\nbatch_normalization_4 (Batch (None, 32, 32, 3)         12        \n_________________________________________________________________\nactivation_4 (Activation)    (None, 32, 32, 3)         0         \n_________________________________________________________________\nmax_pooling2d_4 (MaxPooling2 (None, 16, 16, 3)         0         \n_________________________________________________________________\nconv2d_5 (Conv2D)            (None, 8, 8, 3)           84        \n_________________________________________________________________\nbatch_normalization_5 (Batch (None, 8, 8, 3)           12        \n_________________________________________________________________\nactivation_5 (Activation)    (None, 8, 8, 3)           0         \n_________________________________________________________________\nmax_pooling2d_5 (MaxPooling2 (None, 4, 4, 3)           0         \n_________________________________________________________________\nglobal_average_pooling2d_1 ( (None, 3)                 0         \n_________________________________________________________________\ndropout_1 (Dropout)          (None, 3)                 0         \n_________________________________________________________________\ndense_1 (Dense)              (None, 1)                 4         \n=================================================================\nTotal params: 292\nTrainable params: 274\nNon-trainable params: 18\n_________________________________________________________________\n"
     ]
    }
   ],
   "source": [
    "train_ds = train_ds.prefetch(buffer_size=32)\n",
    "val_ds = val_ds.prefetch(buffer_size=32)\n",
    "\n",
    "model = make_model_CNN(input_shape=image_size + (3,), num_classes=2)\n",
    "#model.summary\n",
    "model.summary()\n",
    "#keras.utils.plot_model(model, show_shapes=True)"
   ]
  },
  {
   "cell_type": "code",
   "execution_count": 18,
   "metadata": {},
   "outputs": [
    {
     "output_type": "stream",
     "name": "stdout",
     "text": [
      "Epoch 1/40\n",
      "984/985 [============================>.] - ETA: 0s - loss: 0.3664 - accuracy: 0.8706\n",
      "Epoch 00001: val_loss improved from inf to 0.18614, saving model to CNN_MODEL\\save_at_1.h5\n",
      "985/985 [==============================] - 287s 292ms/step - loss: 0.3663 - accuracy: 0.8707 - val_loss: 0.1861 - val_accuracy: 0.9683\n",
      "Epoch 2/40\n",
      "984/985 [============================>.] - ETA: 0s - loss: 0.3093 - accuracy: 0.8885\n",
      "Epoch 00002: val_loss did not improve from 0.18614\n",
      "985/985 [==============================] - 118s 120ms/step - loss: 0.3094 - accuracy: 0.8884 - val_loss: 0.3710 - val_accuracy: 0.8790\n",
      "Epoch 3/40\n",
      "984/985 [============================>.] - ETA: 0s - loss: 0.2989 - accuracy: 0.8913\n",
      "Epoch 00003: val_loss did not improve from 0.18614\n",
      "985/985 [==============================] - 118s 120ms/step - loss: 0.2990 - accuracy: 0.8912 - val_loss: 0.4553 - val_accuracy: 0.8042\n",
      "Epoch 4/40\n",
      "985/985 [==============================] - ETA: 0s - loss: 0.3018 - accuracy: 0.8891\n",
      "Epoch 00004: val_loss did not improve from 0.18614\n",
      "985/985 [==============================] - 118s 120ms/step - loss: 0.3018 - accuracy: 0.8891 - val_loss: 1.0098 - val_accuracy: 0.3657\n",
      "Epoch 5/40\n",
      "984/985 [============================>.] - ETA: 0s - loss: 0.2942 - accuracy: 0.8905\n",
      "Epoch 00005: val_loss improved from 0.18614 to 0.17025, saving model to CNN_MODEL\\save_at_5.h5\n",
      "985/985 [==============================] - 121s 122ms/step - loss: 0.2941 - accuracy: 0.8905 - val_loss: 0.1703 - val_accuracy: 0.9719\n",
      "Epoch 6/40\n",
      "984/985 [============================>.] - ETA: 0s - loss: 0.2951 - accuracy: 0.8921\n",
      "Epoch 00006: val_loss did not improve from 0.17025\n",
      "985/985 [==============================] - 117s 119ms/step - loss: 0.2953 - accuracy: 0.8921 - val_loss: 0.2353 - val_accuracy: 0.9432\n",
      "Epoch 7/40\n",
      "984/985 [============================>.] - ETA: 0s - loss: 0.2963 - accuracy: 0.8916\n",
      "Epoch 00007: val_loss improved from 0.17025 to 0.15872, saving model to CNN_MODEL\\save_at_7.h5\n",
      "985/985 [==============================] - 118s 120ms/step - loss: 0.2962 - accuracy: 0.8917 - val_loss: 0.1587 - val_accuracy: 0.9755\n",
      "Epoch 8/40\n",
      "984/985 [============================>.] - ETA: 0s - loss: 0.2934 - accuracy: 0.8920\n",
      "Epoch 00008: val_loss did not improve from 0.15872\n",
      "985/985 [==============================] - 115s 117ms/step - loss: 0.2934 - accuracy: 0.8919 - val_loss: 0.1889 - val_accuracy: 0.9568\n",
      "Epoch 9/40\n",
      "984/985 [============================>.] - ETA: 0s - loss: 0.2900 - accuracy: 0.8930\n",
      "Epoch 00009: val_loss improved from 0.15872 to 0.15262, saving model to CNN_MODEL\\save_at_9.h5\n",
      "985/985 [==============================] - 116s 118ms/step - loss: 0.2899 - accuracy: 0.8930 - val_loss: 0.1526 - val_accuracy: 0.9722\n",
      "Epoch 10/40\n",
      "984/985 [============================>.] - ETA: 0s - loss: 0.2888 - accuracy: 0.8922\n",
      "Epoch 00010: val_loss did not improve from 0.15262\n",
      "985/985 [==============================] - 116s 118ms/step - loss: 0.2888 - accuracy: 0.8923 - val_loss: 0.1942 - val_accuracy: 0.9630\n",
      "Epoch 11/40\n",
      "984/985 [============================>.] - ETA: 0s - loss: 0.2907 - accuracy: 0.8903\n",
      "Epoch 00011: val_loss did not improve from 0.15262\n",
      "985/985 [==============================] - 116s 118ms/step - loss: 0.2906 - accuracy: 0.8904 - val_loss: 0.1942 - val_accuracy: 0.9566\n",
      "Epoch 12/40\n",
      "984/985 [============================>.] - ETA: 0s - loss: 0.2834 - accuracy: 0.8928\n",
      "Epoch 00012: val_loss did not improve from 0.15262\n",
      "985/985 [==============================] - 126s 127ms/step - loss: 0.2834 - accuracy: 0.8928 - val_loss: 0.1531 - val_accuracy: 0.9737\n",
      "Epoch 13/40\n",
      "984/985 [============================>.] - ETA: 0s - loss: 0.2894 - accuracy: 0.8905\n",
      "Epoch 00013: val_loss did not improve from 0.15262\n",
      "985/985 [==============================] - 118s 120ms/step - loss: 0.2894 - accuracy: 0.8905 - val_loss: 0.1589 - val_accuracy: 0.9717\n",
      "Epoch 14/40\n",
      "984/985 [============================>.] - ETA: 0s - loss: 0.2892 - accuracy: 0.8903\n",
      "Epoch 00014: val_loss did not improve from 0.15262\n",
      "985/985 [==============================] - 117s 118ms/step - loss: 0.2893 - accuracy: 0.8903 - val_loss: 0.4563 - val_accuracy: 0.7743\n",
      "Epoch 15/40\n",
      "984/985 [============================>.] - ETA: 0s - loss: 0.2843 - accuracy: 0.8931\n",
      "Epoch 00015: val_loss did not improve from 0.15262\n",
      "985/985 [==============================] - 116s 118ms/step - loss: 0.2843 - accuracy: 0.8931 - val_loss: 0.1915 - val_accuracy: 0.9562\n",
      "Epoch 16/40\n",
      "984/985 [============================>.] - ETA: 0s - loss: 0.2844 - accuracy: 0.8928\n",
      "Epoch 00016: val_loss did not improve from 0.15262\n",
      "985/985 [==============================] - 121s 123ms/step - loss: 0.2844 - accuracy: 0.8928 - val_loss: 0.1567 - val_accuracy: 0.9691\n",
      "Epoch 17/40\n",
      "984/985 [============================>.] - ETA: 0s - loss: 0.2857 - accuracy: 0.8920\n",
      "Epoch 00017: val_loss did not improve from 0.15262\n",
      "985/985 [==============================] - 116s 118ms/step - loss: 0.2857 - accuracy: 0.8920 - val_loss: 0.2354 - val_accuracy: 0.9324\n",
      "Epoch 18/40\n",
      "984/985 [============================>.] - ETA: 0s - loss: 0.2756 - accuracy: 0.8972\n",
      "Epoch 00018: val_loss did not improve from 0.15262\n",
      "985/985 [==============================] - 115s 116ms/step - loss: 0.2755 - accuracy: 0.8972 - val_loss: 0.1560 - val_accuracy: 0.9683\n",
      "Epoch 19/40\n",
      "984/985 [============================>.] - ETA: 0s - loss: 0.2855 - accuracy: 0.8914\n",
      "Epoch 00019: val_loss did not improve from 0.15262\n",
      "985/985 [==============================] - 116s 118ms/step - loss: 0.2855 - accuracy: 0.8914 - val_loss: 0.2011 - val_accuracy: 0.9517\n",
      "Epoch 20/40\n",
      "984/985 [============================>.] - ETA: 0s - loss: 0.2825 - accuracy: 0.8926\n",
      "Epoch 00020: val_loss improved from 0.15262 to 0.15179, saving model to CNN_MODEL\\save_at_20.h5\n",
      "985/985 [==============================] - 116s 118ms/step - loss: 0.2824 - accuracy: 0.8926 - val_loss: 0.1518 - val_accuracy: 0.9751\n",
      "Epoch 21/40\n",
      "984/985 [============================>.] - ETA: 0s - loss: 0.2792 - accuracy: 0.8957\n",
      "Epoch 00021: val_loss did not improve from 0.15179\n",
      "985/985 [==============================] - 117s 119ms/step - loss: 0.2792 - accuracy: 0.8957 - val_loss: 0.3266 - val_accuracy: 0.8649\n",
      "Epoch 22/40\n",
      "984/985 [============================>.] - ETA: 0s - loss: 0.2867 - accuracy: 0.8920\n",
      "Epoch 00022: val_loss improved from 0.15179 to 0.14556, saving model to CNN_MODEL\\save_at_22.h5\n",
      "985/985 [==============================] - 117s 119ms/step - loss: 0.2867 - accuracy: 0.8920 - val_loss: 0.1456 - val_accuracy: 0.9740\n",
      "Epoch 23/40\n",
      "984/985 [============================>.] - ETA: 0s - loss: 0.2838 - accuracy: 0.8933\n",
      "Epoch 00023: val_loss did not improve from 0.14556\n",
      "985/985 [==============================] - 117s 119ms/step - loss: 0.2838 - accuracy: 0.8933 - val_loss: 0.2809 - val_accuracy: 0.9063\n",
      "Epoch 24/40\n",
      "984/985 [============================>.] - ETA: 0s - loss: 0.2824 - accuracy: 0.8932\n",
      "Epoch 00024: val_loss did not improve from 0.14556\n",
      "985/985 [==============================] - 117s 119ms/step - loss: 0.2824 - accuracy: 0.8933 - val_loss: 0.1532 - val_accuracy: 0.9691\n",
      "Epoch 25/40\n",
      "984/985 [============================>.] - ETA: 0s - loss: 0.2778 - accuracy: 0.8938\n",
      "Epoch 00025: val_loss did not improve from 0.14556\n",
      "985/985 [==============================] - 114s 116ms/step - loss: 0.2778 - accuracy: 0.8938 - val_loss: 0.3225 - val_accuracy: 0.8759\n",
      "Epoch 26/40\n",
      "984/985 [============================>.] - ETA: 0s - loss: 0.2773 - accuracy: 0.8949\n",
      "Epoch 00026: val_loss did not improve from 0.14556\n",
      "985/985 [==============================] - 116s 117ms/step - loss: 0.2774 - accuracy: 0.8949 - val_loss: 0.1672 - val_accuracy: 0.9638\n",
      "Epoch 27/40\n",
      "984/985 [============================>.] - ETA: 0s - loss: 0.2796 - accuracy: 0.8955\n",
      "Epoch 00027: val_loss improved from 0.14556 to 0.14383, saving model to CNN_MODEL\\save_at_27.h5\n",
      "985/985 [==============================] - 115s 117ms/step - loss: 0.2797 - accuracy: 0.8955 - val_loss: 0.1438 - val_accuracy: 0.9745\n",
      "Epoch 28/40\n",
      "984/985 [============================>.] - ETA: 0s - loss: 0.2739 - accuracy: 0.8966\n",
      "Epoch 00028: val_loss did not improve from 0.14383\n",
      "985/985 [==============================] - 114s 116ms/step - loss: 0.2739 - accuracy: 0.8966 - val_loss: 0.1451 - val_accuracy: 0.9713\n",
      "Epoch 29/40\n",
      "984/985 [============================>.] - ETA: 0s - loss: 0.2794 - accuracy: 0.8943\n",
      "Epoch 00029: val_loss did not improve from 0.14383\n",
      "985/985 [==============================] - 115s 116ms/step - loss: 0.2795 - accuracy: 0.8943 - val_loss: 0.1464 - val_accuracy: 0.9754\n",
      "Epoch 30/40\n",
      "984/985 [============================>.] - ETA: 0s - loss: 0.2778 - accuracy: 0.8943\n",
      "Epoch 00030: val_loss did not improve from 0.14383\n",
      "985/985 [==============================] - 116s 117ms/step - loss: 0.2777 - accuracy: 0.8943 - val_loss: 0.2200 - val_accuracy: 0.9415\n",
      "Epoch 31/40\n",
      "984/985 [============================>.] - ETA: 0s - loss: 0.2750 - accuracy: 0.8960\n",
      "Epoch 00031: val_loss did not improve from 0.14383\n",
      "985/985 [==============================] - 115s 116ms/step - loss: 0.2751 - accuracy: 0.8959 - val_loss: 0.1983 - val_accuracy: 0.9493\n",
      "Epoch 32/40\n",
      "984/985 [============================>.] - ETA: 0s - loss: 0.2748 - accuracy: 0.8962\n",
      "Epoch 00032: val_loss did not improve from 0.14383\n",
      "985/985 [==============================] - 115s 117ms/step - loss: 0.2748 - accuracy: 0.8963 - val_loss: 0.1934 - val_accuracy: 0.9524\n",
      "Epoch 33/40\n",
      "880/985 [=========================>....] - ETA: 10s - loss: 0.2810 - accuracy: 0.8937"
     ]
    },
    {
     "output_type": "error",
     "ename": "ResourceExhaustedError",
     "evalue": " OOM when allocating tensor with shape[3931,64,27] and type float on /job:localhost/replica:0/task:0/device:CPU:0 by allocator cpu\n\t [[node gradient_tape/model_cnn/conv2d_5/Conv2D/Conv2DBackpropInput (defined at <ipython-input-18-f4152f2c3291>:5) ]]\nHint: If you want to see a list of allocated tensors when OOM happens, add report_tensor_allocations_upon_oom to RunOptions for current allocation info.\n [Op:__inference_train_function_4218]\n\nFunction call stack:\ntrain_function\n",
     "traceback": [
      "\u001b[1;31m---------------------------------------------------------------------------\u001b[0m",
      "\u001b[1;31mResourceExhaustedError\u001b[0m                    Traceback (most recent call last)",
      "\u001b[1;32m<ipython-input-18-f4152f2c3291>\u001b[0m in \u001b[0;36m<module>\u001b[1;34m\u001b[0m\n\u001b[0;32m      3\u001b[0m model.compile(optimizer=keras.optimizers.SGD(\n\u001b[0;32m      4\u001b[0m     learning_rate=0.01, momentum=0.9), loss=\"binary_crossentropy\", metrics=[\"accuracy\"], )\n\u001b[1;32m----> 5\u001b[1;33m \u001b[0mmodel\u001b[0m\u001b[1;33m.\u001b[0m\u001b[0mfit\u001b[0m\u001b[1;33m(\u001b[0m\u001b[0mtrain_ds\u001b[0m\u001b[1;33m,\u001b[0m \u001b[0mepochs\u001b[0m\u001b[1;33m=\u001b[0m\u001b[1;36m40\u001b[0m\u001b[1;33m,\u001b[0m \u001b[0mcallbacks\u001b[0m\u001b[1;33m=\u001b[0m\u001b[0mcheckpoint\u001b[0m\u001b[1;33m,\u001b[0m \u001b[0mvalidation_data\u001b[0m\u001b[1;33m=\u001b[0m\u001b[0mval_ds\u001b[0m\u001b[1;33m,\u001b[0m \u001b[0mbatch_size\u001b[0m\u001b[1;33m=\u001b[0m\u001b[1;36m32\u001b[0m\u001b[1;33m)\u001b[0m\u001b[1;33m\u001b[0m\u001b[1;33m\u001b[0m\u001b[0m\n\u001b[0m",
      "\u001b[1;32m~\\anaconda3\\envs\\ce802\\lib\\site-packages\\tensorflow\\python\\keras\\engine\\training.py\u001b[0m in \u001b[0;36m_method_wrapper\u001b[1;34m(self, *args, **kwargs)\u001b[0m\n\u001b[0;32m    106\u001b[0m   \u001b[1;32mdef\u001b[0m \u001b[0m_method_wrapper\u001b[0m\u001b[1;33m(\u001b[0m\u001b[0mself\u001b[0m\u001b[1;33m,\u001b[0m \u001b[1;33m*\u001b[0m\u001b[0margs\u001b[0m\u001b[1;33m,\u001b[0m \u001b[1;33m**\u001b[0m\u001b[0mkwargs\u001b[0m\u001b[1;33m)\u001b[0m\u001b[1;33m:\u001b[0m\u001b[1;33m\u001b[0m\u001b[1;33m\u001b[0m\u001b[0m\n\u001b[0;32m    107\u001b[0m     \u001b[1;32mif\u001b[0m \u001b[1;32mnot\u001b[0m \u001b[0mself\u001b[0m\u001b[1;33m.\u001b[0m\u001b[0m_in_multi_worker_mode\u001b[0m\u001b[1;33m(\u001b[0m\u001b[1;33m)\u001b[0m\u001b[1;33m:\u001b[0m  \u001b[1;31m# pylint: disable=protected-access\u001b[0m\u001b[1;33m\u001b[0m\u001b[1;33m\u001b[0m\u001b[0m\n\u001b[1;32m--> 108\u001b[1;33m       \u001b[1;32mreturn\u001b[0m \u001b[0mmethod\u001b[0m\u001b[1;33m(\u001b[0m\u001b[0mself\u001b[0m\u001b[1;33m,\u001b[0m \u001b[1;33m*\u001b[0m\u001b[0margs\u001b[0m\u001b[1;33m,\u001b[0m \u001b[1;33m**\u001b[0m\u001b[0mkwargs\u001b[0m\u001b[1;33m)\u001b[0m\u001b[1;33m\u001b[0m\u001b[1;33m\u001b[0m\u001b[0m\n\u001b[0m\u001b[0;32m    109\u001b[0m \u001b[1;33m\u001b[0m\u001b[0m\n\u001b[0;32m    110\u001b[0m     \u001b[1;31m# Running inside `run_distribute_coordinator` already.\u001b[0m\u001b[1;33m\u001b[0m\u001b[1;33m\u001b[0m\u001b[1;33m\u001b[0m\u001b[0m\n",
      "\u001b[1;32m~\\anaconda3\\envs\\ce802\\lib\\site-packages\\tensorflow\\python\\keras\\engine\\training.py\u001b[0m in \u001b[0;36mfit\u001b[1;34m(self, x, y, batch_size, epochs, verbose, callbacks, validation_split, validation_data, shuffle, class_weight, sample_weight, initial_epoch, steps_per_epoch, validation_steps, validation_batch_size, validation_freq, max_queue_size, workers, use_multiprocessing)\u001b[0m\n\u001b[0;32m   1096\u001b[0m                 batch_size=batch_size):\n\u001b[0;32m   1097\u001b[0m               \u001b[0mcallbacks\u001b[0m\u001b[1;33m.\u001b[0m\u001b[0mon_train_batch_begin\u001b[0m\u001b[1;33m(\u001b[0m\u001b[0mstep\u001b[0m\u001b[1;33m)\u001b[0m\u001b[1;33m\u001b[0m\u001b[1;33m\u001b[0m\u001b[0m\n\u001b[1;32m-> 1098\u001b[1;33m               \u001b[0mtmp_logs\u001b[0m \u001b[1;33m=\u001b[0m \u001b[0mtrain_function\u001b[0m\u001b[1;33m(\u001b[0m\u001b[0miterator\u001b[0m\u001b[1;33m)\u001b[0m\u001b[1;33m\u001b[0m\u001b[1;33m\u001b[0m\u001b[0m\n\u001b[0m\u001b[0;32m   1099\u001b[0m               \u001b[1;32mif\u001b[0m \u001b[0mdata_handler\u001b[0m\u001b[1;33m.\u001b[0m\u001b[0mshould_sync\u001b[0m\u001b[1;33m:\u001b[0m\u001b[1;33m\u001b[0m\u001b[1;33m\u001b[0m\u001b[0m\n\u001b[0;32m   1100\u001b[0m                 \u001b[0mcontext\u001b[0m\u001b[1;33m.\u001b[0m\u001b[0masync_wait\u001b[0m\u001b[1;33m(\u001b[0m\u001b[1;33m)\u001b[0m\u001b[1;33m\u001b[0m\u001b[1;33m\u001b[0m\u001b[0m\n",
      "\u001b[1;32m~\\anaconda3\\envs\\ce802\\lib\\site-packages\\tensorflow\\python\\eager\\def_function.py\u001b[0m in \u001b[0;36m__call__\u001b[1;34m(self, *args, **kwds)\u001b[0m\n\u001b[0;32m    778\u001b[0m       \u001b[1;32melse\u001b[0m\u001b[1;33m:\u001b[0m\u001b[1;33m\u001b[0m\u001b[1;33m\u001b[0m\u001b[0m\n\u001b[0;32m    779\u001b[0m         \u001b[0mcompiler\u001b[0m \u001b[1;33m=\u001b[0m \u001b[1;34m\"nonXla\"\u001b[0m\u001b[1;33m\u001b[0m\u001b[1;33m\u001b[0m\u001b[0m\n\u001b[1;32m--> 780\u001b[1;33m         \u001b[0mresult\u001b[0m \u001b[1;33m=\u001b[0m \u001b[0mself\u001b[0m\u001b[1;33m.\u001b[0m\u001b[0m_call\u001b[0m\u001b[1;33m(\u001b[0m\u001b[1;33m*\u001b[0m\u001b[0margs\u001b[0m\u001b[1;33m,\u001b[0m \u001b[1;33m**\u001b[0m\u001b[0mkwds\u001b[0m\u001b[1;33m)\u001b[0m\u001b[1;33m\u001b[0m\u001b[1;33m\u001b[0m\u001b[0m\n\u001b[0m\u001b[0;32m    781\u001b[0m \u001b[1;33m\u001b[0m\u001b[0m\n\u001b[0;32m    782\u001b[0m       \u001b[0mnew_tracing_count\u001b[0m \u001b[1;33m=\u001b[0m \u001b[0mself\u001b[0m\u001b[1;33m.\u001b[0m\u001b[0m_get_tracing_count\u001b[0m\u001b[1;33m(\u001b[0m\u001b[1;33m)\u001b[0m\u001b[1;33m\u001b[0m\u001b[1;33m\u001b[0m\u001b[0m\n",
      "\u001b[1;32m~\\anaconda3\\envs\\ce802\\lib\\site-packages\\tensorflow\\python\\eager\\def_function.py\u001b[0m in \u001b[0;36m_call\u001b[1;34m(self, *args, **kwds)\u001b[0m\n\u001b[0;32m    805\u001b[0m       \u001b[1;31m# In this case we have created variables on the first call, so we run the\u001b[0m\u001b[1;33m\u001b[0m\u001b[1;33m\u001b[0m\u001b[1;33m\u001b[0m\u001b[0m\n\u001b[0;32m    806\u001b[0m       \u001b[1;31m# defunned version which is guaranteed to never create variables.\u001b[0m\u001b[1;33m\u001b[0m\u001b[1;33m\u001b[0m\u001b[1;33m\u001b[0m\u001b[0m\n\u001b[1;32m--> 807\u001b[1;33m       \u001b[1;32mreturn\u001b[0m \u001b[0mself\u001b[0m\u001b[1;33m.\u001b[0m\u001b[0m_stateless_fn\u001b[0m\u001b[1;33m(\u001b[0m\u001b[1;33m*\u001b[0m\u001b[0margs\u001b[0m\u001b[1;33m,\u001b[0m \u001b[1;33m**\u001b[0m\u001b[0mkwds\u001b[0m\u001b[1;33m)\u001b[0m  \u001b[1;31m# pylint: disable=not-callable\u001b[0m\u001b[1;33m\u001b[0m\u001b[1;33m\u001b[0m\u001b[0m\n\u001b[0m\u001b[0;32m    808\u001b[0m     \u001b[1;32melif\u001b[0m \u001b[0mself\u001b[0m\u001b[1;33m.\u001b[0m\u001b[0m_stateful_fn\u001b[0m \u001b[1;32mis\u001b[0m \u001b[1;32mnot\u001b[0m \u001b[1;32mNone\u001b[0m\u001b[1;33m:\u001b[0m\u001b[1;33m\u001b[0m\u001b[1;33m\u001b[0m\u001b[0m\n\u001b[0;32m    809\u001b[0m       \u001b[1;31m# Release the lock early so that multiple threads can perform the call\u001b[0m\u001b[1;33m\u001b[0m\u001b[1;33m\u001b[0m\u001b[1;33m\u001b[0m\u001b[0m\n",
      "\u001b[1;32m~\\anaconda3\\envs\\ce802\\lib\\site-packages\\tensorflow\\python\\eager\\function.py\u001b[0m in \u001b[0;36m__call__\u001b[1;34m(self, *args, **kwargs)\u001b[0m\n\u001b[0;32m   2827\u001b[0m     \u001b[1;32mwith\u001b[0m \u001b[0mself\u001b[0m\u001b[1;33m.\u001b[0m\u001b[0m_lock\u001b[0m\u001b[1;33m:\u001b[0m\u001b[1;33m\u001b[0m\u001b[1;33m\u001b[0m\u001b[0m\n\u001b[0;32m   2828\u001b[0m       \u001b[0mgraph_function\u001b[0m\u001b[1;33m,\u001b[0m \u001b[0margs\u001b[0m\u001b[1;33m,\u001b[0m \u001b[0mkwargs\u001b[0m \u001b[1;33m=\u001b[0m \u001b[0mself\u001b[0m\u001b[1;33m.\u001b[0m\u001b[0m_maybe_define_function\u001b[0m\u001b[1;33m(\u001b[0m\u001b[0margs\u001b[0m\u001b[1;33m,\u001b[0m \u001b[0mkwargs\u001b[0m\u001b[1;33m)\u001b[0m\u001b[1;33m\u001b[0m\u001b[1;33m\u001b[0m\u001b[0m\n\u001b[1;32m-> 2829\u001b[1;33m     \u001b[1;32mreturn\u001b[0m \u001b[0mgraph_function\u001b[0m\u001b[1;33m.\u001b[0m\u001b[0m_filtered_call\u001b[0m\u001b[1;33m(\u001b[0m\u001b[0margs\u001b[0m\u001b[1;33m,\u001b[0m \u001b[0mkwargs\u001b[0m\u001b[1;33m)\u001b[0m  \u001b[1;31m# pylint: disable=protected-access\u001b[0m\u001b[1;33m\u001b[0m\u001b[1;33m\u001b[0m\u001b[0m\n\u001b[0m\u001b[0;32m   2830\u001b[0m \u001b[1;33m\u001b[0m\u001b[0m\n\u001b[0;32m   2831\u001b[0m   \u001b[1;33m@\u001b[0m\u001b[0mproperty\u001b[0m\u001b[1;33m\u001b[0m\u001b[1;33m\u001b[0m\u001b[0m\n",
      "\u001b[1;32m~\\anaconda3\\envs\\ce802\\lib\\site-packages\\tensorflow\\python\\eager\\function.py\u001b[0m in \u001b[0;36m_filtered_call\u001b[1;34m(self, args, kwargs, cancellation_manager)\u001b[0m\n\u001b[0;32m   1846\u001b[0m                            resource_variable_ops.BaseResourceVariable))],\n\u001b[0;32m   1847\u001b[0m         \u001b[0mcaptured_inputs\u001b[0m\u001b[1;33m=\u001b[0m\u001b[0mself\u001b[0m\u001b[1;33m.\u001b[0m\u001b[0mcaptured_inputs\u001b[0m\u001b[1;33m,\u001b[0m\u001b[1;33m\u001b[0m\u001b[1;33m\u001b[0m\u001b[0m\n\u001b[1;32m-> 1848\u001b[1;33m         cancellation_manager=cancellation_manager)\n\u001b[0m\u001b[0;32m   1849\u001b[0m \u001b[1;33m\u001b[0m\u001b[0m\n\u001b[0;32m   1850\u001b[0m   \u001b[1;32mdef\u001b[0m \u001b[0m_call_flat\u001b[0m\u001b[1;33m(\u001b[0m\u001b[0mself\u001b[0m\u001b[1;33m,\u001b[0m \u001b[0margs\u001b[0m\u001b[1;33m,\u001b[0m \u001b[0mcaptured_inputs\u001b[0m\u001b[1;33m,\u001b[0m \u001b[0mcancellation_manager\u001b[0m\u001b[1;33m=\u001b[0m\u001b[1;32mNone\u001b[0m\u001b[1;33m)\u001b[0m\u001b[1;33m:\u001b[0m\u001b[1;33m\u001b[0m\u001b[1;33m\u001b[0m\u001b[0m\n",
      "\u001b[1;32m~\\anaconda3\\envs\\ce802\\lib\\site-packages\\tensorflow\\python\\eager\\function.py\u001b[0m in \u001b[0;36m_call_flat\u001b[1;34m(self, args, captured_inputs, cancellation_manager)\u001b[0m\n\u001b[0;32m   1922\u001b[0m       \u001b[1;31m# No tape is watching; skip to running the function.\u001b[0m\u001b[1;33m\u001b[0m\u001b[1;33m\u001b[0m\u001b[1;33m\u001b[0m\u001b[0m\n\u001b[0;32m   1923\u001b[0m       return self._build_call_outputs(self._inference_function.call(\n\u001b[1;32m-> 1924\u001b[1;33m           ctx, args, cancellation_manager=cancellation_manager))\n\u001b[0m\u001b[0;32m   1925\u001b[0m     forward_backward = self._select_forward_and_backward_functions(\n\u001b[0;32m   1926\u001b[0m         \u001b[0margs\u001b[0m\u001b[1;33m,\u001b[0m\u001b[1;33m\u001b[0m\u001b[1;33m\u001b[0m\u001b[0m\n",
      "\u001b[1;32m~\\anaconda3\\envs\\ce802\\lib\\site-packages\\tensorflow\\python\\eager\\function.py\u001b[0m in \u001b[0;36mcall\u001b[1;34m(self, ctx, args, cancellation_manager)\u001b[0m\n\u001b[0;32m    548\u001b[0m               \u001b[0minputs\u001b[0m\u001b[1;33m=\u001b[0m\u001b[0margs\u001b[0m\u001b[1;33m,\u001b[0m\u001b[1;33m\u001b[0m\u001b[1;33m\u001b[0m\u001b[0m\n\u001b[0;32m    549\u001b[0m               \u001b[0mattrs\u001b[0m\u001b[1;33m=\u001b[0m\u001b[0mattrs\u001b[0m\u001b[1;33m,\u001b[0m\u001b[1;33m\u001b[0m\u001b[1;33m\u001b[0m\u001b[0m\n\u001b[1;32m--> 550\u001b[1;33m               ctx=ctx)\n\u001b[0m\u001b[0;32m    551\u001b[0m         \u001b[1;32melse\u001b[0m\u001b[1;33m:\u001b[0m\u001b[1;33m\u001b[0m\u001b[1;33m\u001b[0m\u001b[0m\n\u001b[0;32m    552\u001b[0m           outputs = execute.execute_with_cancellation(\n",
      "\u001b[1;32m~\\anaconda3\\envs\\ce802\\lib\\site-packages\\tensorflow\\python\\eager\\execute.py\u001b[0m in \u001b[0;36mquick_execute\u001b[1;34m(op_name, num_outputs, inputs, attrs, ctx, name)\u001b[0m\n\u001b[0;32m     58\u001b[0m     \u001b[0mctx\u001b[0m\u001b[1;33m.\u001b[0m\u001b[0mensure_initialized\u001b[0m\u001b[1;33m(\u001b[0m\u001b[1;33m)\u001b[0m\u001b[1;33m\u001b[0m\u001b[1;33m\u001b[0m\u001b[0m\n\u001b[0;32m     59\u001b[0m     tensors = pywrap_tfe.TFE_Py_Execute(ctx._handle, device_name, op_name,\n\u001b[1;32m---> 60\u001b[1;33m                                         inputs, attrs, num_outputs)\n\u001b[0m\u001b[0;32m     61\u001b[0m   \u001b[1;32mexcept\u001b[0m \u001b[0mcore\u001b[0m\u001b[1;33m.\u001b[0m\u001b[0m_NotOkStatusException\u001b[0m \u001b[1;32mas\u001b[0m \u001b[0me\u001b[0m\u001b[1;33m:\u001b[0m\u001b[1;33m\u001b[0m\u001b[1;33m\u001b[0m\u001b[0m\n\u001b[0;32m     62\u001b[0m     \u001b[1;32mif\u001b[0m \u001b[0mname\u001b[0m \u001b[1;32mis\u001b[0m \u001b[1;32mnot\u001b[0m \u001b[1;32mNone\u001b[0m\u001b[1;33m:\u001b[0m\u001b[1;33m\u001b[0m\u001b[1;33m\u001b[0m\u001b[0m\n",
      "\u001b[1;31mResourceExhaustedError\u001b[0m:  OOM when allocating tensor with shape[3931,64,27] and type float on /job:localhost/replica:0/task:0/device:CPU:0 by allocator cpu\n\t [[node gradient_tape/model_cnn/conv2d_5/Conv2D/Conv2DBackpropInput (defined at <ipython-input-18-f4152f2c3291>:5) ]]\nHint: If you want to see a list of allocated tensors when OOM happens, add report_tensor_allocations_upon_oom to RunOptions for current allocation info.\n [Op:__inference_train_function_4218]\n\nFunction call stack:\ntrain_function\n"
     ]
    }
   ],
   "source": [
    "checkpoint = [keras.callbacks.ModelCheckpoint(filepath=\"CNN_MODEL\\\\save_at_{epoch}.h5\", verbose=1, save_best_only=True), ]\n",
    "#otp = keras.optimizers.\n",
    "model.compile(optimizer=keras.optimizers.SGD(\n",
    "    learning_rate=0.01, momentum=0.9), loss=\"binary_crossentropy\", metrics=[\"accuracy\"], )\n",
    "model.fit(train_ds, epochs=40, callbacks=checkpoint, validation_data=val_ds, batch_size=32)"
   ]
  },
  {
   "cell_type": "code",
   "execution_count": null,
   "metadata": {},
   "outputs": [],
   "source": [
    " model.save('CNN_MODEL\\\\model')"
   ]
  }
 ]
}