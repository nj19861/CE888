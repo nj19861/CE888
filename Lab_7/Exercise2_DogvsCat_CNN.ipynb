{
  "nbformat": 4,
  "nbformat_minor": 0,
  "metadata": {
    "colab": {
      "name": "Exercise2_DogvsCat_CNN.ipynb",
      "provenance": [],
      "include_colab_link": true
    },
    "kernelspec": {
      "name": "python3",
      "display_name": "Python 3"
    },
    "accelerator": "GPU"
  },
  "cells": [
    {
      "cell_type": "markdown",
      "metadata": {
        "id": "view-in-github",
        "colab_type": "text"
      },
      "source": [
        "<a href=\"https://colab.research.google.com/github/nj19861/CE888/blob/main/Lab_7/Exercise2_DogvsCat_CNN.ipynb\" target=\"_parent\"><img src=\"https://colab.research.google.com/assets/colab-badge.svg\" alt=\"Open In Colab\"/></a>"
      ]
    },
    {
      "cell_type": "markdown",
      "metadata": {
        "id": "qTh9DiKVslsJ"
      },
      "source": [
        "## Dogs vs. Cats \n",
        "\n",
        "In this competition, you'll write an algorithm to classify whether images contain either a dog or a cat.  This is easy for humans, dogs, and cats. Your computer will find it a bit more difficult.\n",
        "\n",
        "![alt text](https://miro.medium.com/max/3000/1*bhFifratH9DjKqMBTeQG5A.gif)\n",
        "\n",
        "Ref: https://medium.com/@thegrigorian/rolling-in-the-deep-cnn-c8d3f7108c8c"
      ]
    },
    {
      "cell_type": "markdown",
      "metadata": {
        "id": "RSBI-_mSSY1g"
      },
      "source": [
        "Get your API Key from Kaggle using following steps:\n",
        "1. Login to [Kaggle](https://www.kaggle.com/) or Register if you don't have account\n",
        "2. Open Dataset (https://www.kaggle.com/c/dogs-vs-cats/rules) and accept terms and condition. \n",
        "3. On the top right corner click on your Icon and go to accounts and press a button \"Create New API Token\". It will download a JSON file containing your username and key. \n",
        "4. Now, paste both below. \n"
      ]
    },
    {
      "cell_type": "code",
      "metadata": {
        "id": "YmXSOc0tZIGA",
        "colab": {
          "base_uri": "https://localhost:8080/"
        },
        "outputId": "e3b9d21b-d15d-4e38-8727-60c1f55d960e"
      },
      "source": [
        "import os\n",
        "os.environ['KAGGLE_USERNAME'] = \"nuttachaijermpayong\" # username from the json file\n",
        "os.environ['KAGGLE_KEY'] = \"02ff30f5589f0274b6d1ef6efb0c2bab\" # key from the json file\n",
        "!kaggle competitions download -c dogs-vs-cats # api copied from kaggle (https://www.kaggle.com/c/dogs-vs-cats/data)"
      ],
      "execution_count": 1,
      "outputs": [
        {
          "output_type": "stream",
          "text": [
            "Warning: Looks like you're using an outdated API Version, please consider updating (server 1.5.12 / client 1.5.4)\n",
            "Downloading test1.zip to /content\n",
            " 97% 264M/271M [00:03<00:00, 61.0MB/s]\n",
            "100% 271M/271M [00:03<00:00, 84.1MB/s]\n",
            "Downloading train.zip to /content\n",
            " 96% 522M/543M [00:03<00:00, 193MB/s]\n",
            "100% 543M/543M [00:03<00:00, 160MB/s]\n",
            "Downloading sampleSubmission.csv to /content\n",
            "  0% 0.00/86.8k [00:00<?, ?B/s]\n",
            "100% 86.8k/86.8k [00:00<00:00, 90.0MB/s]\n"
          ],
          "name": "stdout"
        }
      ]
    },
    {
      "cell_type": "code",
      "metadata": {
        "id": "PiwIL8d1n7eS",
        "colab": {
          "base_uri": "https://localhost:8080/"
        },
        "outputId": "6f7fbdd8-3412-4c46-81e1-1ccd04973419"
      },
      "source": [
        "# Unzip training data\n",
        "from zipfile import ZipFile\n",
        "file_name = \"/content/train.zip\"\n",
        "with ZipFile(file_name, 'r') as zip:\n",
        "  zip.extractall()\n",
        "  print('done')"
      ],
      "execution_count": 2,
      "outputs": [
        {
          "output_type": "stream",
          "text": [
            "done\n"
          ],
          "name": "stdout"
        }
      ]
    },
    {
      "cell_type": "code",
      "metadata": {
        "id": "sa2Bj5i7pPKV",
        "outputId": "1e7f3f72-58c7-45c0-a53a-3b2c6e366a36",
        "colab": {
          "base_uri": "https://localhost:8080/"
        }
      },
      "source": [
        "# Get all the paths\n",
        "data_dir_list = os.listdir('/content/train')\n",
        "#print(data_dir_list)\n",
        "path, dirs, files = next(os.walk(\"/content/train\"))\n",
        "file_count = len(files)\n",
        "print(file_count)"
      ],
      "execution_count": 3,
      "outputs": [
        {
          "output_type": "stream",
          "text": [
            "25000\n"
          ],
          "name": "stdout"
        }
      ]
    },
    {
      "cell_type": "code",
      "metadata": {
        "id": "0ERlHkfHqpK8"
      },
      "source": [
        "# Make new base directory\n",
        "original_dataset_dir = '/content/train'\n",
        "base_dir = '/content/cats_and_dogs_small'\n",
        "os.mkdir(base_dir)"
      ],
      "execution_count": 4,
      "outputs": []
    },
    {
      "cell_type": "code",
      "metadata": {
        "id": "AANB1UJ6rQhM"
      },
      "source": [
        "train_dir = os.path.join(base_dir, 'train')\n",
        "os.mkdir(train_dir)\n",
        "\n",
        "validation_dir = os.path.join(base_dir, 'validation')\n",
        "os.mkdir(validation_dir)\n",
        "\n",
        "test_dir = os.path.join(base_dir, 'test')\n",
        "os.mkdir(test_dir)\n",
        "\n",
        "train_cats_dir = os.path.join(train_dir, 'cats')\n",
        "os.mkdir(train_cats_dir)\n",
        "\n",
        "train_dogs_dir = os.path.join(train_dir, 'dogs')\n",
        "os.mkdir(train_dogs_dir)\n",
        "\n",
        "validation_cats_dir = os.path.join(validation_dir, 'cats')\n",
        "os.mkdir(validation_cats_dir)\n",
        "\n",
        "validation_dogs_dir = os.path.join(validation_dir, 'dogs')\n",
        "os.mkdir(validation_dogs_dir)\n",
        "\n",
        "test_cats_dir = os.path.join(test_dir, 'cats')\n",
        "os.mkdir(test_cats_dir)\n",
        "\n",
        "test_dogs_dir = os.path.join(test_dir, 'dogs')\n",
        "os.mkdir(test_dogs_dir)"
      ],
      "execution_count": 5,
      "outputs": []
    },
    {
      "cell_type": "code",
      "metadata": {
        "id": "ULRgL9s9rV8T"
      },
      "source": [
        "import shutil\n",
        "fnames = ['cat.{}.jpg'.format(i) for i in range(1000)]\n",
        "for fname in fnames:\n",
        "    src = os.path.join(original_dataset_dir, fname)\n",
        "    dst = os.path.join(train_cats_dir, fname)\n",
        "    #print(src,dst)\n",
        "    shutil.copyfile(src, dst)\n",
        "    \n",
        "fnames = ['cat.{}.jpg'.format(i) for i in range(1000, 1500)]\n",
        "for fname in fnames:\n",
        "    src = os.path.join(original_dataset_dir, fname)\n",
        "    dst = os.path.join(validation_cats_dir, fname)\n",
        "    shutil.copyfile(src, dst)\n",
        "\n",
        "fnames = ['cat.{}.jpg'.format(i) for i in range(1500, 2000)]\n",
        "for fname in fnames:\n",
        "    src = os.path.join(original_dataset_dir, fname)\n",
        "    dst = os.path.join(test_cats_dir, fname)\n",
        "    shutil.copyfile(src, dst)\n",
        "    \n",
        "fnames = ['dog.{}.jpg'.format(i) for i in range(1000)]\n",
        "for fname in fnames:\n",
        "    src = os.path.join(original_dataset_dir, fname)\n",
        "    dst = os.path.join(train_dogs_dir, fname)\n",
        "    shutil.copyfile(src, dst)\n",
        "\n",
        "fnames = ['dog.{}.jpg'.format(i) for i in range(1000, 1500)]\n",
        "for fname in fnames:\n",
        "    src = os.path.join(original_dataset_dir, fname)\n",
        "    dst = os.path.join(validation_dogs_dir, fname)\n",
        "    shutil.copyfile(src, dst)\n",
        "\n",
        "fnames = ['dog.{}.jpg'.format(i) for i in range(1500, 2000)]\n",
        "for fname in fnames:\n",
        "    src = os.path.join(original_dataset_dir, fname)\n",
        "    dst = os.path.join(test_dogs_dir, fname)\n",
        "    shutil.copyfile(src, dst)"
      ],
      "execution_count": 6,
      "outputs": []
    },
    {
      "cell_type": "code",
      "metadata": {
        "id": "ul3XAbIyr7vC",
        "colab": {
          "base_uri": "https://localhost:8080/"
        },
        "outputId": "853ebf38-558e-4933-e3a1-f6952f65ffbd"
      },
      "source": [
        "print('total training cat images:', len(os.listdir(train_cats_dir)))\n",
        "print('total training dog images:', len(os.listdir(train_dogs_dir)))\n",
        "print('total validation cat images:', len(os.listdir(validation_cats_dir)))\n",
        "\n",
        "print('total validation dog images:', len(os.listdir(validation_dogs_dir)))\n",
        "print('total test cat images:', len(os.listdir(test_cats_dir)))\n",
        "print('total test dog images:', len(os.listdir(test_dogs_dir)))"
      ],
      "execution_count": 7,
      "outputs": [
        {
          "output_type": "stream",
          "text": [
            "total training cat images: 1000\n",
            "total training dog images: 1000\n",
            "total validation cat images: 500\n",
            "total validation dog images: 500\n",
            "total test cat images: 500\n",
            "total test dog images: 500\n"
          ],
          "name": "stdout"
        }
      ]
    },
    {
      "cell_type": "code",
      "metadata": {
        "id": "o9yTA21_r-ma",
        "colab": {
          "base_uri": "https://localhost:8080/"
        },
        "outputId": "f2347952-9965-4875-85e5-53de26b10815"
      },
      "source": [
        "from keras import layers\n",
        "from keras import models\n",
        "\n",
        "model = models.Sequential()\n",
        "model.add(layers.Conv2D(32, (3, 3), activation='relu', input_shape=(150, 150, 3)))\n",
        "model.add(layers.MaxPooling2D((2, 2)))\n",
        "model.add(layers.Conv2D(64, (3, 3), activation='relu'))\n",
        "model.add(layers.MaxPooling2D((2, 2)))\n",
        "model.add(layers.Conv2D(128, (3, 3), activation='relu'))\n",
        "model.add(layers.MaxPooling2D((2, 2)))\n",
        "model.add(layers.Conv2D(128, (3, 3), activation='relu'))\n",
        "model.add(layers.MaxPooling2D((2, 2)))\n",
        "model.add(layers.Flatten())\n",
        "model.add(layers.Dense(512, activation='relu'))\n",
        "model.add(layers.Dense(1, activation='sigmoid'))\n",
        "model.summary()"
      ],
      "execution_count": 8,
      "outputs": [
        {
          "output_type": "stream",
          "text": [
            "Model: \"sequential\"\n",
            "_________________________________________________________________\n",
            "Layer (type)                 Output Shape              Param #   \n",
            "=================================================================\n",
            "conv2d (Conv2D)              (None, 148, 148, 32)      896       \n",
            "_________________________________________________________________\n",
            "max_pooling2d (MaxPooling2D) (None, 74, 74, 32)        0         \n",
            "_________________________________________________________________\n",
            "conv2d_1 (Conv2D)            (None, 72, 72, 64)        18496     \n",
            "_________________________________________________________________\n",
            "max_pooling2d_1 (MaxPooling2 (None, 36, 36, 64)        0         \n",
            "_________________________________________________________________\n",
            "conv2d_2 (Conv2D)            (None, 34, 34, 128)       73856     \n",
            "_________________________________________________________________\n",
            "max_pooling2d_2 (MaxPooling2 (None, 17, 17, 128)       0         \n",
            "_________________________________________________________________\n",
            "conv2d_3 (Conv2D)            (None, 15, 15, 128)       147584    \n",
            "_________________________________________________________________\n",
            "max_pooling2d_3 (MaxPooling2 (None, 7, 7, 128)         0         \n",
            "_________________________________________________________________\n",
            "flatten (Flatten)            (None, 6272)              0         \n",
            "_________________________________________________________________\n",
            "dense (Dense)                (None, 512)               3211776   \n",
            "_________________________________________________________________\n",
            "dense_1 (Dense)              (None, 1)                 513       \n",
            "=================================================================\n",
            "Total params: 3,453,121\n",
            "Trainable params: 3,453,121\n",
            "Non-trainable params: 0\n",
            "_________________________________________________________________\n"
          ],
          "name": "stdout"
        }
      ]
    },
    {
      "cell_type": "code",
      "metadata": {
        "id": "2mG8wekxsBVS"
      },
      "source": [
        "from keras import optimizers\n",
        "model.compile(loss='binary_crossentropy', \n",
        "              optimizer=optimizers.RMSprop(lr=1e-4),\n",
        "              metrics=['acc'])"
      ],
      "execution_count": 9,
      "outputs": []
    },
    {
      "cell_type": "markdown",
      "metadata": {
        "id": "7zS4Klm8qWp6"
      },
      "source": [
        "## Using ImageDataGenerator to read images from directories\n",
        "As you know by now, data should be formatted into appropriately preprocessed floatingpoint tensors before being fed into the network. Currently, the data sits on a drive as JPEG files, so the steps for getting it into the network are roughly as follows:\n",
        "\n",
        "* Read the picture files.\n",
        "* Decode the JPEG content to RGB grids of pixels.\n",
        "* Convert these into floating-point tensors.\n",
        "* Rescale the pixel values (between 0 and 255) to the [0, 1] interval (as you know, neural networks prefer to deal with small input values).\n",
        "\n",
        "It may seem a bit daunting, but fortunately Keras has utilities to take care of these steps automatically. Keras has a module with image-processing helper tools, located at keras.preprocessing.image. In particular, it contains the class ImageDataGenerator,which lets you quickly set up Python generators that can automatically turn image files on disk into batches of preprocessed tensors."
      ]
    },
    {
      "cell_type": "code",
      "metadata": {
        "id": "XJ7XU7t9sEh6",
        "colab": {
          "base_uri": "https://localhost:8080/"
        },
        "outputId": "433caea7-110b-425b-a2eb-9a467a573a8b"
      },
      "source": [
        "from keras.preprocessing.image import ImageDataGenerator\n",
        "\n",
        "train_datagen = ImageDataGenerator(rescale=1./255)\n",
        "test_datagen = ImageDataGenerator(rescale=1./255)\n",
        "\n",
        "train_generator = train_datagen.flow_from_directory(train_dir,\n",
        "                                                    target_size=(150, 150), \n",
        "                                                    batch_size=20,\n",
        "                                                    class_mode='binary')\n",
        "\n",
        "validation_generator = test_datagen.flow_from_directory(validation_dir,\n",
        "                                                        target_size=(150, 150),\n",
        "                                                        batch_size=20,\n",
        "                                                        class_mode='binary')"
      ],
      "execution_count": 10,
      "outputs": [
        {
          "output_type": "stream",
          "text": [
            "Found 2000 images belonging to 2 classes.\n",
            "Found 1000 images belonging to 2 classes.\n"
          ],
          "name": "stdout"
        }
      ]
    },
    {
      "cell_type": "markdown",
      "metadata": {
        "id": "SEgLywySqm4u"
      },
      "source": [
        "Let’s fit the model to the data using the generator. You do so using the fit_generator method, the equivalent of fit for data generators like this one. It expects as its first argument a Python generator that will yield batches of inputs and targets indefinitely,like this one does. Because the data is being generated endlessly, the Keras model needs to know how many samples to draw from the generator before declaring anepoch over. This is the role of the `steps_per_epoch` argument: after having drawn `steps_per_epoch` batches from the generator—that is, after having run for `steps_per_epoch` gradient descent steps—the fitting process will go to the next epoch. In this case, batches are 20 samples, so it will take 100 batches until you see your target of 2,000 samples.\n",
        "\n",
        "When using fit_generator, you can pass a validation_data argument, much as with the fit method. It’s important to note that this argument is allowed to be a data generator, but it could also be a tuple of Numpy arrays. If you pass a generator as validation_data, then this generator is expected to yield batches of validation data endlessly; thus you should also specify the validation_steps argument, which tells the process how many batches to draw from the validation generator for evaluation."
      ]
    },
    {
      "cell_type": "code",
      "metadata": {
        "id": "yMyfPphJsJG6",
        "colab": {
          "base_uri": "https://localhost:8080/"
        },
        "outputId": "339d24ea-6167-498f-943b-aa591e65f0ad"
      },
      "source": [
        "history = model.fit_generator(train_generator,\n",
        "                              steps_per_epoch=100,\n",
        "                              epochs=30,\n",
        "                              validation_data=validation_generator,\n",
        "                              validation_steps=10)"
      ],
      "execution_count": 11,
      "outputs": [
        {
          "output_type": "stream",
          "text": [
            "/usr/local/lib/python3.7/dist-packages/tensorflow/python/keras/engine/training.py:1844: UserWarning: `Model.fit_generator` is deprecated and will be removed in a future version. Please use `Model.fit`, which supports generators.\n",
            "  warnings.warn('`Model.fit_generator` is deprecated and '\n"
          ],
          "name": "stderr"
        },
        {
          "output_type": "stream",
          "text": [
            "Epoch 1/30\n",
            "100/100 [==============================] - 40s 66ms/step - loss: 0.6933 - acc: 0.5207 - val_loss: 0.6759 - val_acc: 0.5400\n",
            "Epoch 2/30\n",
            "100/100 [==============================] - 7s 66ms/step - loss: 0.6583 - acc: 0.5941 - val_loss: 0.6569 - val_acc: 0.5700\n",
            "Epoch 3/30\n",
            "100/100 [==============================] - 6s 64ms/step - loss: 0.5999 - acc: 0.6736 - val_loss: 0.6322 - val_acc: 0.6350\n",
            "Epoch 4/30\n",
            "100/100 [==============================] - 6s 64ms/step - loss: 0.5638 - acc: 0.7065 - val_loss: 0.5854 - val_acc: 0.6850\n",
            "Epoch 5/30\n",
            "100/100 [==============================] - 6s 64ms/step - loss: 0.5359 - acc: 0.7149 - val_loss: 0.6346 - val_acc: 0.6350\n",
            "Epoch 6/30\n",
            "100/100 [==============================] - 6s 64ms/step - loss: 0.5040 - acc: 0.7511 - val_loss: 0.5674 - val_acc: 0.6900\n",
            "Epoch 7/30\n",
            "100/100 [==============================] - 6s 64ms/step - loss: 0.4697 - acc: 0.7775 - val_loss: 0.5276 - val_acc: 0.7250\n",
            "Epoch 8/30\n",
            "100/100 [==============================] - 6s 64ms/step - loss: 0.4575 - acc: 0.7808 - val_loss: 0.5515 - val_acc: 0.7000\n",
            "Epoch 9/30\n",
            "100/100 [==============================] - 6s 63ms/step - loss: 0.4324 - acc: 0.8059 - val_loss: 0.4838 - val_acc: 0.7600\n",
            "Epoch 10/30\n",
            "100/100 [==============================] - 6s 65ms/step - loss: 0.4109 - acc: 0.8185 - val_loss: 0.5268 - val_acc: 0.7450\n",
            "Epoch 11/30\n",
            "100/100 [==============================] - 6s 64ms/step - loss: 0.3746 - acc: 0.8323 - val_loss: 0.4998 - val_acc: 0.7500\n",
            "Epoch 12/30\n",
            "100/100 [==============================] - 7s 65ms/step - loss: 0.3567 - acc: 0.8422 - val_loss: 0.5903 - val_acc: 0.7300\n",
            "Epoch 13/30\n",
            "100/100 [==============================] - 6s 64ms/step - loss: 0.3432 - acc: 0.8450 - val_loss: 0.4709 - val_acc: 0.7600\n",
            "Epoch 14/30\n",
            "100/100 [==============================] - 6s 64ms/step - loss: 0.3271 - acc: 0.8563 - val_loss: 0.6316 - val_acc: 0.7100\n",
            "Epoch 15/30\n",
            "100/100 [==============================] - 6s 64ms/step - loss: 0.3072 - acc: 0.8702 - val_loss: 0.6052 - val_acc: 0.7250\n",
            "Epoch 16/30\n",
            "100/100 [==============================] - 6s 64ms/step - loss: 0.2843 - acc: 0.8869 - val_loss: 0.6401 - val_acc: 0.7300\n",
            "Epoch 17/30\n",
            "100/100 [==============================] - 6s 64ms/step - loss: 0.2484 - acc: 0.9044 - val_loss: 0.4901 - val_acc: 0.7750\n",
            "Epoch 18/30\n",
            "100/100 [==============================] - 6s 64ms/step - loss: 0.2368 - acc: 0.8985 - val_loss: 0.4934 - val_acc: 0.7900\n",
            "Epoch 19/30\n",
            "100/100 [==============================] - 6s 64ms/step - loss: 0.2096 - acc: 0.9198 - val_loss: 0.6039 - val_acc: 0.7450\n",
            "Epoch 20/30\n",
            "100/100 [==============================] - 6s 64ms/step - loss: 0.1914 - acc: 0.9225 - val_loss: 0.6320 - val_acc: 0.7350\n",
            "Epoch 21/30\n",
            "100/100 [==============================] - 6s 65ms/step - loss: 0.1609 - acc: 0.9495 - val_loss: 0.7270 - val_acc: 0.7450\n",
            "Epoch 22/30\n",
            "100/100 [==============================] - 6s 64ms/step - loss: 0.1593 - acc: 0.9423 - val_loss: 0.7651 - val_acc: 0.7250\n",
            "Epoch 23/30\n",
            "100/100 [==============================] - 6s 64ms/step - loss: 0.1307 - acc: 0.9594 - val_loss: 0.7338 - val_acc: 0.6850\n",
            "Epoch 24/30\n",
            "100/100 [==============================] - 6s 64ms/step - loss: 0.1212 - acc: 0.9579 - val_loss: 0.6556 - val_acc: 0.7800\n",
            "Epoch 25/30\n",
            "100/100 [==============================] - 6s 64ms/step - loss: 0.1184 - acc: 0.9651 - val_loss: 0.6177 - val_acc: 0.7150\n",
            "Epoch 26/30\n",
            "100/100 [==============================] - 6s 64ms/step - loss: 0.0838 - acc: 0.9762 - val_loss: 1.0003 - val_acc: 0.6600\n",
            "Epoch 27/30\n",
            "100/100 [==============================] - 6s 65ms/step - loss: 0.0930 - acc: 0.9700 - val_loss: 0.6382 - val_acc: 0.7500\n",
            "Epoch 28/30\n",
            "100/100 [==============================] - 7s 66ms/step - loss: 0.0598 - acc: 0.9822 - val_loss: 0.8024 - val_acc: 0.7300\n",
            "Epoch 29/30\n",
            "100/100 [==============================] - 7s 66ms/step - loss: 0.0570 - acc: 0.9843 - val_loss: 0.9573 - val_acc: 0.7250\n",
            "Epoch 30/30\n",
            "100/100 [==============================] - 7s 67ms/step - loss: 0.0494 - acc: 0.9875 - val_loss: 1.0282 - val_acc: 0.6950\n"
          ],
          "name": "stdout"
        }
      ]
    },
    {
      "cell_type": "code",
      "metadata": {
        "id": "MZaZ2HWZsNUi",
        "colab": {
          "base_uri": "https://localhost:8080/",
          "height": 545
        },
        "outputId": "588f81f8-1204-43a8-de69-199c42e12f81"
      },
      "source": [
        "model.save('cats_and_dogs_small_1.h5')\n",
        "\n",
        "import matplotlib.pyplot as plt\n",
        "\n",
        "acc = history.history['acc']\n",
        "val_acc = history.history['val_acc']\n",
        "loss = history.history['loss']\n",
        "val_loss = history.history['val_loss']\n",
        "\n",
        "epochs = range(1, len(acc) + 1)\n",
        "\n",
        "plt.plot(epochs, acc, 'bo', label='Training acc')\n",
        "plt.plot(epochs, val_acc, 'b', label='Validation acc')\n",
        "plt.title('Training and validation accuracy')\n",
        "plt.legend()\n",
        "\n",
        "plt.figure()\n",
        "\n",
        "plt.plot(epochs, loss, 'bo', label='Training loss')\n",
        "plt.plot(epochs, val_loss, 'b', label='Validation loss')\n",
        "plt.title('Training and validation loss')\n",
        "plt.legend()\n",
        "\n",
        "plt.show()"
      ],
      "execution_count": 12,
      "outputs": [
        {
          "output_type": "display_data",
          "data": {
            "image/png": "[encoded data removed]",
            "text/plain": [
              "<Figure size 432x288 with 1 Axes>"
            ]
          },
          "metadata": {
            "tags": [],
            "needs_background": "light"
          }
        },
        {
          "output_type": "display_data",
          "data": {
            "image/png": "[encoded data removed]",
            "text/plain": [
              "<Figure size 432x288 with 1 Axes>"
            ]
          },
          "metadata": {
            "tags": [],
            "needs_background": "light"
          }
        }
      ]
    },
    {
      "cell_type": "markdown",
      "metadata": {
        "id": "XKZmXmBcq_8-"
      },
      "source": [
        "## Convolutional Networks with Dropout\n",
        "\n",
        "![alt text](https://camo.githubusercontent.com/ee6fa1073247cd2c3d241300caf110d7a7541bc5/68747470733a2f2f63646e2d696d616765732d312e6d656469756d2e636f6d2f6d61782f3830302f312a4972644a355067684439596f4f7956415137334d4a772e676966)\n",
        "\n",
        "Ref: https://github.com/mneha4/Training-Neural-Nets---Guidelines"
      ]
    },
    {
      "cell_type": "code",
      "metadata": {
        "id": "wu3cqeYQrDeN",
        "colab": {
          "base_uri": "https://localhost:8080/",
          "height": 128
        },
        "outputId": "6d0496d8-2548-4bab-e5b4-95d684ab5c20"
      },
      "source": [
        "model = models.Sequential()\n",
        "model.add(layers.Conv2D(32, (3, 3), activation='relu',\n",
        "input_shape=(150, 150, 3)))\n",
        "model.add(layers.MaxPooling2D((2, 2)))\n",
        "model.add(layers.Conv2D(64, (3, 3), activation='relu'))\n",
        "model.add(layers.MaxPooling2D((2, 2)))\n",
        "model.add(layers.Conv2D(128, (3, 3), activation='relu'))\n",
        "model.add(layers.MaxPooling2D((2, 2)))\n",
        "model.add(layers.Conv2D(128, (3, 3), activation='relu'))\n",
        "model.add(layers.MaxPooling2D((2, 2)))\n",
        "model.add(layers.Flatten())\n",
        "model.add(layers.Dropout(0.5))\n",
        "model.add(layers.Dense(512, activation='relu'))\n",
        "model.add(layers.Dense(1, activation='sigmoid'))\n",
        "\n",
        "model.compile(loss='binary_crossentropy',\n",
        "              optimizer=optimizers.RMSprop(lr=1e-4),\n",
        "              metrics=['acc'])"
      ],
      "execution_count": null,
      "outputs": [
        {
          "output_type": "stream",
          "text": [
            "WARNING:tensorflow:From /usr/local/lib/python3.6/dist-packages/keras/backend/tensorflow_backend.py:148: The name tf.placeholder_with_default is deprecated. Please use tf.compat.v1.placeholder_with_default instead.\n",
            "\n",
            "WARNING:tensorflow:From /usr/local/lib/python3.6/dist-packages/keras/backend/tensorflow_backend.py:3733: calling dropout (from tensorflow.python.ops.nn_ops) with keep_prob is deprecated and will be removed in a future version.\n",
            "Instructions for updating:\n",
            "Please use `rate` instead of `keep_prob`. Rate should be set to `rate = 1 - keep_prob`.\n"
          ],
          "name": "stdout"
        }
      ]
    },
    {
      "cell_type": "code",
      "metadata": {
        "id": "QSeLpvY0rH7F",
        "colab": {
          "base_uri": "https://localhost:8080/",
          "height": 781
        },
        "outputId": "a3b3a41b-bd03-4e45-c55a-61f8bcaeeb81"
      },
      "source": [
        "\n",
        "train_datagen = ImageDataGenerator(rescale=1./255,\n",
        "                                   rotation_range=40,\n",
        "                                   width_shift_range=0.2,\n",
        "                                   height_shift_range=0.2,\n",
        "                                   shear_range=0.2,\n",
        "                                   zoom_range=0.2,\n",
        "                                   horizontal_flip=True,)\n",
        "\n",
        "test_datagen = ImageDataGenerator(rescale=1./255)\n",
        "\n",
        "train_generator = train_datagen.flow_from_directory(train_dir,\n",
        "                                                    target_size=(150, 150),\n",
        "                                                    batch_size=32,\n",
        "                                                    class_mode='binary')\n",
        "\n",
        "validation_generator = test_datagen.flow_from_directory(validation_dir,\n",
        "                                                        target_size=(150, 150),\n",
        "                                                        batch_size=32,\n",
        "                                                        class_mode='binary')\n",
        "\n",
        "history = model.fit_generator(train_generator,\n",
        "                              steps_per_epoch=100,\n",
        "                              epochs=20,\n",
        "                              validation_data=validation_generator,\n",
        "                              validation_steps=50)"
      ],
      "execution_count": null,
      "outputs": [
        {
          "output_type": "stream",
          "text": [
            "Found 2000 images belonging to 2 classes.\n",
            "Found 1000 images belonging to 2 classes.\n",
            "Epoch 1/20\n",
            "100/100 [==============================] - 28s 283ms/step - loss: 0.6914 - acc: 0.5253 - val_loss: 0.6761 - val_acc: 0.5863\n",
            "Epoch 2/20\n",
            "100/100 [==============================] - 26s 255ms/step - loss: 0.6768 - acc: 0.5747 - val_loss: 0.6847 - val_acc: 0.5329\n",
            "Epoch 3/20\n",
            "100/100 [==============================] - 25s 255ms/step - loss: 0.6584 - acc: 0.5994 - val_loss: 0.6360 - val_acc: 0.6218\n",
            "Epoch 4/20\n",
            "100/100 [==============================] - 26s 257ms/step - loss: 0.6418 - acc: 0.6203 - val_loss: 0.6241 - val_acc: 0.6360\n",
            "Epoch 5/20\n",
            "100/100 [==============================] - 24s 244ms/step - loss: 0.6258 - acc: 0.6591 - val_loss: 0.6043 - val_acc: 0.6574\n",
            "Epoch 6/20\n",
            "100/100 [==============================] - 27s 273ms/step - loss: 0.6127 - acc: 0.6716 - val_loss: 0.6135 - val_acc: 0.6347\n",
            "Epoch 7/20\n",
            "100/100 [==============================] - 25s 254ms/step - loss: 0.5978 - acc: 0.6697 - val_loss: 0.5825 - val_acc: 0.7030\n",
            "Epoch 8/20\n",
            "100/100 [==============================] - 26s 256ms/step - loss: 0.5959 - acc: 0.6716 - val_loss: 0.5781 - val_acc: 0.6823\n",
            "Epoch 9/20\n",
            "100/100 [==============================] - 26s 257ms/step - loss: 0.5825 - acc: 0.6825 - val_loss: 0.5569 - val_acc: 0.7075\n",
            "Epoch 10/20\n",
            "100/100 [==============================] - 25s 248ms/step - loss: 0.5676 - acc: 0.7019 - val_loss: 0.6232 - val_acc: 0.6688\n",
            "Epoch 11/20\n",
            "100/100 [==============================] - 26s 265ms/step - loss: 0.5605 - acc: 0.7131 - val_loss: 0.5794 - val_acc: 0.6927\n",
            "Epoch 12/20\n",
            "100/100 [==============================] - 26s 256ms/step - loss: 0.5599 - acc: 0.7119 - val_loss: 0.5584 - val_acc: 0.7081\n",
            "Epoch 13/20\n",
            "100/100 [==============================] - 26s 256ms/step - loss: 0.5504 - acc: 0.7144 - val_loss: 0.5239 - val_acc: 0.7255\n",
            "Epoch 14/20\n",
            "100/100 [==============================] - 26s 256ms/step - loss: 0.5488 - acc: 0.7237 - val_loss: 0.5194 - val_acc: 0.7329\n",
            "Epoch 15/20\n",
            "100/100 [==============================] - 25s 254ms/step - loss: 0.5414 - acc: 0.7213 - val_loss: 0.5356 - val_acc: 0.7281\n",
            "Epoch 16/20\n",
            "100/100 [==============================] - 26s 256ms/step - loss: 0.5476 - acc: 0.7191 - val_loss: 0.5284 - val_acc: 0.7152\n",
            "Epoch 17/20\n",
            "100/100 [==============================] - 24s 241ms/step - loss: 0.5275 - acc: 0.7359 - val_loss: 0.5230 - val_acc: 0.7449\n",
            "Epoch 18/20\n",
            "100/100 [==============================] - 28s 280ms/step - loss: 0.5347 - acc: 0.7287 - val_loss: 0.5681 - val_acc: 0.6888\n",
            "Epoch 19/20\n",
            "100/100 [==============================] - 25s 254ms/step - loss: 0.5164 - acc: 0.7406 - val_loss: 0.5079 - val_acc: 0.7379\n",
            "Epoch 20/20\n",
            "100/100 [==============================] - 26s 256ms/step - loss: 0.5319 - acc: 0.7322 - val_loss: 0.4991 - val_acc: 0.7506\n"
          ],
          "name": "stdout"
        }
      ]
    },
    {
      "cell_type": "markdown",
      "metadata": {
        "id": "BRdU5yrkUF_b"
      },
      "source": [
        "# Task 2:\n",
        "\n",
        "We have used Dropout to enhance the performance of the CNN model. Can you please use whatever you like to further enhance the performance from `val_acc: 0.7506`? "
      ]
    },
    {
      "cell_type": "code",
      "metadata": {
        "id": "BT96Si3ucxST"
      },
      "source": [
        "from keras import regularizers\n",
        "\n",
        "\n",
        "model = models.Sequential()\n",
        "model.add(layers.Conv2D(32, (3, 3), activation='relu',kernel_regularizer =regularizers.l1( l1=0.01),\n",
        "input_shape=(150, 150, 3)))\n",
        "model.add(layers.MaxPooling2D((2, 2)))\n",
        "model.add(layers.Conv2D(64, (3, 3), activation='relu',kernel_regularizer =regularizers.l1( l1=0.01)))\n",
        "model.add(layers.BatchNormalization())\n",
        "\n",
        "model.add(layers.MaxPooling2D((2, 2)))\n",
        "model.add(layers.Conv2D(128, (3, 3), activation='relu',kernel_regularizer =regularizers.l1( l1=0.01)))\n",
        "model.add(layers.BatchNormalization())\n",
        "\n",
        "model.add(layers.MaxPooling2D((2, 2)))\n",
        "model.add(layers.Conv2D(128, (3, 3), activation='relu',kernel_regularizer =regularizers.l1( l1=0.01)))\n",
        "model.add(layers.BatchNormalization())\n",
        "\n",
        "model.add(layers.MaxPooling2D((2, 2)))\n",
        "#model.add(layers.GlobalAveragePooling2D())\n",
        "model.add(layers.Flatten())\n",
        "model.add(layers.Dropout(0.5))\n",
        "model.add(layers.Dense(512, activation='relu'))\n",
        "model.add(layers.Dense(1, activation='sigmoid'))\n",
        "\n",
        "model.compile(loss='binary_crossentropy',\n",
        "               optimizer=optimizers.RMSprop(lr=1e-4),\n",
        "              metrics=['acc'])"
      ],
      "execution_count": 64,
      "outputs": []
    },
    {
      "cell_type": "code",
      "metadata": {
        "id": "p8xVzrMWng_i",
        "outputId": "1858c029-eb09-435e-abd8-9c1134788117",
        "colab": {
          "base_uri": "https://localhost:8080/"
        }
      },
      "source": [
        "model.summary()"
      ],
      "execution_count": 65,
      "outputs": [
        {
          "output_type": "stream",
          "text": [
            "Model: \"sequential_29\"\n",
            "_________________________________________________________________\n",
            "Layer (type)                 Output Shape              Param #   \n",
            "=================================================================\n",
            "conv2d_87 (Conv2D)           (None, 148, 148, 32)      896       \n",
            "_________________________________________________________________\n",
            "max_pooling2d_82 (MaxPooling (None, 74, 74, 32)        0         \n",
            "_________________________________________________________________\n",
            "conv2d_88 (Conv2D)           (None, 72, 72, 64)        18496     \n",
            "_________________________________________________________________\n",
            "batch_normalization_37 (Batc (None, 72, 72, 64)        256       \n",
            "_________________________________________________________________\n",
            "max_pooling2d_83 (MaxPooling (None, 36, 36, 64)        0         \n",
            "_________________________________________________________________\n",
            "conv2d_89 (Conv2D)           (None, 34, 34, 128)       73856     \n",
            "_________________________________________________________________\n",
            "batch_normalization_38 (Batc (None, 34, 34, 128)       512       \n",
            "_________________________________________________________________\n",
            "max_pooling2d_84 (MaxPooling (None, 17, 17, 128)       0         \n",
            "_________________________________________________________________\n",
            "conv2d_90 (Conv2D)           (None, 15, 15, 128)       147584    \n",
            "_________________________________________________________________\n",
            "batch_normalization_39 (Batc (None, 15, 15, 128)       512       \n",
            "_________________________________________________________________\n",
            "max_pooling2d_85 (MaxPooling (None, 7, 7, 128)         0         \n",
            "_________________________________________________________________\n",
            "flatten_16 (Flatten)         (None, 6272)              0         \n",
            "_________________________________________________________________\n",
            "dropout_25 (Dropout)         (None, 6272)              0         \n",
            "_________________________________________________________________\n",
            "dense_34 (Dense)             (None, 512)               3211776   \n",
            "_________________________________________________________________\n",
            "dense_35 (Dense)             (None, 1)                 513       \n",
            "=================================================================\n",
            "Total params: 3,454,401\n",
            "Trainable params: 3,453,761\n",
            "Non-trainable params: 640\n",
            "_________________________________________________________________\n"
          ],
          "name": "stdout"
        }
      ]
    },
    {
      "cell_type": "code",
      "metadata": {
        "id": "7wq0K-v5dcPX",
        "outputId": "8c6cf321-ff5f-4644-bc6e-57188b9eb5fd",
        "colab": {
          "base_uri": "https://localhost:8080/"
        }
      },
      "source": [
        "history = model.fit_generator(train_generator,\n",
        "                              steps_per_epoch=100,\n",
        "                              epochs=40,\n",
        "                              validation_data=validation_generator,\n",
        "                              validation_steps=50)"
      ],
      "execution_count": 66,
      "outputs": [
        {
          "output_type": "stream",
          "text": [
            "/usr/local/lib/python3.7/dist-packages/tensorflow/python/keras/engine/training.py:1844: UserWarning: `Model.fit_generator` is deprecated and will be removed in a future version. Please use `Model.fit`, which supports generators.\n",
            "  warnings.warn('`Model.fit_generator` is deprecated and '\n"
          ],
          "name": "stderr"
        },
        {
          "output_type": "stream",
          "text": [
            "Epoch 1/40\n",
            "100/100 [==============================] - 10s 88ms/step - loss: 66.2898 - acc: 0.5461 - val_loss: 59.1297 - val_acc: 0.5000\n",
            "Epoch 2/40\n",
            "100/100 [==============================] - 9s 87ms/step - loss: 56.7634 - acc: 0.6960 - val_loss: 50.2625 - val_acc: 0.5860\n",
            "Epoch 3/40\n",
            "100/100 [==============================] - 9s 90ms/step - loss: 48.0398 - acc: 0.7725 - val_loss: 42.3475 - val_acc: 0.5330\n",
            "Epoch 4/40\n",
            "100/100 [==============================] - 9s 87ms/step - loss: 40.1327 - acc: 0.8180 - val_loss: 36.3603 - val_acc: 0.5130\n",
            "Epoch 5/40\n",
            "100/100 [==============================] - 9s 87ms/step - loss: 33.5332 - acc: 0.8421 - val_loss: 30.0441 - val_acc: 0.5910\n",
            "Epoch 6/40\n",
            "100/100 [==============================] - 9s 88ms/step - loss: 28.1104 - acc: 0.8714 - val_loss: 25.4767 - val_acc: 0.6330\n",
            "Epoch 7/40\n",
            "100/100 [==============================] - 9s 87ms/step - loss: 23.8582 - acc: 0.8674 - val_loss: 21.6898 - val_acc: 0.7060\n",
            "Epoch 8/40\n",
            "100/100 [==============================] - 9s 87ms/step - loss: 20.5073 - acc: 0.8851 - val_loss: 19.0204 - val_acc: 0.6380\n",
            "Epoch 9/40\n",
            "100/100 [==============================] - 9s 88ms/step - loss: 17.6648 - acc: 0.9124 - val_loss: 16.4930 - val_acc: 0.6930\n",
            "Epoch 10/40\n",
            "100/100 [==============================] - 9s 87ms/step - loss: 15.4386 - acc: 0.9145 - val_loss: 14.4720 - val_acc: 0.7150\n",
            "Epoch 11/40\n",
            "100/100 [==============================] - 9s 87ms/step - loss: 13.5686 - acc: 0.9172 - val_loss: 12.8216 - val_acc: 0.7170\n",
            "Epoch 12/40\n",
            "100/100 [==============================] - 9s 87ms/step - loss: 11.9323 - acc: 0.9294 - val_loss: 11.4628 - val_acc: 0.7130\n",
            "Epoch 13/40\n",
            "100/100 [==============================] - 9s 87ms/step - loss: 10.5959 - acc: 0.9289 - val_loss: 10.3787 - val_acc: 0.6910\n",
            "Epoch 14/40\n",
            "100/100 [==============================] - 9s 86ms/step - loss: 9.5052 - acc: 0.9293 - val_loss: 9.2706 - val_acc: 0.7300\n",
            "Epoch 15/40\n",
            "100/100 [==============================] - 9s 87ms/step - loss: 8.5187 - acc: 0.9367 - val_loss: 8.5988 - val_acc: 0.7200\n",
            "Epoch 16/40\n",
            "100/100 [==============================] - 9s 88ms/step - loss: 7.7642 - acc: 0.9329 - val_loss: 7.7331 - val_acc: 0.7210\n",
            "Epoch 17/40\n",
            "100/100 [==============================] - 9s 86ms/step - loss: 7.0568 - acc: 0.9236 - val_loss: 7.1215 - val_acc: 0.7440\n",
            "Epoch 18/40\n",
            "100/100 [==============================] - 9s 86ms/step - loss: 6.4308 - acc: 0.9374 - val_loss: 6.6281 - val_acc: 0.7200\n",
            "Epoch 19/40\n",
            "100/100 [==============================] - 9s 87ms/step - loss: 5.9482 - acc: 0.9255 - val_loss: 6.1660 - val_acc: 0.7140\n",
            "Epoch 20/40\n",
            "100/100 [==============================] - 9s 89ms/step - loss: 5.4751 - acc: 0.9430 - val_loss: 5.7586 - val_acc: 0.7260\n",
            "Epoch 21/40\n",
            "100/100 [==============================] - 9s 89ms/step - loss: 5.1203 - acc: 0.9265 - val_loss: 5.4061 - val_acc: 0.7060\n",
            "Epoch 22/40\n",
            "100/100 [==============================] - 9s 88ms/step - loss: 4.6781 - acc: 0.9464 - val_loss: 5.0938 - val_acc: 0.7210\n",
            "Epoch 23/40\n",
            "100/100 [==============================] - 9s 87ms/step - loss: 4.3522 - acc: 0.9415 - val_loss: 4.7384 - val_acc: 0.7180\n",
            "Epoch 24/40\n",
            "100/100 [==============================] - 9s 87ms/step - loss: 4.0582 - acc: 0.9378 - val_loss: 4.6988 - val_acc: 0.7080\n",
            "Epoch 25/40\n",
            "100/100 [==============================] - 9s 87ms/step - loss: 3.7817 - acc: 0.9445 - val_loss: 4.3484 - val_acc: 0.6970\n",
            "Epoch 26/40\n",
            "100/100 [==============================] - 9s 87ms/step - loss: 3.5373 - acc: 0.9436 - val_loss: 4.0016 - val_acc: 0.7260\n",
            "Epoch 27/40\n",
            "100/100 [==============================] - 9s 87ms/step - loss: 3.3705 - acc: 0.9335 - val_loss: 3.8169 - val_acc: 0.6970\n",
            "Epoch 28/40\n",
            "100/100 [==============================] - 9s 87ms/step - loss: 3.1194 - acc: 0.9542 - val_loss: 3.7583 - val_acc: 0.7050\n",
            "Epoch 29/40\n",
            "100/100 [==============================] - 9s 87ms/step - loss: 2.9329 - acc: 0.9518 - val_loss: 3.5967 - val_acc: 0.7020\n",
            "Epoch 30/40\n",
            "100/100 [==============================] - 9s 86ms/step - loss: 2.7680 - acc: 0.9501 - val_loss: 3.3152 - val_acc: 0.7240\n",
            "Epoch 31/40\n",
            "100/100 [==============================] - 9s 88ms/step - loss: 2.5856 - acc: 0.9549 - val_loss: 3.1723 - val_acc: 0.7040\n",
            "Epoch 32/40\n",
            "100/100 [==============================] - 9s 88ms/step - loss: 2.4241 - acc: 0.9514 - val_loss: 3.0415 - val_acc: 0.7080\n",
            "Epoch 33/40\n",
            "100/100 [==============================] - 9s 88ms/step - loss: 2.2954 - acc: 0.9632 - val_loss: 2.8855 - val_acc: 0.7150\n",
            "Epoch 34/40\n",
            "100/100 [==============================] - 9s 88ms/step - loss: 2.1548 - acc: 0.9667 - val_loss: 2.7884 - val_acc: 0.7070\n",
            "Epoch 35/40\n",
            "100/100 [==============================] - 9s 90ms/step - loss: 2.0552 - acc: 0.9611 - val_loss: 2.6460 - val_acc: 0.7350\n",
            "Epoch 36/40\n",
            "100/100 [==============================] - 9s 87ms/step - loss: 1.9114 - acc: 0.9729 - val_loss: 2.6761 - val_acc: 0.7120\n",
            "Epoch 37/40\n",
            "100/100 [==============================] - 9s 86ms/step - loss: 1.8704 - acc: 0.9593 - val_loss: 2.5576 - val_acc: 0.7210\n",
            "Epoch 38/40\n",
            "100/100 [==============================] - 9s 87ms/step - loss: 1.7527 - acc: 0.9705 - val_loss: 2.4731 - val_acc: 0.7110\n",
            "Epoch 39/40\n",
            "100/100 [==============================] - 9s 87ms/step - loss: 1.6967 - acc: 0.9576 - val_loss: 2.3905 - val_acc: 0.7140\n",
            "Epoch 40/40\n",
            "100/100 [==============================] - 9s 88ms/step - loss: 1.6274 - acc: 0.9680 - val_loss: 2.3046 - val_acc: 0.7230\n"
          ],
          "name": "stdout"
        }
      ]
    }
  ]
}